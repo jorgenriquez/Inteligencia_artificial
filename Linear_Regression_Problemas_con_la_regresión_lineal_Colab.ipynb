{
  "cells": [
    {
      "cell_type": "markdown",
      "metadata": {
        "id": "view-in-github",
        "colab_type": "text"
      },
      "source": [
        "<a href=\"https://colab.research.google.com/github/jorgenriquez/Inteligencia_artificial/blob/main/Copia_de_T4_5_Linear_Regression_Problemas_con_la_regresi%C3%B3n_lineal_Colab.ipynb\" target=\"_parent\"><img src=\"https://colab.research.google.com/assets/colab-badge.svg\" alt=\"Open In Colab\"/></a>"
      ]
    },
    {
      "cell_type": "markdown",
      "metadata": {
        "id": "Q3Dg5n2yzzpx"
      },
      "source": [
        "<a href=\"https://colab.research.google.com/github/joanby/python-ml-course/blob/master/notebooks/T4%20-%205%20-%20Linear%20Regression%20-%20Problemas%20con%20la%20regresión%20lineal-Colab.ipynb\" target=\"_parent\"><img src=\"https://colab.research.google.com/assets/colab-badge.svg\" alt=\"Open In Colab\"/></a>"
      ]
    },
    {
      "cell_type": "markdown",
      "metadata": {
        "id": "jFyrCMRszzp0"
      },
      "source": [
        "# Clonamos el repositorio para obtener los dataSet"
      ]
    },
    {
      "cell_type": "code",
      "execution_count": 1,
      "metadata": {
        "id": "pSGqgfKdzzp1",
        "colab": {
          "base_uri": "https://localhost:8080/"
        },
        "outputId": "23f7625f-ccfe-465e-a7df-c228b57fd91e"
      },
      "outputs": [
        {
          "output_type": "stream",
          "name": "stdout",
          "text": [
            "Cloning into 'python-ml-course'...\n",
            "remote: Enumerating objects: 17776, done.\u001b[K\n",
            "remote: Counting objects: 100% (70/70), done.\u001b[K\n",
            "remote: Compressing objects: 100% (55/55), done.\u001b[K\n",
            "remote: Total 17776 (delta 17), reused 62 (delta 15), pack-reused 17706\u001b[K\n",
            "Receiving objects: 100% (17776/17776), 530.50 MiB | 15.49 MiB/s, done.\n",
            "Resolving deltas: 100% (350/350), done.\n",
            "Updating files: 100% (16940/16940), done.\n"
          ]
        }
      ],
      "source": [
        "!git clone https://github.com/joanby/python-ml-course.git"
      ]
    },
    {
      "cell_type": "markdown",
      "metadata": {
        "id": "0nIutfDvzzp2"
      },
      "source": [
        "# Damos acceso a nuestro Drive"
      ]
    },
    {
      "cell_type": "code",
      "execution_count": 2,
      "metadata": {
        "id": "X2OLevsfzzp2",
        "colab": {
          "base_uri": "https://localhost:8080/"
        },
        "outputId": "ecd2b14c-1eb7-4b08-c976-21e0b1a633ef"
      },
      "outputs": [
        {
          "output_type": "stream",
          "name": "stdout",
          "text": [
            "Mounted at /content/drive\n",
            "'01-FO-AB-18 NO OBLIGADOS A FACTURAR (V.03).docx'\n",
            "'01 Pista 1.mp3'\n",
            "'02-FO-AB-61_VERIFICACION_DOCUMENTOS_PAGO_CONTRATISTAS_CPSP- CPSAG.docx'\n",
            "'02 Pista 2.mp3'\n",
            "'03-FO-AB-19 INFORME DE ACTIVIDADES.docx'\n",
            "'03 Pista 3.mp3'\n",
            "'04-CERTIFICACION DEDUCCION RENTA.doc'\n",
            "'04 Pista 4.mp3'\n",
            "'05-CERTIFICACION RETEFUENTE.docx'\n",
            "'05 Pista 5.mp3'\n",
            "'06 Pista 6.mp3'\n",
            " 06-SISINONO.docx\n",
            "'07 Pista 7.mp3'\n",
            "'08 Pista 8.mp3'\n",
            "'09 Pista 9.mp3'\n",
            "'10 Pista 10.mp3'\n",
            "'1.4.2.3-90 VISITA PARES'\n",
            " 1_Pimentel_CODECTIS_StaMartaColombia_8oct2013_v2.pptx\n",
            " 1-s2.0-S096014812201641X-main.pdf\n",
            " 1-s2.0-S0960148123003257-main.pdf\n",
            " 20170526_090444.jpg\n",
            " 20170526_090528.jpg\n",
            " 20170526_090533.jpg\n",
            " 20170526_090619.jpg\n",
            " 20170526_090705.jpg\n",
            " 20170526_090706.mp4\n",
            " 20170526_090744.jpg\n",
            " 20170526_090746.jpg\n",
            " 20170526_091113.jpg\n",
            " 20170526_091115.jpg\n",
            " 20170526_092549.jpg\n",
            " 20170526_092552.jpg\n",
            " 20170526_092555.jpg\n",
            " 20170526_092605.jpg\n",
            " 20170526_150858.jpg\n",
            " 20170526_150900.jpg\n",
            " 20170526_150910.jpg\n",
            " 20170526_150913.jpg\n",
            " 20170526_150931.jpg\n",
            " 20170526_150933.jpg\n",
            " 20170526_150956.jpg\n",
            " 20170526_151022.jpg\n",
            " 20171028_121500.jpg\n",
            " 20171028_121503.jpg\n",
            " 20171028_125547.jpg\n",
            " 20171028_125550.jpg\n",
            " 20171028_151127.jpg\n",
            " 20171028_151146.jpg\n",
            " 20171028_151147.jpg\n",
            " 20171031_074240.jpg\n",
            " 20171031_074245.jpg\n",
            " 20171031_074246.jpg\n",
            " 20171031_074248.jpg\n",
            "'2023 Resolucion Rec. 0715 - Finaliza Comision de Estudios - Chaparro Mesa Jorge.pdf'\n",
            "'21340002-0019-2020 constancia Jorge Chaparro.pdf'\n",
            " 3262d6ac790043fbba1880bb15338fb5.mp4\n",
            " 382216654-Matematicas-10-Santillana-i.pdf\n",
            "'3 PLANTILLA CAPÍTULOS DE LIBROS ESPAÑOL.doc'\n",
            " 4856734972484566bdc5f5abdf876504.mp4\n",
            "'5. Investigación Ing Sistemas (1).pptx'\n",
            "'5. Investigación Ing Sistemas.pptx'\n",
            "'5. Investigación IS.pptx'\n",
            " Agricultic\n",
            "'Agricultic Entrada.mp4'\n",
            "'Agricultic Final'\n",
            "'AgriculTIC, plataforma IoT para la gestión eficiente de la agricultura.'\n",
            " A-review-on-energy-conversion-using-hybrid-photovoltaic_2023_Journal-of-Powe.pdf\n",
            "'ARQUITECTURA INTERNA DE UNA BASE DE DATOS.gslides'\n",
            "'ARTE JORGE ENRRIQUEZ CORREGIDO.psd'\n",
            "'Articulo fisica'\n",
            "'Articulo FisicaTIC Revista Scientia et Technia Febrero 2019 (1).docx'\n",
            "'Articulo FisicaTIC Revista Scientia et Technia Febrero 2019 (2).docx'\n",
            "'Articulo FisicaTIC Revista Scientia et Technia Febrero 2019.docx'\n",
            "'Asadero la Mamona.gmap'\n",
            "'BALANCES NETWORKTIC.xlsx'\n",
            "'Bases de datos.gdoc'\n",
            "'BIBLIOGRAFIA DOCTORADO'\n",
            " biogas.pdf\n",
            "'borrador ESTADO DEL ARTE GASTRONOMIA.gdoc'\n",
            "'Cambridge - English Grammar in Use (Advanced) (2005).pdf'\n",
            "'Capacitacion investigacion ingenierias.pptx'\n",
            "'Carreño 2.mp4'\n",
            "'Carreño 3.mp4'\n",
            " Carreño.mp4\n",
            "'Carta de apoyo Rectoria.pdf'\n",
            " catira2.mp4\n",
            "'cCARTA PARA UNITROPICO - INVITACION REUNION.pdf'\n",
            "'Cedula de Ciudadania.pdf'\n",
            "'Cedula sandra'\n",
            "'CENTRO DE DESARROLLO TECNOLOGICO'\n",
            "'Certificación de producto1537.pdf'\n",
            "'Certificacion Laboral Chaparro Mesa Jorge Enrique.pdf'\n",
            " certificado_1594256292057.pdf\n",
            "'CIRCULAR ADM 002 DE 2021.pdf'\n",
            " Clase_31_10\n",
            " Classroom\n",
            "'Colab Notebooks'\n",
            " colcienciassemananal_cti2014casanare.zip\n",
            "'Comunidado opinion pública Semana CTeI.doc'\n",
            "'configuración riego.mp4'\n",
            "'Consulta de Inhabilidades.pdf'\n",
            "'CONTEXTO DEPARTAMENTAL EN ENERGIAS RENOVABLES.docx'\n",
            "'CONTEXTO DEPARTAMENTAL EN ENERGIAS RENOVABLES.gdoc'\n",
            "'CONTRATO DE COMODATO PRECARIO NO 2.docx'\n",
            "'Contrato servicios Jorge Enrique Chaparro 2020.docx'\n",
            "'Convocatoria de Investigacion 2023'\n",
            "'Copia de Análisis de datos y modelación II.docx'\n",
            "'Copia de Parcial1.ipynb'\n",
            "'COTIZACION LITOCARIBE SERLINCA.jpg'\n",
            "'Cuña Radial Semana CTeI.doc'\n",
            " dataset_banco.csv\n",
            " dataset_clases_ia\n",
            " desktop.ini\n",
            "'Documento de Jorge Enriquez'\n",
            "'documentos faltantes.rar'\n",
            "'Documento sin título (1).gdoc'\n",
            "'Documento sin título (2).gdoc'\n",
            "'Documento sin título.gdoc'\n",
            "'Documentos Unitropico'\n",
            "'Ejercicio UML .gdoc'\n",
            " ELECTRONICA_Gu--a11-Decibel.pdf\n",
            "'_El_estandar_para_la_gestion_de_servicios_TI[1].pdf'\n",
            "'ESTUDIO UNITROPICO'\n",
            "'EVALUACION CONSOLIDADO REQUISITOS HABILITANTES Network (2) (1).pdf'\n",
            "'EVALUACION CONSOLIDADO REQUISITOS HABILITANTES Network (2).pdf'\n",
            " Excel_programacion_csv.csv\n",
            " Excel_programacion.xlsx\n",
            "'explicacion riego.mp4'\n",
            "'FO-AB-20. Verificacion doc pago contratosV3.doc'\n",
            "'Formato CIARP_Modificacion Puntaje Salarial Acuerdo CS No. 024 de 2023 Jorge Chaparro.pdf'\n",
            "'FORMULARIO EVALUADORES REDCOLSI 2014wrv.docx'\n",
            "'formulario-recolección info (2).gsheet'\n",
            "'FORO SISTEMAS OPERATIVOS .gdoc'\n",
            "'G2009 120 Landsat Flyby MASTER youtube hq.mp4'\n",
            "'Grupo de investigacion en energias.docx'\n",
            "'Grupo de investigacion en energias.gdoc'\n",
            "'guayabo negro2.mp4'\n",
            "'Hojas de Vida con Soportes (1).rar'\n",
            "'Hojas de Vida con Soportes.rar'\n",
            " IMG_20190922_125949.jpg\n",
            " IMG_20190922_132703.jpg\n",
            " IMG_20190922_133002.jpg\n",
            " IMG_20200310_124209.jpg\n",
            " IMG_20200310_125209.jpg\n",
            " IMG_20200310_125216.jpg\n",
            " IMG_20200310_125217.jpg\n",
            " IMG_20200310_125221.jpg\n",
            " IMG_20200310_125232.jpg\n",
            " IMG_20200310_125240.jpg\n",
            " IMG_20200310_125243.jpg\n",
            " IMG_20200310_125253.jpg\n",
            " IMG_20200310_125307.jpg\n",
            " IMG_20200310_125431.jpg\n",
            " IMG_20200310_125434.jpg\n",
            " IMG_20200310_125512.jpg\n",
            " IMG_20200310_125519.jpg\n",
            " IMG_20200310_145846.jpg\n",
            " IMG_20200707_220256_904.jpg\n",
            " IMG_20200808_094736.jpg\n",
            " IMG_20200808_094738.jpg\n",
            " IMG_20200808_094842.jpg\n",
            " IMG_20200808_094844.jpg\n",
            " IMG_2605.JPG\n",
            " IMG_2606.JPG\n",
            " IMG_2607.JPG\n",
            " IMG_2608.JPG\n",
            " IMG_2609.JPG\n",
            " IMG_2614.JPG\n",
            " IMG_2615.JPG\n",
            " IMG_2616.JPG\n",
            " IMG_2620.JPG\n",
            " IMG_4437.JPG\n",
            " IMG_4441.JPG\n",
            " IMG_4442.JPG\n",
            " IMG_4452.JPG\n",
            " IMG_4471.JPG\n",
            " IMG_7281.JPG\n",
            " IMG_7286.JPG\n",
            " IMG_7288.JPG\n",
            " IMG_7291.JPG\n",
            " IMG_7292.JPG\n",
            " IMG_7293.JPG\n",
            " IMG_7294.JPG\n",
            " IMG_7549.JPG\n",
            " IMG_7550.JPG\n",
            " IMG_7551.JPG\n",
            " IMG_7552.JPG\n",
            " IMG_7553.JPG\n",
            " IMG_7554.JPG\n",
            " IMG_7555.JPG\n",
            " IMG_7556.JPG\n",
            " IMG_7557.JPG\n",
            " IMG_7558.JPG\n",
            " IMG_7559.JPG\n",
            " IMG_7560.JPG\n",
            " IMG_7567.JPG\n",
            " IMG_7570.JPG\n",
            " IMG_7571.JPG\n",
            " IMG_7572.JPG\n",
            " IMG_7573.JPG\n",
            " IMG_7574.JPG\n",
            " IMG_7575.JPG\n",
            " IMG_7576.JPG\n",
            " IMG_7577.JPG\n",
            " IMG_7578.JPG\n",
            " IMG_7792.JPG\n",
            " IMG_7794.JPG\n",
            " IMG_7795.JPG\n",
            " IMG_7806.JPG\n",
            " IMG_7807.JPG\n",
            " IMG_7814.JPG\n",
            " IMG_7815.JPG\n",
            " IMG_7816.JPG\n",
            " IMG_7829.JPG\n",
            " IMG_7837.JPG\n",
            " IMG_7841.JPG\n",
            " IMG_7845.JPG\n",
            " IMG_7895.JPG\n",
            " IMG_7896.JPG\n",
            " IMG_7897.JPG\n",
            " IMG_7911.JPG\n",
            " IMG_7915.JPG\n",
            " IMG_7916.JPG\n",
            " IMG_7917.JPG\n",
            " IMG_7921.JPG\n",
            " IMG_7922.JPG\n",
            " IMG_7939.JPG\n",
            " IMG_7940.JPG\n",
            " IMG_7943.JPG\n",
            " IMG_7947.JPG\n",
            " IMG_7951.JPG\n",
            " IMG_7957.JPG\n",
            " IMG_7964.JPG\n",
            " IMG_7965.JPG\n",
            " IMG_7971.JPG\n",
            " IMG_7972.JPG\n",
            " IMG_7989.JPG\n",
            " IMG_7993.JPG\n",
            " IMG_8001.JPG\n",
            " IMG_8023.JPG\n",
            " IMG_8024.JPG\n",
            " IMG_8098.JPG\n",
            " IMG_8111.JPG\n",
            " IMG_8113.JPG\n",
            " IMG_8121.JPG\n",
            " IMG_8124.JPG\n",
            " IMG_8137.JPG\n",
            " IMG_8138.JPG\n",
            " IMG_8147.JPG\n",
            " IMG_8148.JPG\n",
            " IMG_8149.JPG\n",
            " IMG_8152.JPG\n",
            " IMG_8162.JPG\n",
            " IMG_8200.JPG\n",
            " IMG_8201.JPG\n",
            " IMG_8205.JPG\n",
            " IMG_8206.JPG\n",
            " IMG_8209.JPG\n",
            " IMG_8210.JPG\n",
            " IMG_8212.JPG\n",
            " IMG_8213.JPG\n",
            " IMG_8214.JPG\n",
            " IMG_8258.JPG\n",
            " IMG_8259.JPG\n",
            " IMG_8260.JPG\n",
            " IMG_8267.JPG\n",
            " IMG_8271.JPG\n",
            " IMG_8462.JPG\n",
            "'IMG_8479 - copia.JPG'\n",
            " IMG_8479.JPG\n",
            "'IMG_8481 - copia.JPG'\n",
            " IMG_8481.JPG\n",
            "'IMG_8487 - copia.JPG'\n",
            " IMG_8487.JPG\n",
            "'IMG_8488 - copia.JPG'\n",
            " IMG_8488.JPG\n",
            "'IMG_8490 - copia.JPG'\n",
            " IMG_8490.JPG\n",
            " IMG_8491.JPG\n",
            " IMG_8492.JPG\n",
            " IMG_8493.JPG\n",
            " IMG_8494.JPG\n",
            "'IMG_8503 - copia.JPG'\n",
            "'IMG_8504 (1).JPG'\n",
            "'IMG_8504 - copia.JPG'\n",
            " IMG_8504.JPG\n",
            "'IMG_8505 - copia.JPG'\n",
            " IMG_8505.JPG\n",
            " Infografia_Cableado.pdf\n",
            "'Informe  de actividades   diciembre a enero de 2013.docx'\n",
            "'Informe Financiero Final proyecto realidad aumentada.xlsx'\n",
            "'INFORME TECNICO FINAL PROYECTO REALIDAD AUMENTADA.docx'\n",
            "'INGENIARE-985-6107-22748-1-SM (1).docx'\n",
            " INGENIARE-985-6107-22748-1-SM.docx\n",
            "'Ingenieria del  Software.gdoc'\n",
            "'Instructivo Grados 2014 pregrado.pdf'\n",
            "'INTERVENTORIA 3'\n",
            "'Introduccion investigacion'\n",
            " Investigatic_Unitropico.rar\n",
            "'IoT Puerto Carreño.mp4'\n",
            "'lagrimas android (1).mp4'\n",
            "'lagrimas android.mp4'\n",
            "'LAVEL JORGE ENRIQUEZ CORREGIDO.psd'\n",
            "'LIBRO MATEMATICAS'\n",
            "'listado actores ascyt_departamentos.gsheet'\n",
            " listado-de-impactos-ambientales-específicos-en-el-marco-del-licenciamiento-ambiental.pdf\n",
            " listado_resultados_finales_-_grupos_-_firmado.pdf\n",
            " listado_resultados_finales_-_investigadores_-_version_consulta.pdf\n",
            "'logo huella - copia.pptx'\n",
            "'los cachos2.mp4'\n",
            "'medicion tortuguillos.jpg'\n",
            "'Me salvé por un poquito - Daniel Gualdrón.mp3'\n",
            " _MG_7777.JPG\n",
            " _MG_7781.CR2\n",
            " _MG_7785.CR2\n",
            "'miembros consejo 2010.gsheet'\n",
            "'Minuta contrato unitrópico firmado.pdf'\n",
            "'Modulo caracteristicas Generales.jpg'\n",
            "'My Movie.mp4'\n",
            "'NACHO CANTA   CUATRO CORAZONES.mp3'\n",
            "'No sufrire por amor en vivo2.mp4'\n",
            "'Oficio Aval Colciencias Firmado.pdf'\n",
            "'pdf_CIRCULAR SOCIALIZACION SGC UNITROPICO.pdf'\n",
            "'Perfil de Proyecto Piña.gdoc'\n",
            "'PLAN DE CLASE UNITRÓPICO (1).docx'\n",
            "'PLAN DE CLASE UNITRÓPICO.docx'\n",
            "'PLAN DE CLASE UNITRÓPICO.gdoc'\n",
            "'planeacion 2014 (1).gsheet'\n",
            " PORTADA-REVISTA.pdf\n",
            "'Presentación Investigacion Ingenieria de Sistemas.pptx'\n",
            "'Presentación sin título.gslides'\n",
            "'PROPUESTA DE TRABAJO DOCTORADO BECAS BICENTENARIO DEFINITIVA.pdf'\n",
            "'Propuesta técnica y economica.pdf'\n",
            "'Protocolo de candado a dos fases.gdoc'\n",
            "'Protocolo de conformacion PC.gdoc'\n",
            "'PROYECTO AGROINDUSTRIAL DE PIÑA.docx'\n",
            "'PROYECTO AGROINDUSTRIAL DE PIÑA.gdoc'\n",
            "'Que es Commit.gdoc'\n",
            "'RENTA 2019 JORGE CHAPARRO V2.pdf'\n",
            "'Resolucion de Admision.pdf'\n",
            "'Riego automatico piña.jpg'\n",
            "'Sitio sin título.gsite'\n",
            "'SOPORTES  GENERALES  HOJA DE VIDA.rar'\n",
            "'SOPORTES HOJA DE VIDA.rar'\n",
            "'Taller1_Taller2_Diego_Luna (1).ipynb'\n",
            "'Taller de trigonometria.docx'\n",
            " titulo.gdoc\n",
            "'Trabajo de Simulacion.gsheet'\n",
            " Trabajo_programacion.ipynb\n",
            " train.csv\n",
            " UNITROPICO.pdf\n",
            " Untitled1.ipynb\n",
            "'Valoración de la clase.gform'\n",
            " VID_20200808_093806.mp4\n",
            " VID_20210126_162741.mp4\n",
            " VID_20210126_162759.mp4\n",
            "'Video de Jorge Enriquez'\n",
            "'wsp funculatino.mp4'\n"
          ]
        }
      ],
      "source": [
        "from google.colab import drive\n",
        "drive.mount('/content/drive')\n",
        "# Test it\n",
        "!ls '/content/drive/My Drive'"
      ]
    },
    {
      "cell_type": "code",
      "execution_count": 3,
      "metadata": {
        "id": "1ha29V9czzp2"
      },
      "outputs": [],
      "source": [
        "from google.colab import files # Para manejar los archivos y, por ejemplo, exportar a su navegador\n",
        "import glob # Para manejar los archivos y, por ejemplo, exportar a su navegador\n",
        "from google.colab import drive # Montar tu Google drive"
      ]
    },
    {
      "cell_type": "markdown",
      "metadata": {
        "id": "Ssp1n-fwzzp3"
      },
      "source": [
        "# El tratamiento de las variables categóricas"
      ]
    },
    {
      "cell_type": "code",
      "execution_count": 4,
      "metadata": {
        "id": "KmH1qbfRzzp3"
      },
      "outputs": [],
      "source": [
        "import pandas as pd\n",
        "import numpy as np\n",
        "from sklearn.linear_model import LinearRegression"
      ]
    },
    {
      "cell_type": "code",
      "execution_count": 5,
      "metadata": {
        "id": "AeqqiIAkzzp3"
      },
      "outputs": [],
      "source": [
        "df = pd.read_csv(\"/content/python-ml-course/datasets/ecom-expense/Ecom Expense.csv\")"
      ]
    },
    {
      "cell_type": "code",
      "execution_count": 6,
      "metadata": {
        "id": "9s92hajXzzp4",
        "outputId": "2524b68e-ff3f-4370-85fe-dfe028fbfebf",
        "colab": {
          "base_uri": "https://localhost:8080/",
          "height": 206
        }
      },
      "outputs": [
        {
          "output_type": "execute_result",
          "data": {
            "text/plain": [
              "  Transaction ID  Age    Items   Monthly Income  Transaction Time  Record  \\\n",
              "0         TXN001    42       10            7313        627.668127       5   \n",
              "1         TXN002    24        8           17747        126.904567       3   \n",
              "2         TXN003    47       11           22845        873.469701       2   \n",
              "3         TXN004    50       11           18552        380.219428       7   \n",
              "4         TXN005    60        2           14439        403.374223       2   \n",
              "\n",
              "   Gender City Tier  Total Spend  \n",
              "0  Female    Tier 1  4198.385084  \n",
              "1  Female    Tier 2  4134.976648  \n",
              "2    Male    Tier 2  5166.614455  \n",
              "3  Female    Tier 1  7784.447676  \n",
              "4  Female    Tier 2  3254.160485  "
            ],
            "text/html": [
              "\n",
              "  <div id=\"df-a07148e9-26b4-4c0d-a67a-875689405ba2\" class=\"colab-df-container\">\n",
              "    <div>\n",
              "<style scoped>\n",
              "    .dataframe tbody tr th:only-of-type {\n",
              "        vertical-align: middle;\n",
              "    }\n",
              "\n",
              "    .dataframe tbody tr th {\n",
              "        vertical-align: top;\n",
              "    }\n",
              "\n",
              "    .dataframe thead th {\n",
              "        text-align: right;\n",
              "    }\n",
              "</style>\n",
              "<table border=\"1\" class=\"dataframe\">\n",
              "  <thead>\n",
              "    <tr style=\"text-align: right;\">\n",
              "      <th></th>\n",
              "      <th>Transaction ID</th>\n",
              "      <th>Age</th>\n",
              "      <th>Items</th>\n",
              "      <th>Monthly Income</th>\n",
              "      <th>Transaction Time</th>\n",
              "      <th>Record</th>\n",
              "      <th>Gender</th>\n",
              "      <th>City Tier</th>\n",
              "      <th>Total Spend</th>\n",
              "    </tr>\n",
              "  </thead>\n",
              "  <tbody>\n",
              "    <tr>\n",
              "      <th>0</th>\n",
              "      <td>TXN001</td>\n",
              "      <td>42</td>\n",
              "      <td>10</td>\n",
              "      <td>7313</td>\n",
              "      <td>627.668127</td>\n",
              "      <td>5</td>\n",
              "      <td>Female</td>\n",
              "      <td>Tier 1</td>\n",
              "      <td>4198.385084</td>\n",
              "    </tr>\n",
              "    <tr>\n",
              "      <th>1</th>\n",
              "      <td>TXN002</td>\n",
              "      <td>24</td>\n",
              "      <td>8</td>\n",
              "      <td>17747</td>\n",
              "      <td>126.904567</td>\n",
              "      <td>3</td>\n",
              "      <td>Female</td>\n",
              "      <td>Tier 2</td>\n",
              "      <td>4134.976648</td>\n",
              "    </tr>\n",
              "    <tr>\n",
              "      <th>2</th>\n",
              "      <td>TXN003</td>\n",
              "      <td>47</td>\n",
              "      <td>11</td>\n",
              "      <td>22845</td>\n",
              "      <td>873.469701</td>\n",
              "      <td>2</td>\n",
              "      <td>Male</td>\n",
              "      <td>Tier 2</td>\n",
              "      <td>5166.614455</td>\n",
              "    </tr>\n",
              "    <tr>\n",
              "      <th>3</th>\n",
              "      <td>TXN004</td>\n",
              "      <td>50</td>\n",
              "      <td>11</td>\n",
              "      <td>18552</td>\n",
              "      <td>380.219428</td>\n",
              "      <td>7</td>\n",
              "      <td>Female</td>\n",
              "      <td>Tier 1</td>\n",
              "      <td>7784.447676</td>\n",
              "    </tr>\n",
              "    <tr>\n",
              "      <th>4</th>\n",
              "      <td>TXN005</td>\n",
              "      <td>60</td>\n",
              "      <td>2</td>\n",
              "      <td>14439</td>\n",
              "      <td>403.374223</td>\n",
              "      <td>2</td>\n",
              "      <td>Female</td>\n",
              "      <td>Tier 2</td>\n",
              "      <td>3254.160485</td>\n",
              "    </tr>\n",
              "  </tbody>\n",
              "</table>\n",
              "</div>\n",
              "    <div class=\"colab-df-buttons\">\n",
              "\n",
              "  <div class=\"colab-df-container\">\n",
              "    <button class=\"colab-df-convert\" onclick=\"convertToInteractive('df-a07148e9-26b4-4c0d-a67a-875689405ba2')\"\n",
              "            title=\"Convert this dataframe to an interactive table.\"\n",
              "            style=\"display:none;\">\n",
              "\n",
              "  <svg xmlns=\"http://www.w3.org/2000/svg\" height=\"24px\" viewBox=\"0 -960 960 960\">\n",
              "    <path d=\"M120-120v-720h720v720H120Zm60-500h600v-160H180v160Zm220 220h160v-160H400v160Zm0 220h160v-160H400v160ZM180-400h160v-160H180v160Zm440 0h160v-160H620v160ZM180-180h160v-160H180v160Zm440 0h160v-160H620v160Z\"/>\n",
              "  </svg>\n",
              "    </button>\n",
              "\n",
              "  <style>\n",
              "    .colab-df-container {\n",
              "      display:flex;\n",
              "      gap: 12px;\n",
              "    }\n",
              "\n",
              "    .colab-df-convert {\n",
              "      background-color: #E8F0FE;\n",
              "      border: none;\n",
              "      border-radius: 50%;\n",
              "      cursor: pointer;\n",
              "      display: none;\n",
              "      fill: #1967D2;\n",
              "      height: 32px;\n",
              "      padding: 0 0 0 0;\n",
              "      width: 32px;\n",
              "    }\n",
              "\n",
              "    .colab-df-convert:hover {\n",
              "      background-color: #E2EBFA;\n",
              "      box-shadow: 0px 1px 2px rgba(60, 64, 67, 0.3), 0px 1px 3px 1px rgba(60, 64, 67, 0.15);\n",
              "      fill: #174EA6;\n",
              "    }\n",
              "\n",
              "    .colab-df-buttons div {\n",
              "      margin-bottom: 4px;\n",
              "    }\n",
              "\n",
              "    [theme=dark] .colab-df-convert {\n",
              "      background-color: #3B4455;\n",
              "      fill: #D2E3FC;\n",
              "    }\n",
              "\n",
              "    [theme=dark] .colab-df-convert:hover {\n",
              "      background-color: #434B5C;\n",
              "      box-shadow: 0px 1px 3px 1px rgba(0, 0, 0, 0.15);\n",
              "      filter: drop-shadow(0px 1px 2px rgba(0, 0, 0, 0.3));\n",
              "      fill: #FFFFFF;\n",
              "    }\n",
              "  </style>\n",
              "\n",
              "    <script>\n",
              "      const buttonEl =\n",
              "        document.querySelector('#df-a07148e9-26b4-4c0d-a67a-875689405ba2 button.colab-df-convert');\n",
              "      buttonEl.style.display =\n",
              "        google.colab.kernel.accessAllowed ? 'block' : 'none';\n",
              "\n",
              "      async function convertToInteractive(key) {\n",
              "        const element = document.querySelector('#df-a07148e9-26b4-4c0d-a67a-875689405ba2');\n",
              "        const dataTable =\n",
              "          await google.colab.kernel.invokeFunction('convertToInteractive',\n",
              "                                                    [key], {});\n",
              "        if (!dataTable) return;\n",
              "\n",
              "        const docLinkHtml = 'Like what you see? Visit the ' +\n",
              "          '<a target=\"_blank\" href=https://colab.research.google.com/notebooks/data_table.ipynb>data table notebook</a>'\n",
              "          + ' to learn more about interactive tables.';\n",
              "        element.innerHTML = '';\n",
              "        dataTable['output_type'] = 'display_data';\n",
              "        await google.colab.output.renderOutput(dataTable, element);\n",
              "        const docLink = document.createElement('div');\n",
              "        docLink.innerHTML = docLinkHtml;\n",
              "        element.appendChild(docLink);\n",
              "      }\n",
              "    </script>\n",
              "  </div>\n",
              "\n",
              "\n",
              "<div id=\"df-e2563f0d-1fd1-405c-8f8d-525d5144715e\">\n",
              "  <button class=\"colab-df-quickchart\" onclick=\"quickchart('df-e2563f0d-1fd1-405c-8f8d-525d5144715e')\"\n",
              "            title=\"Suggest charts.\"\n",
              "            style=\"display:none;\">\n",
              "\n",
              "<svg xmlns=\"http://www.w3.org/2000/svg\" height=\"24px\"viewBox=\"0 0 24 24\"\n",
              "     width=\"24px\">\n",
              "    <g>\n",
              "        <path d=\"M19 3H5c-1.1 0-2 .9-2 2v14c0 1.1.9 2 2 2h14c1.1 0 2-.9 2-2V5c0-1.1-.9-2-2-2zM9 17H7v-7h2v7zm4 0h-2V7h2v10zm4 0h-2v-4h2v4z\"/>\n",
              "    </g>\n",
              "</svg>\n",
              "  </button>\n",
              "\n",
              "<style>\n",
              "  .colab-df-quickchart {\n",
              "      --bg-color: #E8F0FE;\n",
              "      --fill-color: #1967D2;\n",
              "      --hover-bg-color: #E2EBFA;\n",
              "      --hover-fill-color: #174EA6;\n",
              "      --disabled-fill-color: #AAA;\n",
              "      --disabled-bg-color: #DDD;\n",
              "  }\n",
              "\n",
              "  [theme=dark] .colab-df-quickchart {\n",
              "      --bg-color: #3B4455;\n",
              "      --fill-color: #D2E3FC;\n",
              "      --hover-bg-color: #434B5C;\n",
              "      --hover-fill-color: #FFFFFF;\n",
              "      --disabled-bg-color: #3B4455;\n",
              "      --disabled-fill-color: #666;\n",
              "  }\n",
              "\n",
              "  .colab-df-quickchart {\n",
              "    background-color: var(--bg-color);\n",
              "    border: none;\n",
              "    border-radius: 50%;\n",
              "    cursor: pointer;\n",
              "    display: none;\n",
              "    fill: var(--fill-color);\n",
              "    height: 32px;\n",
              "    padding: 0;\n",
              "    width: 32px;\n",
              "  }\n",
              "\n",
              "  .colab-df-quickchart:hover {\n",
              "    background-color: var(--hover-bg-color);\n",
              "    box-shadow: 0 1px 2px rgba(60, 64, 67, 0.3), 0 1px 3px 1px rgba(60, 64, 67, 0.15);\n",
              "    fill: var(--button-hover-fill-color);\n",
              "  }\n",
              "\n",
              "  .colab-df-quickchart-complete:disabled,\n",
              "  .colab-df-quickchart-complete:disabled:hover {\n",
              "    background-color: var(--disabled-bg-color);\n",
              "    fill: var(--disabled-fill-color);\n",
              "    box-shadow: none;\n",
              "  }\n",
              "\n",
              "  .colab-df-spinner {\n",
              "    border: 2px solid var(--fill-color);\n",
              "    border-color: transparent;\n",
              "    border-bottom-color: var(--fill-color);\n",
              "    animation:\n",
              "      spin 1s steps(1) infinite;\n",
              "  }\n",
              "\n",
              "  @keyframes spin {\n",
              "    0% {\n",
              "      border-color: transparent;\n",
              "      border-bottom-color: var(--fill-color);\n",
              "      border-left-color: var(--fill-color);\n",
              "    }\n",
              "    20% {\n",
              "      border-color: transparent;\n",
              "      border-left-color: var(--fill-color);\n",
              "      border-top-color: var(--fill-color);\n",
              "    }\n",
              "    30% {\n",
              "      border-color: transparent;\n",
              "      border-left-color: var(--fill-color);\n",
              "      border-top-color: var(--fill-color);\n",
              "      border-right-color: var(--fill-color);\n",
              "    }\n",
              "    40% {\n",
              "      border-color: transparent;\n",
              "      border-right-color: var(--fill-color);\n",
              "      border-top-color: var(--fill-color);\n",
              "    }\n",
              "    60% {\n",
              "      border-color: transparent;\n",
              "      border-right-color: var(--fill-color);\n",
              "    }\n",
              "    80% {\n",
              "      border-color: transparent;\n",
              "      border-right-color: var(--fill-color);\n",
              "      border-bottom-color: var(--fill-color);\n",
              "    }\n",
              "    90% {\n",
              "      border-color: transparent;\n",
              "      border-bottom-color: var(--fill-color);\n",
              "    }\n",
              "  }\n",
              "</style>\n",
              "\n",
              "  <script>\n",
              "    async function quickchart(key) {\n",
              "      const quickchartButtonEl =\n",
              "        document.querySelector('#' + key + ' button');\n",
              "      quickchartButtonEl.disabled = true;  // To prevent multiple clicks.\n",
              "      quickchartButtonEl.classList.add('colab-df-spinner');\n",
              "      try {\n",
              "        const charts = await google.colab.kernel.invokeFunction(\n",
              "            'suggestCharts', [key], {});\n",
              "      } catch (error) {\n",
              "        console.error('Error during call to suggestCharts:', error);\n",
              "      }\n",
              "      quickchartButtonEl.classList.remove('colab-df-spinner');\n",
              "      quickchartButtonEl.classList.add('colab-df-quickchart-complete');\n",
              "    }\n",
              "    (() => {\n",
              "      let quickchartButtonEl =\n",
              "        document.querySelector('#df-e2563f0d-1fd1-405c-8f8d-525d5144715e button');\n",
              "      quickchartButtonEl.style.display =\n",
              "        google.colab.kernel.accessAllowed ? 'block' : 'none';\n",
              "    })();\n",
              "  </script>\n",
              "</div>\n",
              "    </div>\n",
              "  </div>\n"
            ]
          },
          "metadata": {},
          "execution_count": 6
        }
      ],
      "source": [
        "df.head()"
      ]
    },
    {
      "cell_type": "code",
      "execution_count": 7,
      "metadata": {
        "id": "ZZXQ7XCxzzp4"
      },
      "outputs": [],
      "source": [
        "dummy_gender = pd.get_dummies(df[\"Gender\"], prefix = \"Gender\")\n",
        "dummy_city_tier = pd.get_dummies(df[\"City Tier\"], prefix = \"City\")"
      ]
    },
    {
      "cell_type": "code",
      "execution_count": 8,
      "metadata": {
        "id": "oWi-moM-zzp5",
        "outputId": "1625eef3-215c-4691-ed74-f7bb554fc3a0",
        "colab": {
          "base_uri": "https://localhost:8080/",
          "height": 206
        }
      },
      "outputs": [
        {
          "output_type": "execute_result",
          "data": {
            "text/plain": [
              "   Gender_Female  Gender_Male\n",
              "0              1            0\n",
              "1              1            0\n",
              "2              0            1\n",
              "3              1            0\n",
              "4              1            0"
            ],
            "text/html": [
              "\n",
              "  <div id=\"df-d6301019-6d2b-42b7-9777-a6349229cf61\" class=\"colab-df-container\">\n",
              "    <div>\n",
              "<style scoped>\n",
              "    .dataframe tbody tr th:only-of-type {\n",
              "        vertical-align: middle;\n",
              "    }\n",
              "\n",
              "    .dataframe tbody tr th {\n",
              "        vertical-align: top;\n",
              "    }\n",
              "\n",
              "    .dataframe thead th {\n",
              "        text-align: right;\n",
              "    }\n",
              "</style>\n",
              "<table border=\"1\" class=\"dataframe\">\n",
              "  <thead>\n",
              "    <tr style=\"text-align: right;\">\n",
              "      <th></th>\n",
              "      <th>Gender_Female</th>\n",
              "      <th>Gender_Male</th>\n",
              "    </tr>\n",
              "  </thead>\n",
              "  <tbody>\n",
              "    <tr>\n",
              "      <th>0</th>\n",
              "      <td>1</td>\n",
              "      <td>0</td>\n",
              "    </tr>\n",
              "    <tr>\n",
              "      <th>1</th>\n",
              "      <td>1</td>\n",
              "      <td>0</td>\n",
              "    </tr>\n",
              "    <tr>\n",
              "      <th>2</th>\n",
              "      <td>0</td>\n",
              "      <td>1</td>\n",
              "    </tr>\n",
              "    <tr>\n",
              "      <th>3</th>\n",
              "      <td>1</td>\n",
              "      <td>0</td>\n",
              "    </tr>\n",
              "    <tr>\n",
              "      <th>4</th>\n",
              "      <td>1</td>\n",
              "      <td>0</td>\n",
              "    </tr>\n",
              "  </tbody>\n",
              "</table>\n",
              "</div>\n",
              "    <div class=\"colab-df-buttons\">\n",
              "\n",
              "  <div class=\"colab-df-container\">\n",
              "    <button class=\"colab-df-convert\" onclick=\"convertToInteractive('df-d6301019-6d2b-42b7-9777-a6349229cf61')\"\n",
              "            title=\"Convert this dataframe to an interactive table.\"\n",
              "            style=\"display:none;\">\n",
              "\n",
              "  <svg xmlns=\"http://www.w3.org/2000/svg\" height=\"24px\" viewBox=\"0 -960 960 960\">\n",
              "    <path d=\"M120-120v-720h720v720H120Zm60-500h600v-160H180v160Zm220 220h160v-160H400v160Zm0 220h160v-160H400v160ZM180-400h160v-160H180v160Zm440 0h160v-160H620v160ZM180-180h160v-160H180v160Zm440 0h160v-160H620v160Z\"/>\n",
              "  </svg>\n",
              "    </button>\n",
              "\n",
              "  <style>\n",
              "    .colab-df-container {\n",
              "      display:flex;\n",
              "      gap: 12px;\n",
              "    }\n",
              "\n",
              "    .colab-df-convert {\n",
              "      background-color: #E8F0FE;\n",
              "      border: none;\n",
              "      border-radius: 50%;\n",
              "      cursor: pointer;\n",
              "      display: none;\n",
              "      fill: #1967D2;\n",
              "      height: 32px;\n",
              "      padding: 0 0 0 0;\n",
              "      width: 32px;\n",
              "    }\n",
              "\n",
              "    .colab-df-convert:hover {\n",
              "      background-color: #E2EBFA;\n",
              "      box-shadow: 0px 1px 2px rgba(60, 64, 67, 0.3), 0px 1px 3px 1px rgba(60, 64, 67, 0.15);\n",
              "      fill: #174EA6;\n",
              "    }\n",
              "\n",
              "    .colab-df-buttons div {\n",
              "      margin-bottom: 4px;\n",
              "    }\n",
              "\n",
              "    [theme=dark] .colab-df-convert {\n",
              "      background-color: #3B4455;\n",
              "      fill: #D2E3FC;\n",
              "    }\n",
              "\n",
              "    [theme=dark] .colab-df-convert:hover {\n",
              "      background-color: #434B5C;\n",
              "      box-shadow: 0px 1px 3px 1px rgba(0, 0, 0, 0.15);\n",
              "      filter: drop-shadow(0px 1px 2px rgba(0, 0, 0, 0.3));\n",
              "      fill: #FFFFFF;\n",
              "    }\n",
              "  </style>\n",
              "\n",
              "    <script>\n",
              "      const buttonEl =\n",
              "        document.querySelector('#df-d6301019-6d2b-42b7-9777-a6349229cf61 button.colab-df-convert');\n",
              "      buttonEl.style.display =\n",
              "        google.colab.kernel.accessAllowed ? 'block' : 'none';\n",
              "\n",
              "      async function convertToInteractive(key) {\n",
              "        const element = document.querySelector('#df-d6301019-6d2b-42b7-9777-a6349229cf61');\n",
              "        const dataTable =\n",
              "          await google.colab.kernel.invokeFunction('convertToInteractive',\n",
              "                                                    [key], {});\n",
              "        if (!dataTable) return;\n",
              "\n",
              "        const docLinkHtml = 'Like what you see? Visit the ' +\n",
              "          '<a target=\"_blank\" href=https://colab.research.google.com/notebooks/data_table.ipynb>data table notebook</a>'\n",
              "          + ' to learn more about interactive tables.';\n",
              "        element.innerHTML = '';\n",
              "        dataTable['output_type'] = 'display_data';\n",
              "        await google.colab.output.renderOutput(dataTable, element);\n",
              "        const docLink = document.createElement('div');\n",
              "        docLink.innerHTML = docLinkHtml;\n",
              "        element.appendChild(docLink);\n",
              "      }\n",
              "    </script>\n",
              "  </div>\n",
              "\n",
              "\n",
              "<div id=\"df-a33a1f7c-9463-44de-8e98-028c4bce3291\">\n",
              "  <button class=\"colab-df-quickchart\" onclick=\"quickchart('df-a33a1f7c-9463-44de-8e98-028c4bce3291')\"\n",
              "            title=\"Suggest charts.\"\n",
              "            style=\"display:none;\">\n",
              "\n",
              "<svg xmlns=\"http://www.w3.org/2000/svg\" height=\"24px\"viewBox=\"0 0 24 24\"\n",
              "     width=\"24px\">\n",
              "    <g>\n",
              "        <path d=\"M19 3H5c-1.1 0-2 .9-2 2v14c0 1.1.9 2 2 2h14c1.1 0 2-.9 2-2V5c0-1.1-.9-2-2-2zM9 17H7v-7h2v7zm4 0h-2V7h2v10zm4 0h-2v-4h2v4z\"/>\n",
              "    </g>\n",
              "</svg>\n",
              "  </button>\n",
              "\n",
              "<style>\n",
              "  .colab-df-quickchart {\n",
              "      --bg-color: #E8F0FE;\n",
              "      --fill-color: #1967D2;\n",
              "      --hover-bg-color: #E2EBFA;\n",
              "      --hover-fill-color: #174EA6;\n",
              "      --disabled-fill-color: #AAA;\n",
              "      --disabled-bg-color: #DDD;\n",
              "  }\n",
              "\n",
              "  [theme=dark] .colab-df-quickchart {\n",
              "      --bg-color: #3B4455;\n",
              "      --fill-color: #D2E3FC;\n",
              "      --hover-bg-color: #434B5C;\n",
              "      --hover-fill-color: #FFFFFF;\n",
              "      --disabled-bg-color: #3B4455;\n",
              "      --disabled-fill-color: #666;\n",
              "  }\n",
              "\n",
              "  .colab-df-quickchart {\n",
              "    background-color: var(--bg-color);\n",
              "    border: none;\n",
              "    border-radius: 50%;\n",
              "    cursor: pointer;\n",
              "    display: none;\n",
              "    fill: var(--fill-color);\n",
              "    height: 32px;\n",
              "    padding: 0;\n",
              "    width: 32px;\n",
              "  }\n",
              "\n",
              "  .colab-df-quickchart:hover {\n",
              "    background-color: var(--hover-bg-color);\n",
              "    box-shadow: 0 1px 2px rgba(60, 64, 67, 0.3), 0 1px 3px 1px rgba(60, 64, 67, 0.15);\n",
              "    fill: var(--button-hover-fill-color);\n",
              "  }\n",
              "\n",
              "  .colab-df-quickchart-complete:disabled,\n",
              "  .colab-df-quickchart-complete:disabled:hover {\n",
              "    background-color: var(--disabled-bg-color);\n",
              "    fill: var(--disabled-fill-color);\n",
              "    box-shadow: none;\n",
              "  }\n",
              "\n",
              "  .colab-df-spinner {\n",
              "    border: 2px solid var(--fill-color);\n",
              "    border-color: transparent;\n",
              "    border-bottom-color: var(--fill-color);\n",
              "    animation:\n",
              "      spin 1s steps(1) infinite;\n",
              "  }\n",
              "\n",
              "  @keyframes spin {\n",
              "    0% {\n",
              "      border-color: transparent;\n",
              "      border-bottom-color: var(--fill-color);\n",
              "      border-left-color: var(--fill-color);\n",
              "    }\n",
              "    20% {\n",
              "      border-color: transparent;\n",
              "      border-left-color: var(--fill-color);\n",
              "      border-top-color: var(--fill-color);\n",
              "    }\n",
              "    30% {\n",
              "      border-color: transparent;\n",
              "      border-left-color: var(--fill-color);\n",
              "      border-top-color: var(--fill-color);\n",
              "      border-right-color: var(--fill-color);\n",
              "    }\n",
              "    40% {\n",
              "      border-color: transparent;\n",
              "      border-right-color: var(--fill-color);\n",
              "      border-top-color: var(--fill-color);\n",
              "    }\n",
              "    60% {\n",
              "      border-color: transparent;\n",
              "      border-right-color: var(--fill-color);\n",
              "    }\n",
              "    80% {\n",
              "      border-color: transparent;\n",
              "      border-right-color: var(--fill-color);\n",
              "      border-bottom-color: var(--fill-color);\n",
              "    }\n",
              "    90% {\n",
              "      border-color: transparent;\n",
              "      border-bottom-color: var(--fill-color);\n",
              "    }\n",
              "  }\n",
              "</style>\n",
              "\n",
              "  <script>\n",
              "    async function quickchart(key) {\n",
              "      const quickchartButtonEl =\n",
              "        document.querySelector('#' + key + ' button');\n",
              "      quickchartButtonEl.disabled = true;  // To prevent multiple clicks.\n",
              "      quickchartButtonEl.classList.add('colab-df-spinner');\n",
              "      try {\n",
              "        const charts = await google.colab.kernel.invokeFunction(\n",
              "            'suggestCharts', [key], {});\n",
              "      } catch (error) {\n",
              "        console.error('Error during call to suggestCharts:', error);\n",
              "      }\n",
              "      quickchartButtonEl.classList.remove('colab-df-spinner');\n",
              "      quickchartButtonEl.classList.add('colab-df-quickchart-complete');\n",
              "    }\n",
              "    (() => {\n",
              "      let quickchartButtonEl =\n",
              "        document.querySelector('#df-a33a1f7c-9463-44de-8e98-028c4bce3291 button');\n",
              "      quickchartButtonEl.style.display =\n",
              "        google.colab.kernel.accessAllowed ? 'block' : 'none';\n",
              "    })();\n",
              "  </script>\n",
              "</div>\n",
              "    </div>\n",
              "  </div>\n"
            ]
          },
          "metadata": {},
          "execution_count": 8
        }
      ],
      "source": [
        "dummy_gender.head()"
      ]
    },
    {
      "cell_type": "code",
      "execution_count": null,
      "metadata": {
        "id": "Zla8up6Fzzp5",
        "outputId": "81ffb6b1-bb66-431b-9a3a-03bd4b47436c"
      },
      "outputs": [
        {
          "data": {
            "text/html": [
              "<div>\n",
              "<style scoped>\n",
              "    .dataframe tbody tr th:only-of-type {\n",
              "        vertical-align: middle;\n",
              "    }\n",
              "\n",
              "    .dataframe tbody tr th {\n",
              "        vertical-align: top;\n",
              "    }\n",
              "\n",
              "    .dataframe thead th {\n",
              "        text-align: right;\n",
              "    }\n",
              "</style>\n",
              "<table border=\"1\" class=\"dataframe\">\n",
              "  <thead>\n",
              "    <tr style=\"text-align: right;\">\n",
              "      <th></th>\n",
              "      <th>City_Tier 1</th>\n",
              "      <th>City_Tier 2</th>\n",
              "      <th>City_Tier 3</th>\n",
              "    </tr>\n",
              "  </thead>\n",
              "  <tbody>\n",
              "    <tr>\n",
              "      <th>0</th>\n",
              "      <td>1</td>\n",
              "      <td>0</td>\n",
              "      <td>0</td>\n",
              "    </tr>\n",
              "    <tr>\n",
              "      <th>1</th>\n",
              "      <td>0</td>\n",
              "      <td>1</td>\n",
              "      <td>0</td>\n",
              "    </tr>\n",
              "    <tr>\n",
              "      <th>2</th>\n",
              "      <td>0</td>\n",
              "      <td>1</td>\n",
              "      <td>0</td>\n",
              "    </tr>\n",
              "    <tr>\n",
              "      <th>3</th>\n",
              "      <td>1</td>\n",
              "      <td>0</td>\n",
              "      <td>0</td>\n",
              "    </tr>\n",
              "    <tr>\n",
              "      <th>4</th>\n",
              "      <td>0</td>\n",
              "      <td>1</td>\n",
              "      <td>0</td>\n",
              "    </tr>\n",
              "  </tbody>\n",
              "</table>\n",
              "</div>"
            ],
            "text/plain": [
              "   City_Tier 1  City_Tier 2  City_Tier 3\n",
              "0            1            0            0\n",
              "1            0            1            0\n",
              "2            0            1            0\n",
              "3            1            0            0\n",
              "4            0            1            0"
            ]
          },
          "execution_count": 6,
          "metadata": {},
          "output_type": "execute_result"
        }
      ],
      "source": [
        "dummy_city_tier.head()"
      ]
    },
    {
      "cell_type": "code",
      "execution_count": null,
      "metadata": {
        "id": "sbr-mxFqzzp6",
        "outputId": "4fc7584e-931d-483b-91ae-a5bc74d941c2"
      },
      "outputs": [
        {
          "data": {
            "text/plain": [
              "['Transaction ID',\n",
              " 'Age ',\n",
              " ' Items ',\n",
              " 'Monthly Income',\n",
              " 'Transaction Time',\n",
              " 'Record',\n",
              " 'Gender',\n",
              " 'City Tier',\n",
              " 'Total Spend']"
            ]
          },
          "execution_count": 7,
          "metadata": {},
          "output_type": "execute_result"
        }
      ],
      "source": [
        "column_names = df.columns.values.tolist()\n",
        "column_names"
      ]
    },
    {
      "cell_type": "code",
      "execution_count": null,
      "metadata": {
        "id": "DlRANA0szzp6",
        "outputId": "b2cf0b69-bdb1-4136-8fe6-42529ba526a4"
      },
      "outputs": [
        {
          "data": {
            "text/html": [
              "<div>\n",
              "<style scoped>\n",
              "    .dataframe tbody tr th:only-of-type {\n",
              "        vertical-align: middle;\n",
              "    }\n",
              "\n",
              "    .dataframe tbody tr th {\n",
              "        vertical-align: top;\n",
              "    }\n",
              "\n",
              "    .dataframe thead th {\n",
              "        text-align: right;\n",
              "    }\n",
              "</style>\n",
              "<table border=\"1\" class=\"dataframe\">\n",
              "  <thead>\n",
              "    <tr style=\"text-align: right;\">\n",
              "      <th></th>\n",
              "      <th>Transaction ID</th>\n",
              "      <th>Age</th>\n",
              "      <th>Items</th>\n",
              "      <th>Monthly Income</th>\n",
              "      <th>Transaction Time</th>\n",
              "      <th>Record</th>\n",
              "      <th>Gender</th>\n",
              "      <th>City Tier</th>\n",
              "      <th>Total Spend</th>\n",
              "      <th>Gender_Female</th>\n",
              "      <th>Gender_Male</th>\n",
              "    </tr>\n",
              "  </thead>\n",
              "  <tbody>\n",
              "    <tr>\n",
              "      <th>0</th>\n",
              "      <td>TXN001</td>\n",
              "      <td>42</td>\n",
              "      <td>10</td>\n",
              "      <td>7313</td>\n",
              "      <td>627.668127</td>\n",
              "      <td>5</td>\n",
              "      <td>Female</td>\n",
              "      <td>Tier 1</td>\n",
              "      <td>4198.385084</td>\n",
              "      <td>1</td>\n",
              "      <td>0</td>\n",
              "    </tr>\n",
              "    <tr>\n",
              "      <th>1</th>\n",
              "      <td>TXN002</td>\n",
              "      <td>24</td>\n",
              "      <td>8</td>\n",
              "      <td>17747</td>\n",
              "      <td>126.904567</td>\n",
              "      <td>3</td>\n",
              "      <td>Female</td>\n",
              "      <td>Tier 2</td>\n",
              "      <td>4134.976648</td>\n",
              "      <td>1</td>\n",
              "      <td>0</td>\n",
              "    </tr>\n",
              "    <tr>\n",
              "      <th>2</th>\n",
              "      <td>TXN003</td>\n",
              "      <td>47</td>\n",
              "      <td>11</td>\n",
              "      <td>22845</td>\n",
              "      <td>873.469701</td>\n",
              "      <td>2</td>\n",
              "      <td>Male</td>\n",
              "      <td>Tier 2</td>\n",
              "      <td>5166.614455</td>\n",
              "      <td>0</td>\n",
              "      <td>1</td>\n",
              "    </tr>\n",
              "    <tr>\n",
              "      <th>3</th>\n",
              "      <td>TXN004</td>\n",
              "      <td>50</td>\n",
              "      <td>11</td>\n",
              "      <td>18552</td>\n",
              "      <td>380.219428</td>\n",
              "      <td>7</td>\n",
              "      <td>Female</td>\n",
              "      <td>Tier 1</td>\n",
              "      <td>7784.447676</td>\n",
              "      <td>1</td>\n",
              "      <td>0</td>\n",
              "    </tr>\n",
              "    <tr>\n",
              "      <th>4</th>\n",
              "      <td>TXN005</td>\n",
              "      <td>60</td>\n",
              "      <td>2</td>\n",
              "      <td>14439</td>\n",
              "      <td>403.374223</td>\n",
              "      <td>2</td>\n",
              "      <td>Female</td>\n",
              "      <td>Tier 2</td>\n",
              "      <td>3254.160485</td>\n",
              "      <td>1</td>\n",
              "      <td>0</td>\n",
              "    </tr>\n",
              "  </tbody>\n",
              "</table>\n",
              "</div>"
            ],
            "text/plain": [
              "  Transaction ID  Age    Items   Monthly Income  Transaction Time  Record  \\\n",
              "0         TXN001    42       10            7313        627.668127       5   \n",
              "1         TXN002    24        8           17747        126.904567       3   \n",
              "2         TXN003    47       11           22845        873.469701       2   \n",
              "3         TXN004    50       11           18552        380.219428       7   \n",
              "4         TXN005    60        2           14439        403.374223       2   \n",
              "\n",
              "   Gender City Tier  Total Spend  Gender_Female  Gender_Male  \n",
              "0  Female    Tier 1  4198.385084              1            0  \n",
              "1  Female    Tier 2  4134.976648              1            0  \n",
              "2    Male    Tier 2  5166.614455              0            1  \n",
              "3  Female    Tier 1  7784.447676              1            0  \n",
              "4  Female    Tier 2  3254.160485              1            0  "
            ]
          },
          "execution_count": 8,
          "metadata": {},
          "output_type": "execute_result"
        }
      ],
      "source": [
        "df_new = df[column_names].join(dummy_gender)\n",
        "column_names = df_new.columns.values.tolist()\n",
        "df_new.head()"
      ]
    },
    {
      "cell_type": "code",
      "execution_count": null,
      "metadata": {
        "id": "WlYvC5XMzzp6",
        "outputId": "86e6db00-fbfd-4082-b0a5-bb3b20b30207"
      },
      "outputs": [
        {
          "data": {
            "text/html": [
              "<div>\n",
              "<style scoped>\n",
              "    .dataframe tbody tr th:only-of-type {\n",
              "        vertical-align: middle;\n",
              "    }\n",
              "\n",
              "    .dataframe tbody tr th {\n",
              "        vertical-align: top;\n",
              "    }\n",
              "\n",
              "    .dataframe thead th {\n",
              "        text-align: right;\n",
              "    }\n",
              "</style>\n",
              "<table border=\"1\" class=\"dataframe\">\n",
              "  <thead>\n",
              "    <tr style=\"text-align: right;\">\n",
              "      <th></th>\n",
              "      <th>Transaction ID</th>\n",
              "      <th>Age</th>\n",
              "      <th>Items</th>\n",
              "      <th>Monthly Income</th>\n",
              "      <th>Transaction Time</th>\n",
              "      <th>Record</th>\n",
              "      <th>Gender</th>\n",
              "      <th>City Tier</th>\n",
              "      <th>Total Spend</th>\n",
              "      <th>Gender_Female</th>\n",
              "      <th>Gender_Male</th>\n",
              "      <th>City_Tier 1</th>\n",
              "      <th>City_Tier 2</th>\n",
              "      <th>City_Tier 3</th>\n",
              "    </tr>\n",
              "  </thead>\n",
              "  <tbody>\n",
              "    <tr>\n",
              "      <th>0</th>\n",
              "      <td>TXN001</td>\n",
              "      <td>42</td>\n",
              "      <td>10</td>\n",
              "      <td>7313</td>\n",
              "      <td>627.668127</td>\n",
              "      <td>5</td>\n",
              "      <td>Female</td>\n",
              "      <td>Tier 1</td>\n",
              "      <td>4198.385084</td>\n",
              "      <td>1</td>\n",
              "      <td>0</td>\n",
              "      <td>1</td>\n",
              "      <td>0</td>\n",
              "      <td>0</td>\n",
              "    </tr>\n",
              "    <tr>\n",
              "      <th>1</th>\n",
              "      <td>TXN002</td>\n",
              "      <td>24</td>\n",
              "      <td>8</td>\n",
              "      <td>17747</td>\n",
              "      <td>126.904567</td>\n",
              "      <td>3</td>\n",
              "      <td>Female</td>\n",
              "      <td>Tier 2</td>\n",
              "      <td>4134.976648</td>\n",
              "      <td>1</td>\n",
              "      <td>0</td>\n",
              "      <td>0</td>\n",
              "      <td>1</td>\n",
              "      <td>0</td>\n",
              "    </tr>\n",
              "    <tr>\n",
              "      <th>2</th>\n",
              "      <td>TXN003</td>\n",
              "      <td>47</td>\n",
              "      <td>11</td>\n",
              "      <td>22845</td>\n",
              "      <td>873.469701</td>\n",
              "      <td>2</td>\n",
              "      <td>Male</td>\n",
              "      <td>Tier 2</td>\n",
              "      <td>5166.614455</td>\n",
              "      <td>0</td>\n",
              "      <td>1</td>\n",
              "      <td>0</td>\n",
              "      <td>1</td>\n",
              "      <td>0</td>\n",
              "    </tr>\n",
              "    <tr>\n",
              "      <th>3</th>\n",
              "      <td>TXN004</td>\n",
              "      <td>50</td>\n",
              "      <td>11</td>\n",
              "      <td>18552</td>\n",
              "      <td>380.219428</td>\n",
              "      <td>7</td>\n",
              "      <td>Female</td>\n",
              "      <td>Tier 1</td>\n",
              "      <td>7784.447676</td>\n",
              "      <td>1</td>\n",
              "      <td>0</td>\n",
              "      <td>1</td>\n",
              "      <td>0</td>\n",
              "      <td>0</td>\n",
              "    </tr>\n",
              "    <tr>\n",
              "      <th>4</th>\n",
              "      <td>TXN005</td>\n",
              "      <td>60</td>\n",
              "      <td>2</td>\n",
              "      <td>14439</td>\n",
              "      <td>403.374223</td>\n",
              "      <td>2</td>\n",
              "      <td>Female</td>\n",
              "      <td>Tier 2</td>\n",
              "      <td>3254.160485</td>\n",
              "      <td>1</td>\n",
              "      <td>0</td>\n",
              "      <td>0</td>\n",
              "      <td>1</td>\n",
              "      <td>0</td>\n",
              "    </tr>\n",
              "  </tbody>\n",
              "</table>\n",
              "</div>"
            ],
            "text/plain": [
              "  Transaction ID  Age    Items   Monthly Income  Transaction Time  Record  \\\n",
              "0         TXN001    42       10            7313        627.668127       5   \n",
              "1         TXN002    24        8           17747        126.904567       3   \n",
              "2         TXN003    47       11           22845        873.469701       2   \n",
              "3         TXN004    50       11           18552        380.219428       7   \n",
              "4         TXN005    60        2           14439        403.374223       2   \n",
              "\n",
              "   Gender City Tier  Total Spend  Gender_Female  Gender_Male  City_Tier 1  \\\n",
              "0  Female    Tier 1  4198.385084              1            0            1   \n",
              "1  Female    Tier 2  4134.976648              1            0            0   \n",
              "2    Male    Tier 2  5166.614455              0            1            0   \n",
              "3  Female    Tier 1  7784.447676              1            0            1   \n",
              "4  Female    Tier 2  3254.160485              1            0            0   \n",
              "\n",
              "   City_Tier 2  City_Tier 3  \n",
              "0            0            0  \n",
              "1            1            0  \n",
              "2            1            0  \n",
              "3            0            0  \n",
              "4            1            0  "
            ]
          },
          "execution_count": 9,
          "metadata": {},
          "output_type": "execute_result"
        }
      ],
      "source": [
        "df_new = df_new[column_names].join(dummy_city_tier)\n",
        "df_new.head()"
      ]
    },
    {
      "cell_type": "code",
      "execution_count": null,
      "metadata": {
        "id": "4ZwkxCcbzzp6"
      },
      "outputs": [],
      "source": [
        "feature_cols = [\"Monthly Income\", \"Transaction Time\",\n",
        "                \"Gender_Female\", \"Gender_Male\",\n",
        "                \"City_Tier 1\", \"City_Tier 2\", \"City_Tier 3\",\n",
        "                \"Record\"]"
      ]
    },
    {
      "cell_type": "code",
      "execution_count": null,
      "metadata": {
        "id": "Hf-zkY1Wzzp6"
      },
      "outputs": [],
      "source": [
        "X = df_new[feature_cols]\n",
        "Y = df_new[\"Total Spend\"]"
      ]
    },
    {
      "cell_type": "code",
      "execution_count": null,
      "metadata": {
        "id": "JWXIbUV-zzp7",
        "outputId": "2adf76a2-7e44-44a0-fb64-dcb2deacdd2b"
      },
      "outputs": [
        {
          "data": {
            "text/plain": [
              "LinearRegression()"
            ]
          },
          "execution_count": 12,
          "metadata": {},
          "output_type": "execute_result"
        }
      ],
      "source": [
        "lm = LinearRegression()\n",
        "lm.fit(X,Y)"
      ]
    },
    {
      "cell_type": "code",
      "execution_count": null,
      "metadata": {
        "id": "0jS9g73kzzp7",
        "outputId": "07f48982-646e-4f1e-a32e-bb4adfdd487f"
      },
      "outputs": [
        {
          "name": "stdout",
          "output_type": "stream",
          "text": [
            "-79.41713030137271\n",
            "[ 1.47538980e-01  1.54946125e-01 -1.31025013e+02  1.31025013e+02\n",
            "  7.67643260e+01  5.51389743e+01 -1.31903300e+02  7.72233446e+02]\n"
          ]
        }
      ],
      "source": [
        "print(lm.intercept_)\n",
        "print(lm.coef_)"
      ]
    },
    {
      "cell_type": "code",
      "execution_count": null,
      "metadata": {
        "id": "LNpVe13Dzzp7",
        "outputId": "350f8ebf-a587-4b9f-d23f-54fc54928884"
      },
      "outputs": [
        {
          "data": {
            "text/plain": [
              "[('Monthly Income', 0.14753898049205746),\n",
              " ('Transaction Time', 0.15494612549589526),\n",
              " ('Gender_Female', -131.02501325554653),\n",
              " ('Gender_Male', 131.02501325554647),\n",
              " ('City_Tier 1', 76.76432601049476),\n",
              " ('City_Tier 2', 55.138974309232474),\n",
              " ('City_Tier 3', -131.9033003197273),\n",
              " ('Record', 772.2334457445645)]"
            ]
          },
          "execution_count": 14,
          "metadata": {},
          "output_type": "execute_result"
        }
      ],
      "source": [
        "list(zip(feature_cols, lm.coef_))"
      ]
    },
    {
      "cell_type": "code",
      "execution_count": null,
      "metadata": {
        "id": "zuVBYl1xzzp7",
        "outputId": "9aa42a1f-4f2e-4227-f534-826c0d817ee6"
      },
      "outputs": [
        {
          "data": {
            "text/plain": [
              "0.9179923586131016"
            ]
          },
          "execution_count": 15,
          "metadata": {},
          "output_type": "execute_result"
        }
      ],
      "source": [
        "lm.score(X,Y)"
      ]
    },
    {
      "cell_type": "markdown",
      "metadata": {
        "id": "d-7W_QT3zzp8"
      },
      "source": [
        "El modelo puede ser escrito como:\n",
        "* Total_Spend = -79.41713030137362 + 'Monthly Income'* 0.14753898049205738 + 'Transaction Time'* 0.15494612549589545+'Gender_Female'* -131.02501325554567 + 'Gender_Male'* 131.0250132555456+'City_Tier 1'* 76.76432601049527 + 'City_Tier 2'* 55.138974309232474 + 'City_Tier 3'* -131.9033003197278+'Record'* 772.2334457445648\n",
        "    * Si es hombre y vive en CT1: Total_Spend = 128.37220896466724 + 'Monthly Income'* 0.14753898049205738 + 'Transaction Time'* 0.15494612549589545+'Record'* 772.2334457445648\n",
        "    * Si es hombre y vive en CT2: Total_Spend = 106.74685726340445 + 'Monthly Income'* 0.14753898049205738 + 'Transaction Time'* 0.15494612549589545 +'Record'* 772.2334457445648\n",
        "    * Si es hombre y vive en CT3: Total_Spend = -80.29541736555583 + 'Monthly Income'* 0.14753898049205738 + 'Transaction Time'* 0.15494612549589545+'Record'* 772.2334457445648\n",
        "    * Si es mujer y vive en CT1: Total_Spend = -79.41713030137362 + 'Monthly Income'* 0.14753898049205738 + 'Transaction Time'* 0.15494612549589545 - 131.0250132555456+ 76.76432601049527 +'Record'* 772.2334457445648\n",
        "    * Si es mujer y vive en CT2: Total_Spend = -79.41713030137362 + 'Monthly Income'* 0.14753898049205738 + 'Transaction Time'* 0.15494612549589545 - 131.0250132555456+ 55.138974309232474  +'Record'* 772.2334457445648\n",
        "    * Si es mujer y vive en CT3: Total_Spend = -79.41713030137362 + 'Monthly Income'* 0.14753898049205738 + 'Transaction Time'* 0.15494612549589545 - 131.0250132555456-131.9033003197278 +'Record'* 772.2334457445648"
      ]
    },
    {
      "cell_type": "code",
      "execution_count": null,
      "metadata": {
        "id": "JWsU2bO7zzp8",
        "outputId": "9d12d2ad-c147-4f0b-ce92-940c5677aa18"
      },
      "outputs": [
        {
          "data": {
            "text/plain": [
              "-80.29541736555583"
            ]
          },
          "execution_count": 16,
          "metadata": {},
          "output_type": "execute_result"
        }
      ],
      "source": [
        " -79.41713030137362 + 131.0250132555456-131.9033003197278"
      ]
    },
    {
      "cell_type": "code",
      "execution_count": null,
      "metadata": {
        "id": "DoiclhBEzzp8"
      },
      "outputs": [],
      "source": [
        "df_new[\"prediction\"] = -79.41713030137362 + df_new['Monthly Income']*0.14753898049205738 + df_new['Transaction Time']* 0.15494612549589545+ df_new['Gender_Female'] * (-131.02501325554567) + df_new['Gender_Male'] * 131.0250132555456+ df_new['City_Tier 1']* 76.76432601049527 +  df_new['City_Tier 2']* 55.138974309232474 + df_new['City_Tier 3']* (-131.9033003197278)+ df_new['Record']* 772.2334457445648"
      ]
    },
    {
      "cell_type": "code",
      "execution_count": null,
      "metadata": {
        "id": "pVBTP4nFzzp8",
        "outputId": "c82d17cf-b127-4b29-d976-20b9f8c23d2b"
      },
      "outputs": [
        {
          "data": {
            "text/html": [
              "<div>\n",
              "<style scoped>\n",
              "    .dataframe tbody tr th:only-of-type {\n",
              "        vertical-align: middle;\n",
              "    }\n",
              "\n",
              "    .dataframe tbody tr th {\n",
              "        vertical-align: top;\n",
              "    }\n",
              "\n",
              "    .dataframe thead th {\n",
              "        text-align: right;\n",
              "    }\n",
              "</style>\n",
              "<table border=\"1\" class=\"dataframe\">\n",
              "  <thead>\n",
              "    <tr style=\"text-align: right;\">\n",
              "      <th></th>\n",
              "      <th>Transaction ID</th>\n",
              "      <th>Age</th>\n",
              "      <th>Items</th>\n",
              "      <th>Monthly Income</th>\n",
              "      <th>Transaction Time</th>\n",
              "      <th>Record</th>\n",
              "      <th>Gender</th>\n",
              "      <th>City Tier</th>\n",
              "      <th>Total Spend</th>\n",
              "      <th>Gender_Female</th>\n",
              "      <th>Gender_Male</th>\n",
              "      <th>City_Tier 1</th>\n",
              "      <th>City_Tier 2</th>\n",
              "      <th>City_Tier 3</th>\n",
              "      <th>prediction</th>\n",
              "    </tr>\n",
              "  </thead>\n",
              "  <tbody>\n",
              "    <tr>\n",
              "      <th>0</th>\n",
              "      <td>TXN001</td>\n",
              "      <td>42</td>\n",
              "      <td>10</td>\n",
              "      <td>7313</td>\n",
              "      <td>627.668127</td>\n",
              "      <td>5</td>\n",
              "      <td>Female</td>\n",
              "      <td>Tier 1</td>\n",
              "      <td>4198.385084</td>\n",
              "      <td>1</td>\n",
              "      <td>0</td>\n",
              "      <td>1</td>\n",
              "      <td>0</td>\n",
              "      <td>0</td>\n",
              "      <td>4903.696720</td>\n",
              "    </tr>\n",
              "    <tr>\n",
              "      <th>1</th>\n",
              "      <td>TXN002</td>\n",
              "      <td>24</td>\n",
              "      <td>8</td>\n",
              "      <td>17747</td>\n",
              "      <td>126.904567</td>\n",
              "      <td>3</td>\n",
              "      <td>Female</td>\n",
              "      <td>Tier 2</td>\n",
              "      <td>4134.976648</td>\n",
              "      <td>1</td>\n",
              "      <td>0</td>\n",
              "      <td>0</td>\n",
              "      <td>1</td>\n",
              "      <td>0</td>\n",
              "      <td>4799.434826</td>\n",
              "    </tr>\n",
              "    <tr>\n",
              "      <th>2</th>\n",
              "      <td>TXN003</td>\n",
              "      <td>47</td>\n",
              "      <td>11</td>\n",
              "      <td>22845</td>\n",
              "      <td>873.469701</td>\n",
              "      <td>2</td>\n",
              "      <td>Male</td>\n",
              "      <td>Tier 2</td>\n",
              "      <td>5166.614455</td>\n",
              "      <td>0</td>\n",
              "      <td>1</td>\n",
              "      <td>0</td>\n",
              "      <td>1</td>\n",
              "      <td>0</td>\n",
              "      <td>5157.082504</td>\n",
              "    </tr>\n",
              "    <tr>\n",
              "      <th>3</th>\n",
              "      <td>TXN004</td>\n",
              "      <td>50</td>\n",
              "      <td>11</td>\n",
              "      <td>18552</td>\n",
              "      <td>380.219428</td>\n",
              "      <td>7</td>\n",
              "      <td>Female</td>\n",
              "      <td>Tier 1</td>\n",
              "      <td>7784.447676</td>\n",
              "      <td>1</td>\n",
              "      <td>0</td>\n",
              "      <td>1</td>\n",
              "      <td>0</td>\n",
              "      <td>0</td>\n",
              "      <td>8068.012996</td>\n",
              "    </tr>\n",
              "    <tr>\n",
              "      <th>4</th>\n",
              "      <td>TXN005</td>\n",
              "      <td>60</td>\n",
              "      <td>2</td>\n",
              "      <td>14439</td>\n",
              "      <td>403.374223</td>\n",
              "      <td>2</td>\n",
              "      <td>Female</td>\n",
              "      <td>Tier 2</td>\n",
              "      <td>3254.160485</td>\n",
              "      <td>1</td>\n",
              "      <td>0</td>\n",
              "      <td>0</td>\n",
              "      <td>1</td>\n",
              "      <td>0</td>\n",
              "      <td>3581.980335</td>\n",
              "    </tr>\n",
              "  </tbody>\n",
              "</table>\n",
              "</div>"
            ],
            "text/plain": [
              "  Transaction ID  Age    Items   Monthly Income  Transaction Time  Record  \\\n",
              "0         TXN001    42       10            7313        627.668127       5   \n",
              "1         TXN002    24        8           17747        126.904567       3   \n",
              "2         TXN003    47       11           22845        873.469701       2   \n",
              "3         TXN004    50       11           18552        380.219428       7   \n",
              "4         TXN005    60        2           14439        403.374223       2   \n",
              "\n",
              "   Gender City Tier  Total Spend  Gender_Female  Gender_Male  City_Tier 1  \\\n",
              "0  Female    Tier 1  4198.385084              1            0            1   \n",
              "1  Female    Tier 2  4134.976648              1            0            0   \n",
              "2    Male    Tier 2  5166.614455              0            1            0   \n",
              "3  Female    Tier 1  7784.447676              1            0            1   \n",
              "4  Female    Tier 2  3254.160485              1            0            0   \n",
              "\n",
              "   City_Tier 2  City_Tier 3   prediction  \n",
              "0            0            0  4903.696720  \n",
              "1            1            0  4799.434826  \n",
              "2            1            0  5157.082504  \n",
              "3            0            0  8068.012996  \n",
              "4            1            0  3581.980335  "
            ]
          },
          "execution_count": 18,
          "metadata": {},
          "output_type": "execute_result"
        }
      ],
      "source": [
        "df_new.head()"
      ]
    },
    {
      "cell_type": "code",
      "execution_count": null,
      "metadata": {
        "id": "8DoXEymJzzp9"
      },
      "outputs": [],
      "source": [
        "SSD = np.sum((df_new[\"prediction\"] - df_new[\"Total Spend\"])**2)"
      ]
    },
    {
      "cell_type": "code",
      "execution_count": null,
      "metadata": {
        "id": "L3I81qbUzzp9",
        "outputId": "07c9e951-628c-49cc-c43b-dfb16290a1a8"
      },
      "outputs": [
        {
          "data": {
            "text/plain": [
              "1517733985.3408163"
            ]
          },
          "execution_count": 20,
          "metadata": {},
          "output_type": "execute_result"
        }
      ],
      "source": [
        "SSD"
      ]
    },
    {
      "cell_type": "code",
      "execution_count": null,
      "metadata": {
        "id": "4jM5v3kkzzp9"
      },
      "outputs": [],
      "source": [
        "RSE = np.sqrt(SSD/(len(df_new)-len(feature_cols)-1))"
      ]
    },
    {
      "cell_type": "code",
      "execution_count": null,
      "metadata": {
        "id": "NhNlZ9dXzzp9",
        "outputId": "6459feee-e094-4caf-f09a-bb05560e2c48"
      },
      "outputs": [
        {
          "data": {
            "text/plain": [
              "803.1318809818165"
            ]
          },
          "execution_count": 22,
          "metadata": {},
          "output_type": "execute_result"
        }
      ],
      "source": [
        "RSE"
      ]
    },
    {
      "cell_type": "code",
      "execution_count": null,
      "metadata": {
        "id": "527xK3LUzzp9"
      },
      "outputs": [],
      "source": [
        "sales_mean=np.mean(df_new[\"Total Spend\"])"
      ]
    },
    {
      "cell_type": "code",
      "execution_count": null,
      "metadata": {
        "id": "_D9jNQWAzzp-",
        "outputId": "e1549d0b-78c4-4eea-d3cf-632ce28cccd6"
      },
      "outputs": [
        {
          "data": {
            "text/plain": [
              "6163.176415976714"
            ]
          },
          "execution_count": 24,
          "metadata": {},
          "output_type": "execute_result"
        }
      ],
      "source": [
        "sales_mean"
      ]
    },
    {
      "cell_type": "code",
      "execution_count": null,
      "metadata": {
        "id": "8hszwjaazzp-"
      },
      "outputs": [],
      "source": [
        "error = RSE/sales_mean"
      ]
    },
    {
      "cell_type": "code",
      "execution_count": null,
      "metadata": {
        "id": "VYp1YrOozzp-",
        "outputId": "f1eb25fc-23ea-4461-8591-70d9bf2bc1a8"
      },
      "outputs": [
        {
          "data": {
            "text/plain": [
              "13.031135680294161"
            ]
          },
          "execution_count": 26,
          "metadata": {},
          "output_type": "execute_result"
        }
      ],
      "source": [
        "error*100"
      ]
    },
    {
      "cell_type": "markdown",
      "metadata": {
        "id": "XoBe1Dbazzp-"
      },
      "source": [
        "## Eliminar variables dummy redundantes"
      ]
    },
    {
      "cell_type": "code",
      "execution_count": null,
      "metadata": {
        "id": "qppoL8Q4zzp_",
        "outputId": "5c96bc82-8ea8-4467-95e9-35f54a771f0e"
      },
      "outputs": [
        {
          "data": {
            "text/html": [
              "<div>\n",
              "<style scoped>\n",
              "    .dataframe tbody tr th:only-of-type {\n",
              "        vertical-align: middle;\n",
              "    }\n",
              "\n",
              "    .dataframe tbody tr th {\n",
              "        vertical-align: top;\n",
              "    }\n",
              "\n",
              "    .dataframe thead th {\n",
              "        text-align: right;\n",
              "    }\n",
              "</style>\n",
              "<table border=\"1\" class=\"dataframe\">\n",
              "  <thead>\n",
              "    <tr style=\"text-align: right;\">\n",
              "      <th></th>\n",
              "      <th>Gender_Male</th>\n",
              "    </tr>\n",
              "  </thead>\n",
              "  <tbody>\n",
              "    <tr>\n",
              "      <th>0</th>\n",
              "      <td>0</td>\n",
              "    </tr>\n",
              "    <tr>\n",
              "      <th>1</th>\n",
              "      <td>0</td>\n",
              "    </tr>\n",
              "    <tr>\n",
              "      <th>2</th>\n",
              "      <td>1</td>\n",
              "    </tr>\n",
              "    <tr>\n",
              "      <th>3</th>\n",
              "      <td>0</td>\n",
              "    </tr>\n",
              "    <tr>\n",
              "      <th>4</th>\n",
              "      <td>0</td>\n",
              "    </tr>\n",
              "  </tbody>\n",
              "</table>\n",
              "</div>"
            ],
            "text/plain": [
              "   Gender_Male\n",
              "0            0\n",
              "1            0\n",
              "2            1\n",
              "3            0\n",
              "4            0"
            ]
          },
          "execution_count": 27,
          "metadata": {},
          "output_type": "execute_result"
        }
      ],
      "source": [
        "dummy_gender = pd.get_dummies(df[\"Gender\"], prefix=\"Gender\").iloc[:,1:]\n",
        "dummy_gender.head()"
      ]
    },
    {
      "cell_type": "code",
      "execution_count": null,
      "metadata": {
        "id": "vW_91l7nzzp_",
        "outputId": "12e0853c-154b-4925-bac2-f788c0edc687"
      },
      "outputs": [
        {
          "data": {
            "text/html": [
              "<div>\n",
              "<style scoped>\n",
              "    .dataframe tbody tr th:only-of-type {\n",
              "        vertical-align: middle;\n",
              "    }\n",
              "\n",
              "    .dataframe tbody tr th {\n",
              "        vertical-align: top;\n",
              "    }\n",
              "\n",
              "    .dataframe thead th {\n",
              "        text-align: right;\n",
              "    }\n",
              "</style>\n",
              "<table border=\"1\" class=\"dataframe\">\n",
              "  <thead>\n",
              "    <tr style=\"text-align: right;\">\n",
              "      <th></th>\n",
              "      <th>City_Tier 2</th>\n",
              "      <th>City_Tier 3</th>\n",
              "    </tr>\n",
              "  </thead>\n",
              "  <tbody>\n",
              "    <tr>\n",
              "      <th>0</th>\n",
              "      <td>0</td>\n",
              "      <td>0</td>\n",
              "    </tr>\n",
              "    <tr>\n",
              "      <th>1</th>\n",
              "      <td>1</td>\n",
              "      <td>0</td>\n",
              "    </tr>\n",
              "    <tr>\n",
              "      <th>2</th>\n",
              "      <td>1</td>\n",
              "      <td>0</td>\n",
              "    </tr>\n",
              "    <tr>\n",
              "      <th>3</th>\n",
              "      <td>0</td>\n",
              "      <td>0</td>\n",
              "    </tr>\n",
              "    <tr>\n",
              "      <th>4</th>\n",
              "      <td>1</td>\n",
              "      <td>0</td>\n",
              "    </tr>\n",
              "  </tbody>\n",
              "</table>\n",
              "</div>"
            ],
            "text/plain": [
              "   City_Tier 2  City_Tier 3\n",
              "0            0            0\n",
              "1            1            0\n",
              "2            1            0\n",
              "3            0            0\n",
              "4            1            0"
            ]
          },
          "execution_count": 28,
          "metadata": {},
          "output_type": "execute_result"
        }
      ],
      "source": [
        "dummy_city_tier = pd.get_dummies(df[\"City Tier\"], prefix=\"City\").iloc[:,1:]\n",
        "dummy_city_tier.head()"
      ]
    },
    {
      "cell_type": "code",
      "execution_count": null,
      "metadata": {
        "id": "QRbyzmngzzp_",
        "outputId": "846ce21f-6b0c-4e2b-cd53-46c821d8392a"
      },
      "outputs": [
        {
          "data": {
            "text/html": [
              "<div>\n",
              "<style scoped>\n",
              "    .dataframe tbody tr th:only-of-type {\n",
              "        vertical-align: middle;\n",
              "    }\n",
              "\n",
              "    .dataframe tbody tr th {\n",
              "        vertical-align: top;\n",
              "    }\n",
              "\n",
              "    .dataframe thead th {\n",
              "        text-align: right;\n",
              "    }\n",
              "</style>\n",
              "<table border=\"1\" class=\"dataframe\">\n",
              "  <thead>\n",
              "    <tr style=\"text-align: right;\">\n",
              "      <th></th>\n",
              "      <th>Transaction ID</th>\n",
              "      <th>Age</th>\n",
              "      <th>Items</th>\n",
              "      <th>Monthly Income</th>\n",
              "      <th>Transaction Time</th>\n",
              "      <th>Record</th>\n",
              "      <th>Gender</th>\n",
              "      <th>City Tier</th>\n",
              "      <th>Total Spend</th>\n",
              "      <th>Gender_Male</th>\n",
              "      <th>City_Tier 2</th>\n",
              "      <th>City_Tier 3</th>\n",
              "    </tr>\n",
              "  </thead>\n",
              "  <tbody>\n",
              "    <tr>\n",
              "      <th>0</th>\n",
              "      <td>TXN001</td>\n",
              "      <td>42</td>\n",
              "      <td>10</td>\n",
              "      <td>7313</td>\n",
              "      <td>627.668127</td>\n",
              "      <td>5</td>\n",
              "      <td>Female</td>\n",
              "      <td>Tier 1</td>\n",
              "      <td>4198.385084</td>\n",
              "      <td>0</td>\n",
              "      <td>0</td>\n",
              "      <td>0</td>\n",
              "    </tr>\n",
              "    <tr>\n",
              "      <th>1</th>\n",
              "      <td>TXN002</td>\n",
              "      <td>24</td>\n",
              "      <td>8</td>\n",
              "      <td>17747</td>\n",
              "      <td>126.904567</td>\n",
              "      <td>3</td>\n",
              "      <td>Female</td>\n",
              "      <td>Tier 2</td>\n",
              "      <td>4134.976648</td>\n",
              "      <td>0</td>\n",
              "      <td>1</td>\n",
              "      <td>0</td>\n",
              "    </tr>\n",
              "    <tr>\n",
              "      <th>2</th>\n",
              "      <td>TXN003</td>\n",
              "      <td>47</td>\n",
              "      <td>11</td>\n",
              "      <td>22845</td>\n",
              "      <td>873.469701</td>\n",
              "      <td>2</td>\n",
              "      <td>Male</td>\n",
              "      <td>Tier 2</td>\n",
              "      <td>5166.614455</td>\n",
              "      <td>1</td>\n",
              "      <td>1</td>\n",
              "      <td>0</td>\n",
              "    </tr>\n",
              "    <tr>\n",
              "      <th>3</th>\n",
              "      <td>TXN004</td>\n",
              "      <td>50</td>\n",
              "      <td>11</td>\n",
              "      <td>18552</td>\n",
              "      <td>380.219428</td>\n",
              "      <td>7</td>\n",
              "      <td>Female</td>\n",
              "      <td>Tier 1</td>\n",
              "      <td>7784.447676</td>\n",
              "      <td>0</td>\n",
              "      <td>0</td>\n",
              "      <td>0</td>\n",
              "    </tr>\n",
              "    <tr>\n",
              "      <th>4</th>\n",
              "      <td>TXN005</td>\n",
              "      <td>60</td>\n",
              "      <td>2</td>\n",
              "      <td>14439</td>\n",
              "      <td>403.374223</td>\n",
              "      <td>2</td>\n",
              "      <td>Female</td>\n",
              "      <td>Tier 2</td>\n",
              "      <td>3254.160485</td>\n",
              "      <td>0</td>\n",
              "      <td>1</td>\n",
              "      <td>0</td>\n",
              "    </tr>\n",
              "  </tbody>\n",
              "</table>\n",
              "</div>"
            ],
            "text/plain": [
              "  Transaction ID  Age    Items   Monthly Income  Transaction Time  Record  \\\n",
              "0         TXN001    42       10            7313        627.668127       5   \n",
              "1         TXN002    24        8           17747        126.904567       3   \n",
              "2         TXN003    47       11           22845        873.469701       2   \n",
              "3         TXN004    50       11           18552        380.219428       7   \n",
              "4         TXN005    60        2           14439        403.374223       2   \n",
              "\n",
              "   Gender City Tier  Total Spend  Gender_Male  City_Tier 2  City_Tier 3  \n",
              "0  Female    Tier 1  4198.385084            0            0            0  \n",
              "1  Female    Tier 2  4134.976648            0            1            0  \n",
              "2    Male    Tier 2  5166.614455            1            1            0  \n",
              "3  Female    Tier 1  7784.447676            0            0            0  \n",
              "4  Female    Tier 2  3254.160485            0            1            0  "
            ]
          },
          "execution_count": 29,
          "metadata": {},
          "output_type": "execute_result"
        }
      ],
      "source": [
        "column_names = df.columns.values.tolist()\n",
        "df_new = df[column_names].join(dummy_gender)\n",
        "column_names = df_new.columns.values.tolist()\n",
        "df_new = df_new[column_names].join(dummy_city_tier)\n",
        "df_new.head()"
      ]
    },
    {
      "cell_type": "code",
      "execution_count": null,
      "metadata": {
        "id": "XgF1tevEzzqA",
        "outputId": "b6f2d172-ec9f-448f-aba4-054d45cd8791"
      },
      "outputs": [
        {
          "data": {
            "text/plain": [
              "LinearRegression()"
            ]
          },
          "execution_count": 30,
          "metadata": {},
          "output_type": "execute_result"
        }
      ],
      "source": [
        "feature_cols = [\"Monthly Income\", \"Transaction Time\", \"Gender_Male\", \"City_Tier 2\", \"City_Tier 3\", \"Record\"]\n",
        "X = df_new[feature_cols]\n",
        "Y = df_new[\"Total Spend\"]\n",
        "lm = LinearRegression()\n",
        "lm.fit(X,Y)"
      ]
    },
    {
      "cell_type": "code",
      "execution_count": null,
      "metadata": {
        "id": "l0wFE_qOzzqF",
        "outputId": "ea5f5e64-10cd-4db5-eeef-e7d0b07f3f08"
      },
      "outputs": [
        {
          "name": "stdout",
          "output_type": "stream",
          "text": [
            "-133.67781754642238\n"
          ]
        }
      ],
      "source": [
        "print(lm.intercept_)"
      ]
    },
    {
      "cell_type": "code",
      "execution_count": null,
      "metadata": {
        "id": "t9k-yJOpzzqF",
        "outputId": "9292316b-dde4-45bb-f7de-140590193020"
      },
      "outputs": [
        {
          "data": {
            "text/plain": [
              "[('Monthly Income', 0.1475389804920575),\n",
              " ('Transaction Time', 0.15494612549589615),\n",
              " ('Gender_Male', 262.05002651109584),\n",
              " ('City_Tier 2', -21.62535170126288),\n",
              " ('City_Tier 3', -208.66762633022262),\n",
              " ('Record', 772.2334457445636)]"
            ]
          },
          "execution_count": 32,
          "metadata": {},
          "output_type": "execute_result"
        }
      ],
      "source": [
        "list(zip(feature_cols, lm.coef_))"
      ]
    },
    {
      "cell_type": "code",
      "execution_count": null,
      "metadata": {
        "id": "odCYq-yizzqF",
        "outputId": "f81271a3-1507-4b1f-b4ee-3a6d931d3647"
      },
      "outputs": [
        {
          "data": {
            "text/plain": [
              "0.9179923586131016"
            ]
          },
          "execution_count": 33,
          "metadata": {},
          "output_type": "execute_result"
        }
      ],
      "source": [
        "lm.score(X,Y)"
      ]
    },
    {
      "cell_type": "markdown",
      "metadata": {
        "id": "iZbJOfKBzzqG"
      },
      "source": [
        "Coeficientes con todas las variables en el modelo\n",
        "* ('Monthly Income', 0.14753898049205738),\n",
        "* ('Transaction Time', 0.15494612549589545),\n",
        "* ('Gender_Female', -131.02501325554567),\n",
        "* ('Gender_Male', 131.0250132555456),\n",
        "* ('City_Tier 1', 76.76432601049527),\n",
        "* ('City_Tier 2', 55.138974309232474),\n",
        "* ('City_Tier 3', -131.9033003197278),\n",
        "* ('Record', 772.2334457445648)\n",
        "\n",
        " Coeficientes tras enmascarar las variables dummy pertinentes\n",
        "* 'Monthly Income', 0.14753898049205744),\n",
        "* ('Transaction Time', 0.15494612549589631),\n",
        "* ('Gender_Male', 262.05002651109595),\n",
        "* ('City_Tier 2', -21.62535170126296),\n",
        "* ('City_Tier 3', -208.66762633022324),\n",
        "* ('Record', 772.2334457445635)]\n",
        "\n",
        "Los cambios se reflejan en\n",
        "* Gender_Male:\n",
        "    * antes -> 131.02,\n",
        "    * después -> 262.05 = ( 131.02 - (-131.02))\n",
        "* Gender_Female:\n",
        "    * antes -> -131.02,\n",
        "    * después -> 0\n",
        "* CT1:\n",
        "    * antes -> 76.76,\n",
        "    * después -> 0\n",
        "* CT2:\n",
        "    * antes -> 55.13,\n",
        "    * después -> -21.62 = (55.13 - 76.76)\n",
        "* CT3:\n",
        "    * antes -> -131.90,\n",
        "    * después -> -208.66 = (-131.90 - 76.76)"
      ]
    },
    {
      "cell_type": "markdown",
      "metadata": {
        "id": "41KJOwm6zzqG"
      },
      "source": [
        "# Transformación de variables para conseguir una relación no lineal"
      ]
    },
    {
      "cell_type": "code",
      "execution_count": null,
      "metadata": {
        "id": "LLH_uk4ozzqG"
      },
      "outputs": [],
      "source": [
        "import pandas as pd"
      ]
    },
    {
      "cell_type": "code",
      "execution_count": null,
      "metadata": {
        "id": "Bj0V6k5lzzqG",
        "outputId": "4ae30dd0-883b-41b4-b92c-9092955fe87b"
      },
      "outputs": [
        {
          "data": {
            "text/html": [
              "<div>\n",
              "<style scoped>\n",
              "    .dataframe tbody tr th:only-of-type {\n",
              "        vertical-align: middle;\n",
              "    }\n",
              "\n",
              "    .dataframe tbody tr th {\n",
              "        vertical-align: top;\n",
              "    }\n",
              "\n",
              "    .dataframe thead th {\n",
              "        text-align: right;\n",
              "    }\n",
              "</style>\n",
              "<table border=\"1\" class=\"dataframe\">\n",
              "  <thead>\n",
              "    <tr style=\"text-align: right;\">\n",
              "      <th></th>\n",
              "      <th>mpg</th>\n",
              "      <th>cylinders</th>\n",
              "      <th>displacement</th>\n",
              "      <th>horsepower</th>\n",
              "      <th>weight</th>\n",
              "      <th>acceleration</th>\n",
              "      <th>model year</th>\n",
              "      <th>origin</th>\n",
              "      <th>car name</th>\n",
              "    </tr>\n",
              "  </thead>\n",
              "  <tbody>\n",
              "    <tr>\n",
              "      <th>0</th>\n",
              "      <td>18.0</td>\n",
              "      <td>8</td>\n",
              "      <td>307.0</td>\n",
              "      <td>130.0</td>\n",
              "      <td>3504</td>\n",
              "      <td>12.0</td>\n",
              "      <td>70</td>\n",
              "      <td>1</td>\n",
              "      <td>chevrolet chevelle malibu</td>\n",
              "    </tr>\n",
              "    <tr>\n",
              "      <th>1</th>\n",
              "      <td>15.0</td>\n",
              "      <td>8</td>\n",
              "      <td>350.0</td>\n",
              "      <td>165.0</td>\n",
              "      <td>3693</td>\n",
              "      <td>11.5</td>\n",
              "      <td>70</td>\n",
              "      <td>1</td>\n",
              "      <td>buick skylark 320</td>\n",
              "    </tr>\n",
              "    <tr>\n",
              "      <th>2</th>\n",
              "      <td>18.0</td>\n",
              "      <td>8</td>\n",
              "      <td>318.0</td>\n",
              "      <td>150.0</td>\n",
              "      <td>3436</td>\n",
              "      <td>11.0</td>\n",
              "      <td>70</td>\n",
              "      <td>1</td>\n",
              "      <td>plymouth satellite</td>\n",
              "    </tr>\n",
              "    <tr>\n",
              "      <th>3</th>\n",
              "      <td>16.0</td>\n",
              "      <td>8</td>\n",
              "      <td>304.0</td>\n",
              "      <td>150.0</td>\n",
              "      <td>3433</td>\n",
              "      <td>12.0</td>\n",
              "      <td>70</td>\n",
              "      <td>1</td>\n",
              "      <td>amc rebel sst</td>\n",
              "    </tr>\n",
              "    <tr>\n",
              "      <th>4</th>\n",
              "      <td>17.0</td>\n",
              "      <td>8</td>\n",
              "      <td>302.0</td>\n",
              "      <td>140.0</td>\n",
              "      <td>3449</td>\n",
              "      <td>10.5</td>\n",
              "      <td>70</td>\n",
              "      <td>1</td>\n",
              "      <td>ford torino</td>\n",
              "    </tr>\n",
              "  </tbody>\n",
              "</table>\n",
              "</div>"
            ],
            "text/plain": [
              "    mpg  cylinders  displacement  horsepower  weight  acceleration  \\\n",
              "0  18.0          8         307.0       130.0    3504          12.0   \n",
              "1  15.0          8         350.0       165.0    3693          11.5   \n",
              "2  18.0          8         318.0       150.0    3436          11.0   \n",
              "3  16.0          8         304.0       150.0    3433          12.0   \n",
              "4  17.0          8         302.0       140.0    3449          10.5   \n",
              "\n",
              "   model year  origin                   car name  \n",
              "0          70       1  chevrolet chevelle malibu  \n",
              "1          70       1          buick skylark 320  \n",
              "2          70       1         plymouth satellite  \n",
              "3          70       1              amc rebel sst  \n",
              "4          70       1                ford torino  "
            ]
          },
          "execution_count": 35,
          "metadata": {},
          "output_type": "execute_result"
        }
      ],
      "source": [
        "data_auto = pd.read_csv(\"/content/python-ml-course/datasets/auto/auto-mpg.csv\")\n",
        "data_auto.head()"
      ]
    },
    {
      "cell_type": "code",
      "execution_count": null,
      "metadata": {
        "id": "QPCBriOYzzqG",
        "outputId": "ce05950e-8da4-4294-cb81-b7e0a1c17233"
      },
      "outputs": [
        {
          "data": {
            "text/plain": [
              "(406, 9)"
            ]
          },
          "execution_count": 36,
          "metadata": {},
          "output_type": "execute_result"
        }
      ],
      "source": [
        "data_auto.shape"
      ]
    },
    {
      "cell_type": "code",
      "execution_count": null,
      "metadata": {
        "id": "Jhwlbh8gzzqG"
      },
      "outputs": [],
      "source": [
        "import matplotlib.pyplot as plt"
      ]
    },
    {
      "cell_type": "code",
      "execution_count": null,
      "metadata": {
        "id": "smHbpbmjzzqH",
        "outputId": "0963b725-610e-4caa-9118-cf8723e3e6d4"
      },
      "outputs": [
        {
          "data": {
            "text/plain": [
              "Text(0.5, 1.0, 'CV vs MPG')"
            ]
          },
          "execution_count": 38,
          "metadata": {},
          "output_type": "execute_result"
        },
        {
          "data": {
            "image/png": "[encoded data removed]",
            "text/plain": [
              "<Figure size 432x288 with 1 Axes>"
            ]
          },
          "metadata": {
            "needs_background": "light"
          },
          "output_type": "display_data"
        }
      ],
      "source": [
        "%matplotlib inline\n",
        "data_auto[\"mpg\"] = data_auto[\"mpg\"].dropna()\n",
        "data_auto[\"horsepower\"] = data_auto[\"horsepower\"].dropna()\n",
        "plt.plot(data_auto[\"horsepower\"], data_auto[\"mpg\"], \"ro\")\n",
        "plt.xlabel(\"Caballos de Potencia\")\n",
        "plt.ylabel(\"Consumo (millas por galeón)\")\n",
        "plt.title(\"CV vs MPG\")"
      ]
    },
    {
      "cell_type": "markdown",
      "metadata": {
        "id": "kT0TotXKzzqH"
      },
      "source": [
        "### Modelo de regresión lineal\n",
        "* mpg = a + b * horsepower"
      ]
    },
    {
      "cell_type": "code",
      "execution_count": null,
      "metadata": {
        "id": "WHlKihOlzzqH"
      },
      "outputs": [],
      "source": [
        "X = data_auto[\"horsepower\"].fillna(data_auto[\"horsepower\"].mean()).to_numpy()\n",
        "Y = data_auto[\"mpg\"].fillna(data_auto[\"mpg\"].mean())\n",
        "X_data = X[:,np.newaxis]"
      ]
    },
    {
      "cell_type": "code",
      "execution_count": null,
      "metadata": {
        "id": "z-U0LicGzzqH",
        "outputId": "f2b16dc5-a526-46d1-eedf-fa834fda02ae"
      },
      "outputs": [
        {
          "data": {
            "text/plain": [
              "LinearRegression()"
            ]
          },
          "execution_count": 40,
          "metadata": {},
          "output_type": "execute_result"
        }
      ],
      "source": [
        "lm = LinearRegression()\n",
        "lm.fit(X_data,Y)"
      ]
    },
    {
      "cell_type": "code",
      "execution_count": null,
      "metadata": {
        "id": "e-aI6eEVzzqH",
        "outputId": "014c7a73-6aa1-4e72-efb2-a319d1feb736"
      },
      "outputs": [
        {
          "data": {
            "text/plain": [
              "numpy.ndarray"
            ]
          },
          "execution_count": 41,
          "metadata": {},
          "output_type": "execute_result"
        }
      ],
      "source": [
        "type(X)"
      ]
    },
    {
      "cell_type": "code",
      "execution_count": null,
      "metadata": {
        "id": "Ef9ngy3SzzqH",
        "outputId": "23e806b9-43ad-4c75-9279-bed99947247d"
      },
      "outputs": [
        {
          "data": {
            "text/plain": [
              "numpy.ndarray"
            ]
          },
          "execution_count": 42,
          "metadata": {},
          "output_type": "execute_result"
        }
      ],
      "source": [
        "type(X_data)"
      ]
    },
    {
      "cell_type": "code",
      "execution_count": null,
      "metadata": {
        "id": "L6VVT1R2zzqI",
        "outputId": "322d8824-3b01-408a-8c4a-1693800fe60d"
      },
      "outputs": [
        {
          "data": {
            "text/plain": [
              "[<matplotlib.lines.Line2D at 0x7f95552e6f10>]"
            ]
          },
          "execution_count": 43,
          "metadata": {},
          "output_type": "execute_result"
        },
        {
          "data": {
            "image/png": "[encoded data removed]",
            "text/plain": [
              "<Figure size 432x288 with 1 Axes>"
            ]
          },
          "metadata": {
            "needs_background": "light"
          },
          "output_type": "display_data"
        }
      ],
      "source": [
        "%matplotlib inline\n",
        "plt.plot(X,Y, \"ro\")\n",
        "plt.plot(X, lm.predict(X_data), color=\"blue\")"
      ]
    },
    {
      "cell_type": "code",
      "execution_count": null,
      "metadata": {
        "id": "3dDIO_3nzzqI",
        "outputId": "70667126-2bb6-4d30-d0b9-eaff8f6f4997"
      },
      "outputs": [
        {
          "data": {
            "text/plain": [
              "0.574653340645025"
            ]
          },
          "execution_count": 44,
          "metadata": {},
          "output_type": "execute_result"
        }
      ],
      "source": [
        "lm.score(X_data, Y)"
      ]
    },
    {
      "cell_type": "code",
      "execution_count": null,
      "metadata": {
        "id": "A_0sHL_0zzqI",
        "outputId": "1220194c-c583-4fa6-8653-5cd1bd8456d4"
      },
      "outputs": [
        {
          "data": {
            "text/plain": [
              "(10315.75196006092, 5.046879480825511, 23.51457286432162, 21.46277336163346)"
            ]
          },
          "execution_count": 45,
          "metadata": {},
          "output_type": "execute_result"
        }
      ],
      "source": [
        "SSD = np.sum((Y - lm.predict(X_data))**2)\n",
        "RSE = np.sqrt(SSD/(len(X_data)-1))\n",
        "y_mean = np.mean(Y)\n",
        "error = RSE/y_mean\n",
        "SSD, RSE, y_mean, error*100"
      ]
    },
    {
      "cell_type": "markdown",
      "metadata": {
        "id": "8bcIn2hezzqI"
      },
      "source": [
        "### Modelo de regresión cuadrático\n",
        "* mpg = a + b * horsepower^2"
      ]
    },
    {
      "cell_type": "code",
      "execution_count": null,
      "metadata": {
        "id": "BQQHDD0fzzqJ"
      },
      "outputs": [],
      "source": [
        "X_data = X**2\n",
        "X_data = np.asarray(X_data)\n",
        "X_data = X_data[:,np.newaxis]"
      ]
    },
    {
      "cell_type": "code",
      "execution_count": null,
      "metadata": {
        "id": "BEiCPDqbzzqJ",
        "outputId": "3b102b83-731e-4f26-b397-aad500e74b42"
      },
      "outputs": [
        {
          "data": {
            "text/plain": [
              "LinearRegression()"
            ]
          },
          "execution_count": 47,
          "metadata": {},
          "output_type": "execute_result"
        }
      ],
      "source": [
        "lm = LinearRegression()\n",
        "lm.fit(X_data, Y)"
      ]
    },
    {
      "cell_type": "code",
      "execution_count": null,
      "metadata": {
        "id": "rIiurCofzzqJ",
        "outputId": "1f801885-c4e5-4459-c8e7-e215017f0022"
      },
      "outputs": [
        {
          "data": {
            "text/plain": [
              "0.4849887034823205"
            ]
          },
          "execution_count": 48,
          "metadata": {},
          "output_type": "execute_result"
        }
      ],
      "source": [
        "lm.score(X_data, Y)"
      ]
    },
    {
      "cell_type": "code",
      "execution_count": null,
      "metadata": {
        "id": "U7nVx3eazzqJ",
        "outputId": "61a4a26d-0da6-4594-f726-85743f361e5e"
      },
      "outputs": [
        {
          "data": {
            "text/plain": [
              "(12490.350340501926, 5.553410772769817, 23.51457286432162, 23.6168898529981)"
            ]
          },
          "execution_count": 49,
          "metadata": {},
          "output_type": "execute_result"
        }
      ],
      "source": [
        "SSD = np.sum((Y - lm.predict(X_data))**2)\n",
        "RSE = np.sqrt(SSD/(len(X_data)-1))\n",
        "y_mean = np.mean(Y)\n",
        "error = RSE/y_mean\n",
        "SSD, RSE, y_mean, error*100"
      ]
    },
    {
      "cell_type": "markdown",
      "metadata": {
        "id": "9HZ2GX-2zzqJ"
      },
      "source": [
        "### Modelo de regresión  lineal y cuadrático\n",
        "* mpg = a + b * horsepower + c * horsepower^2"
      ]
    },
    {
      "cell_type": "code",
      "execution_count": null,
      "metadata": {
        "id": "bYug1VfRzzqK"
      },
      "outputs": [],
      "source": [
        "from sklearn.preprocessing import PolynomialFeatures\n",
        "from sklearn import linear_model"
      ]
    },
    {
      "cell_type": "code",
      "execution_count": null,
      "metadata": {
        "id": "xsUWPJGfzzqK"
      },
      "outputs": [],
      "source": [
        "poly = PolynomialFeatures(degree=2)"
      ]
    },
    {
      "cell_type": "code",
      "execution_count": null,
      "metadata": {
        "id": "Xy40o019zzqK"
      },
      "outputs": [],
      "source": [
        "X = np.asarray(X)\n",
        "X_data = poly.fit_transform(X[:,np.newaxis])"
      ]
    },
    {
      "cell_type": "code",
      "execution_count": null,
      "metadata": {
        "id": "I_c2Ro_-zzqK",
        "outputId": "7cfcb26b-d993-4b67-cf91-eaa8a9c79dcc"
      },
      "outputs": [
        {
          "data": {
            "text/plain": [
              "LinearRegression()"
            ]
          },
          "execution_count": 53,
          "metadata": {},
          "output_type": "execute_result"
        }
      ],
      "source": [
        "lm = linear_model.LinearRegression()\n",
        "lm.fit(X_data, Y)"
      ]
    },
    {
      "cell_type": "code",
      "execution_count": null,
      "metadata": {
        "id": "MCNSCkOgzzqK",
        "outputId": "fbbf37d4-d64d-4213-c1f3-eccd76bddf37"
      },
      "outputs": [
        {
          "data": {
            "text/plain": [
              "0.6439066584257469"
            ]
          },
          "execution_count": 54,
          "metadata": {},
          "output_type": "execute_result"
        }
      ],
      "source": [
        "lm.score(X_data, Y)"
      ]
    },
    {
      "cell_type": "code",
      "execution_count": null,
      "metadata": {
        "id": "H8hy8zrszzqK",
        "outputId": "424ea922-6c18-4486-f603-04e312695277"
      },
      "outputs": [
        {
          "data": {
            "text/plain": [
              "55.026192447081144"
            ]
          },
          "execution_count": 55,
          "metadata": {},
          "output_type": "execute_result"
        }
      ],
      "source": [
        "lm.intercept_"
      ]
    },
    {
      "cell_type": "code",
      "execution_count": null,
      "metadata": {
        "id": "E4_xCtaczzqL",
        "outputId": "7eed6aca-3782-4b9d-a49a-03ba0cc1a15f"
      },
      "outputs": [
        {
          "data": {
            "text/plain": [
              "array([ 0.        , -0.43404318,  0.00112615])"
            ]
          },
          "execution_count": 56,
          "metadata": {},
          "output_type": "execute_result"
        }
      ],
      "source": [
        "lm.coef_"
      ]
    },
    {
      "cell_type": "markdown",
      "metadata": {
        "id": "8nBvLYnyzzqL"
      },
      "source": [
        "mpg = 55.026 -0.434 * hp + 0.00112615 * hp^2"
      ]
    },
    {
      "cell_type": "code",
      "execution_count": null,
      "metadata": {
        "id": "qlqNW5-OzzqL"
      },
      "outputs": [],
      "source": [
        "def regresion_validation(X_data, Y, Y_pred):\n",
        "    SSD = np.sum((Y - Y_pred)**2)\n",
        "    RSE = np.sqrt(SSD/(len(X_data)-1))\n",
        "    y_mean = np.mean(Y)\n",
        "    error = RSE/y_mean\n",
        "    print(\"SSD: \"+str(SSD)+\", RSE: \" +str(RSE) + \", Y_mean: \" +str(y_mean) +\", error: \" + str(error*100)+ \"%\")"
      ]
    },
    {
      "cell_type": "code",
      "execution_count": null,
      "metadata": {
        "id": "uMjjkwIQzzqL",
        "outputId": "fa7cbf73-e2cc-45d9-cbf2-b1818b68d052"
      },
      "outputs": [
        {
          "name": "stdout",
          "output_type": "stream",
          "text": [
            "Regresión de grado 2\n",
            "R2:0.6439066584257469\n",
            "55.026192447081144\n",
            "[ 0.         -0.43404318  0.00112615]\n",
            "SSD: 8636.180643524502, RSE: 4.61778115803654, Y_mean: 23.51457286432162, error: 19.63795466190689%\n",
            "Regresión de grado 3\n",
            "R2:0.6444678885560744\n",
            "58.44877411148498\n",
            "[ 0.00000000e+00 -5.27113167e-01  1.89736722e-03 -1.95723195e-06]\n",
            "SSD: 8622.569367428549, RSE: 4.614140736300907, Y_mean: 23.51457286432162, error: 19.622473106036672%\n",
            "Regresión de grado 4\n",
            "R2:0.6467674189704502\n",
            "40.09664385577267\n",
            "[ 0.00000000e+00  1.62563541e-01 -7.10892744e-03  4.65580255e-05\n",
            " -9.15840093e-08]\n",
            "SSD: 8566.799832491353, RSE: 4.5991947315797574, Y_mean: 23.51457286432162, error: 19.55891250126878%\n",
            "Regresión de grado 5\n",
            "R2:0.654751249136743\n",
            "-40.694029173495565\n",
            "[ 0.00000000e+00  4.00021894e+00 -7.54802468e-02  6.19621641e-04\n",
            " -2.36220984e-06  3.41983153e-09]\n",
            "SSD: 8373.171388784698, RSE: 4.546921734125024, Y_mean: 23.51457286432162, error: 19.336612067591556%\n",
            "Regresión de grado 6\n",
            "R2:0.6572468033307997\n",
            "-156.9980060652282\n",
            "[ 0.00000000e+00  1.07622444e+01 -2.30165519e-01  2.40584080e-03\n",
            " -1.33797054e-05  3.79780900e-08 -4.32525127e-11]\n",
            "SSD: 8312.647772335427, RSE: 4.530458721585344, Y_mean: 23.51457286432162, error: 19.266600111028826%\n",
            "Regresión de grado 7\n",
            "R2:0.6538574808932471\n",
            "14.784276957787014\n",
            "[ 0.00000000e+00  1.26690941e-03  4.31482761e-02 -1.25395193e-03\n",
            "  1.46292439e-05 -8.50453243e-08  2.45090912e-10 -2.79305875e-13]\n",
            "SSD: 8394.847570569373, RSE: 4.552803388327227, Y_mean: 23.51457286432162, error: 19.361624872357947%\n",
            "Regresión de grado 8\n",
            "R2:0.6512432177866146\n",
            "36.40675411486028\n",
            "[ 0.00000000e+00  1.62872847e-07  3.03202377e-06  8.84870688e-05\n",
            " -3.97062301e-06  5.47387207e-08 -3.43821862e-10  1.02688173e-12\n",
            " -1.18560107e-15]\n",
            "SSD: 8458.250183880726, RSE: 4.5699637148735714, Y_mean: 23.51457286432162, error: 19.43460228362269%\n",
            "Regresión de grado 9\n",
            "R2:0.6510536224193297\n",
            "39.46391227417244\n",
            "[ 0.00000000e+00  2.93874448e-08 -1.25861585e-09 -6.48221251e-08\n",
            " -1.77070344e-06  3.55390671e-08 -3.00071067e-10  1.32187215e-12\n",
            " -3.03799240e-15  2.92177398e-18]\n",
            "SSD: 8462.848359835967, RSE: 4.5712057354857905, Y_mean: 23.51457286432162, error: 19.439884202283878%\n",
            "Regresión de grado 10\n",
            "R2:0.6523571001357847\n",
            "38.44329678404357\n",
            "[ 0.00000000e+00 -9.08873846e-10  2.52067924e-13 -2.72214177e-11\n",
            " -1.29903098e-09 -3.51782808e-08  8.70646682e-10 -8.87293169e-12\n",
            "  4.60549152e-14 -1.20911079e-16  1.27849759e-19]\n",
            "SSD: 8431.235668134548, RSE: 4.56265995305872, Y_mean: 23.51457286432162, error: 19.40354170745576%\n",
            "Regresión de grado 11\n",
            "R2:0.651111197346774\n",
            "36.3470091267187\n",
            "[ 0.00000000e+00  3.38646890e-11  1.31264454e-14 -4.88015707e-15\n",
            " -3.12630666e-13 -1.48183561e-11 -4.06544503e-10  1.03832301e-11\n",
            " -1.07585926e-13  5.61915382e-16 -1.47344508e-18  1.54764846e-21]\n",
            "SSD: 8461.45201956252, RSE: 4.570828603478431, Y_mean: 23.51457286432162, error: 19.43828037979671%\n"
          ]
        }
      ],
      "source": [
        "for d in range(2,12):\n",
        "    poly = PolynomialFeatures(degree=d)\n",
        "    X_data = poly.fit_transform(X[:,np.newaxis])\n",
        "    lm = linear_model.LinearRegression()\n",
        "    lm.fit(X_data, Y)\n",
        "    print(\"Regresión de grado \"+str(d))\n",
        "    print(\"R2:\" +str(lm.score(X_data, Y)))\n",
        "    print(lm.intercept_)\n",
        "    print(lm.coef_)\n",
        "    regresion_validation(X_data, Y, lm.predict(X_data))"
      ]
    },
    {
      "cell_type": "markdown",
      "metadata": {
        "id": "mwHUZ622zzqM"
      },
      "source": [
        "# El problema de los outliers"
      ]
    },
    {
      "cell_type": "code",
      "execution_count": null,
      "metadata": {
        "id": "qE9Fl_A-zzqM",
        "outputId": "e2c1fdaf-9116-4321-b4e0-3d2378f8339e"
      },
      "outputs": [
        {
          "data": {
            "text/plain": [
              "[<matplotlib.lines.Line2D at 0x7f95560fe910>]"
            ]
          },
          "execution_count": 59,
          "metadata": {},
          "output_type": "execute_result"
        },
        {
          "data": {
            "image/png": "[encoded data removed]",
            "text/plain": [
              "<Figure size 432x288 with 1 Axes>"
            ]
          },
          "metadata": {
            "needs_background": "light"
          },
          "output_type": "display_data"
        }
      ],
      "source": [
        "plt.plot(data_auto[\"displacement\"], data_auto[\"mpg\"], \"ro\")"
      ]
    },
    {
      "cell_type": "code",
      "execution_count": null,
      "metadata": {
        "id": "b6zHV9ztzzqM",
        "outputId": "a43f2698-048c-4658-9431-4b94f1e54b0e"
      },
      "outputs": [
        {
          "data": {
            "text/plain": [
              "LinearRegression()"
            ]
          },
          "execution_count": 60,
          "metadata": {},
          "output_type": "execute_result"
        }
      ],
      "source": [
        "X = data_auto[\"displacement\"].fillna(data_auto[\"displacement\"].mean()).to_numpy()\n",
        "X = X[:,np.newaxis]\n",
        "Y = data_auto[\"mpg\"].fillna(data_auto[\"mpg\"].mean())\n",
        "\n",
        "lm = LinearRegression()\n",
        "lm.fit(X, Y)"
      ]
    },
    {
      "cell_type": "code",
      "execution_count": null,
      "metadata": {
        "id": "5twr0J0QzzqM",
        "outputId": "af8d13a7-a200-4a4a-fce3-beff8db0b87f"
      },
      "outputs": [
        {
          "data": {
            "text/plain": [
              "0.6261049762826918"
            ]
          },
          "execution_count": 61,
          "metadata": {},
          "output_type": "execute_result"
        }
      ],
      "source": [
        "lm.score(X,Y)"
      ]
    },
    {
      "cell_type": "code",
      "execution_count": null,
      "metadata": {
        "id": "iHxRYtUOzzqM",
        "outputId": "f0d60280-40fe-43d7-91a1-0c17100d1a5b"
      },
      "outputs": [
        {
          "data": {
            "text/plain": [
              "[<matplotlib.lines.Line2D at 0x7f9556184280>]"
            ]
          },
          "execution_count": 62,
          "metadata": {},
          "output_type": "execute_result"
        },
        {
          "data": {
            "image/png": "[encoded data removed]",
            "text/plain": [
              "<Figure size 432x288 with 1 Axes>"
            ]
          },
          "metadata": {
            "needs_background": "light"
          },
          "output_type": "display_data"
        }
      ],
      "source": [
        "%matplotlib inline\n",
        "plt.plot(X,Y, \"ro\")\n",
        "plt.plot(X, lm.predict(X), color=\"blue\")"
      ]
    },
    {
      "cell_type": "code",
      "execution_count": null,
      "metadata": {
        "id": "TwqP1iJ4zzqN",
        "outputId": "bc66cadd-14e2-486b-a8b8-8d246cbc927c"
      },
      "outputs": [
        {
          "data": {
            "text/html": [
              "<div>\n",
              "<style scoped>\n",
              "    .dataframe tbody tr th:only-of-type {\n",
              "        vertical-align: middle;\n",
              "    }\n",
              "\n",
              "    .dataframe tbody tr th {\n",
              "        vertical-align: top;\n",
              "    }\n",
              "\n",
              "    .dataframe thead th {\n",
              "        text-align: right;\n",
              "    }\n",
              "</style>\n",
              "<table border=\"1\" class=\"dataframe\">\n",
              "  <thead>\n",
              "    <tr style=\"text-align: right;\">\n",
              "      <th></th>\n",
              "      <th>mpg</th>\n",
              "      <th>cylinders</th>\n",
              "      <th>displacement</th>\n",
              "      <th>horsepower</th>\n",
              "      <th>weight</th>\n",
              "      <th>acceleration</th>\n",
              "      <th>model year</th>\n",
              "      <th>origin</th>\n",
              "      <th>car name</th>\n",
              "    </tr>\n",
              "  </thead>\n",
              "  <tbody>\n",
              "    <tr>\n",
              "      <th>395</th>\n",
              "      <td>38.0</td>\n",
              "      <td>6</td>\n",
              "      <td>262.0</td>\n",
              "      <td>85.0</td>\n",
              "      <td>3015</td>\n",
              "      <td>17.0</td>\n",
              "      <td>82</td>\n",
              "      <td>1</td>\n",
              "      <td>oldsmobile cutlass ciera (diesel)</td>\n",
              "    </tr>\n",
              "  </tbody>\n",
              "</table>\n",
              "</div>"
            ],
            "text/plain": [
              "      mpg  cylinders  displacement  horsepower  weight  acceleration  \\\n",
              "395  38.0          6         262.0        85.0    3015          17.0   \n",
              "\n",
              "     model year  origin                           car name  \n",
              "395          82       1  oldsmobile cutlass ciera (diesel)  "
            ]
          },
          "execution_count": 63,
          "metadata": {},
          "output_type": "execute_result"
        }
      ],
      "source": [
        "data_auto[(data_auto[\"displacement\"]>250)&(data_auto[\"mpg\"]>35)]"
      ]
    },
    {
      "cell_type": "code",
      "execution_count": null,
      "metadata": {
        "id": "M6gxAX8GzzqN",
        "outputId": "5b69306c-f299-4474-99ca-98a0290b191d"
      },
      "outputs": [
        {
          "data": {
            "text/html": [
              "<div>\n",
              "<style scoped>\n",
              "    .dataframe tbody tr th:only-of-type {\n",
              "        vertical-align: middle;\n",
              "    }\n",
              "\n",
              "    .dataframe tbody tr th {\n",
              "        vertical-align: top;\n",
              "    }\n",
              "\n",
              "    .dataframe thead th {\n",
              "        text-align: right;\n",
              "    }\n",
              "</style>\n",
              "<table border=\"1\" class=\"dataframe\">\n",
              "  <thead>\n",
              "    <tr style=\"text-align: right;\">\n",
              "      <th></th>\n",
              "      <th>mpg</th>\n",
              "      <th>cylinders</th>\n",
              "      <th>displacement</th>\n",
              "      <th>horsepower</th>\n",
              "      <th>weight</th>\n",
              "      <th>acceleration</th>\n",
              "      <th>model year</th>\n",
              "      <th>origin</th>\n",
              "      <th>car name</th>\n",
              "    </tr>\n",
              "  </thead>\n",
              "  <tbody>\n",
              "    <tr>\n",
              "      <th>258</th>\n",
              "      <td>20.2</td>\n",
              "      <td>8</td>\n",
              "      <td>302.0</td>\n",
              "      <td>139.0</td>\n",
              "      <td>3570</td>\n",
              "      <td>12.8</td>\n",
              "      <td>78</td>\n",
              "      <td>1</td>\n",
              "      <td>mercury monarch ghia</td>\n",
              "    </tr>\n",
              "    <tr>\n",
              "      <th>305</th>\n",
              "      <td>23.0</td>\n",
              "      <td>8</td>\n",
              "      <td>350.0</td>\n",
              "      <td>125.0</td>\n",
              "      <td>3900</td>\n",
              "      <td>17.4</td>\n",
              "      <td>79</td>\n",
              "      <td>1</td>\n",
              "      <td>cadillac eldorado</td>\n",
              "    </tr>\n",
              "    <tr>\n",
              "      <th>372</th>\n",
              "      <td>26.6</td>\n",
              "      <td>8</td>\n",
              "      <td>350.0</td>\n",
              "      <td>105.0</td>\n",
              "      <td>3725</td>\n",
              "      <td>19.0</td>\n",
              "      <td>81</td>\n",
              "      <td>1</td>\n",
              "      <td>oldsmobile cutlass ls</td>\n",
              "    </tr>\n",
              "  </tbody>\n",
              "</table>\n",
              "</div>"
            ],
            "text/plain": [
              "      mpg  cylinders  displacement  horsepower  weight  acceleration  \\\n",
              "258  20.2          8         302.0       139.0    3570          12.8   \n",
              "305  23.0          8         350.0       125.0    3900          17.4   \n",
              "372  26.6          8         350.0       105.0    3725          19.0   \n",
              "\n",
              "     model year  origin               car name  \n",
              "258          78       1   mercury monarch ghia  \n",
              "305          79       1      cadillac eldorado  \n",
              "372          81       1  oldsmobile cutlass ls  "
            ]
          },
          "execution_count": 64,
          "metadata": {},
          "output_type": "execute_result"
        }
      ],
      "source": [
        "data_auto[(data_auto[\"displacement\"]>300)&(data_auto[\"mpg\"]>20)]"
      ]
    },
    {
      "cell_type": "code",
      "execution_count": null,
      "metadata": {
        "id": "0MYyL42PzzqN"
      },
      "outputs": [],
      "source": [
        "data_auto_clean = data_auto.drop([395, 258, 305, 372])"
      ]
    },
    {
      "cell_type": "code",
      "execution_count": null,
      "metadata": {
        "id": "ccTXTmI4zzqN",
        "outputId": "41e26383-7f16-4d66-882d-5b5be8d79465"
      },
      "outputs": [
        {
          "data": {
            "text/plain": [
              "LinearRegression()"
            ]
          },
          "execution_count": 69,
          "metadata": {},
          "output_type": "execute_result"
        }
      ],
      "source": [
        "X = data_auto_clean[\"displacement\"].fillna(data_auto_clean[\"displacement\"].mean()).to_numpy()\n",
        "X = X[:,np.newaxis]\n",
        "Y = data_auto_clean[\"mpg\"].fillna(data_auto_clean[\"mpg\"].mean())\n",
        "\n",
        "lm = LinearRegression()\n",
        "lm.fit(X, Y)"
      ]
    },
    {
      "cell_type": "code",
      "execution_count": null,
      "metadata": {
        "id": "QwRW7FQqzzqO",
        "outputId": "c4ba0105-b97c-48bb-bb1c-beac17525743"
      },
      "outputs": [
        {
          "data": {
            "text/plain": [
              "0.6466514317531822"
            ]
          },
          "execution_count": 70,
          "metadata": {},
          "output_type": "execute_result"
        }
      ],
      "source": [
        "lm.score(X,Y)"
      ]
    },
    {
      "cell_type": "code",
      "execution_count": null,
      "metadata": {
        "id": "XqYYh-RnzzqO",
        "outputId": "3755435b-a012-4477-8d8e-6aaf59534dd1"
      },
      "outputs": [
        {
          "data": {
            "text/plain": [
              "[<matplotlib.lines.Line2D at 0x7f9556612130>]"
            ]
          },
          "execution_count": 71,
          "metadata": {},
          "output_type": "execute_result"
        },
        {
          "data": {
            "image/png": "[encoded data removed]",
            "text/plain": [
              "<Figure size 432x288 with 1 Axes>"
            ]
          },
          "metadata": {
            "needs_background": "light"
          },
          "output_type": "display_data"
        }
      ],
      "source": [
        "%matplotlib inline\n",
        "plt.plot(X,Y, \"ro\")\n",
        "plt.plot(X, lm.predict(X), color=\"blue\")"
      ]
    }
  ],
  "metadata": {
    "kernelspec": {
      "display_name": "Python 3",
      "language": "python",
      "name": "python3"
    },
    "language_info": {
      "codemirror_mode": {
        "name": "ipython",
        "version": 3
      },
      "file_extension": ".py",
      "mimetype": "text/x-python",
      "name": "python",
      "nbconvert_exporter": "python",
      "pygments_lexer": "ipython3",
      "version": "3.8.5"
    },
    "colab": {
      "provenance": [],
      "include_colab_link": true
    }
  },
  "nbformat": 4,
  "nbformat_minor": 0
}
