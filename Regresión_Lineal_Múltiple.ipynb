{
  "nbformat": 4,
  "nbformat_minor": 0,
  "metadata": {
    "colab": {
      "provenance": [],
      "authorship_tag": "ABX9TyOGRQMthQZxw9QrQ5XF3wS7",
      "include_colab_link": true
    },
    "kernelspec": {
      "name": "python3",
      "display_name": "Python 3"
    },
    "language_info": {
      "name": "python"
    }
  },
  "cells": [
    {
      "cell_type": "markdown",
      "metadata": {
        "id": "view-in-github",
        "colab_type": "text"
      },
      "source": [
        "<a href=\"https://colab.research.google.com/github/jorgenriquez/Inteligencia_artificial/blob/main/Regresi%C3%B3n_Lineal_M%C3%BAltiple.ipynb\" target=\"_parent\"><img src=\"https://colab.research.google.com/assets/colab-badge.svg\" alt=\"Open In Colab\"/></a>"
      ]
    },
    {
      "cell_type": "markdown",
      "source": [
        "# **Modelos de Regresión Lineal Múltiple**"
      ],
      "metadata": {
        "id": "13paHkhLoC-P"
      }
    },
    {
      "cell_type": "markdown",
      "source": [
        "La regresión lineal múltiple es una técnica de Machine Learning para predecir la relación existente entre varias variables independientes y una única variable dependiente y su implementación puede realizarse con Python.\n",
        "\n",
        "Este modelo de aprendizaje supervisado de Machine Learning tiene una serie de ventajas sobre la regresión lineal simple, como poder realizar predicciones sobre dos variables o más, teniendo como objetivo reducir las diferencias entre los valores reales y los que predice el modelo."
      ],
      "metadata": {
        "id": "tHJngHecoLpm"
      }
    },
    {
      "cell_type": "markdown",
      "source": [
        "## **Qué es una regresión múltiple**\n",
        "Muy usada en ciencias de la computación para el tratamiento de grandes conjuntos de datos, la regresión lineal múltiple es un modelo estadístico que sirve para evaluar las relaciones entre varias variables independientes (X1, X2, X3,...) llamados predictores y una variable dependiente (Y) o valor de salida.\n",
        "\n",
        "La representación de la ecuación ahora es un hiperplano en un espacio n-dimensional. Recuerda que en el modelo simple es un plano bidimensional.\n",
        "\n",
        "La representación de la ecuación ahora es un plano en lugar de una recta, es decir, pasa de ser un plano bidimensional en el modelo simple a un hiperplano en un espacio n-dimensional.\n",
        "\n",
        "Su objetivo es encontrar lo coeficientes que mejor ajustan los datos y que permite realizar predicciones más precisas sobre la variable dependiente a partir de los datos o variables independientes."
      ],
      "metadata": {
        "id": "clFBL6zUoUCQ"
      }
    },
    {
      "cell_type": "markdown",
      "source": [
        "## **Diferencias entre regresión lineal múltiple y simple**\n",
        "Independientemente de su campo de aplicación (estadística, informática o ciencias de la información, Marketing, etc.), la regresión lineal múltiple es un modelo estadístico que amplía la funcionalidad de la regresión lineal simple. Esta última, la simple, solo puede predecir las relaciones entre dos variables. En cambio, la regresión múltiple permite predecir las relaciones existentes entre dos o más variables entendiendo que analiza la variabilidad de la variable dependiente mediante la combinación lineal de varias variables independientes."
      ],
      "metadata": {
        "id": "lae9PY8ZofIn"
      }
    },
    {
      "cell_type": "markdown",
      "source": [
        "# **EJEMPLO**"
      ],
      "metadata": {
        "id": "_JOsqv_HoxJP"
      }
    },
    {
      "cell_type": "markdown",
      "source": [
        "### **1.**   **Obtener datos**"
      ],
      "metadata": {
        "id": "5FqHf348o0zf"
      }
    },
    {
      "cell_type": "code",
      "source": [
        "import numpy as np\n",
        "import pandas as pd\n",
        "from sklearn.linear_model import LinearRegression\n",
        "from sklearn.model_selection import train_test_split\n",
        "from sklearn.metrics import mean_squared_error\n",
        "import matplotlib.pyplot as plt\n",
        "\n",
        "# Crear dataframe con los datos de facturación de clientes\n",
        "data = {'customer_id': [1, 2, 3, 4, 5],\n",
        "        'billing_amount': [100, 200, 150, 300, 250],\n",
        "        'sales': [2, 4, 3, 6, 5],\n",
        "        'customer_since': [2010, 2012, 2014, 2016, 2018],\n",
        "        'age': [35, 40, 45, 30, 25],\n",
        "        'gender': ['M', 'F', 'M', 'F', 'M']\n",
        "}\n",
        "clients = pd.DataFrame(data)"
      ],
      "metadata": {
        "id": "hIocWDAZpCBP"
      },
      "execution_count": 11,
      "outputs": []
    },
    {
      "cell_type": "markdown",
      "source": [
        "### **2.**   **Asignación de los valores a X e y: variable independiente y variable dependiente.**\n",
        "\n",
        "Ahora vamos a indicar cuáles son los valores que debe tomar cada variable del modelo."
      ],
      "metadata": {
        "id": "rsTnHGBCpGJ_"
      }
    },
    {
      "cell_type": "code",
      "source": [
        "# Seleccionar las variables independientes (X) y la variable dependiente (y).\n",
        "X = clients[['sales', 'customer_since', 'age']]\n",
        "y = clients['billing_amount']"
      ],
      "metadata": {
        "id": "5gQR9R1fpLrn"
      },
      "execution_count": 12,
      "outputs": []
    },
    {
      "cell_type": "markdown",
      "source": [
        "### **3. Creación del conjunto de datos de entrenamiento y conjunto de prueba**\n",
        "\n",
        "\n",
        "Indicamos cómo deben repartirse los datos que hemos obtenido."
      ],
      "metadata": {
        "id": "xax9o5-ppVLP"
      }
    },
    {
      "cell_type": "code",
      "source": [
        "# Dividir los datos en conjunto de entrenamiento y conjunto de prueba\n",
        "X_train, X_test, y_train, y_test = train_test_split(X, y, test_size=0.2, random_state=42)"
      ],
      "metadata": {
        "id": "cq-zIACfqq2P"
      },
      "execution_count": 13,
      "outputs": []
    },
    {
      "cell_type": "markdown",
      "source": [
        "### **Explicación**:\n",
        "\n",
        "**train_test_split:** le pasamos las variables (X, y) que han sido creadas con los datos deseados del dataframe.\n",
        "\n",
        "\n",
        "**test_size:** es el tamaño del conjunto de test del algoritmo pudiendo tener un valor entre 0.0 y 1.0. Por defecto test_size = 0.25. Podemos modificarlo según nuestros intereses en cada modelo. Si indicamos un número entero, test_size indicará el número de muestras que empleará en la evaluación. Si test_size = 10, el conjunto de test tomará 10 datos de muestra y el resto de datos será enviado a entrenamiento del modelo. Por ejemplo: tenemos un conjunto de datos con 100 valores. test_size = 20. En este caso, 20 valores son enviados al conjunto de test y 80 valores a entrenamiento."
      ],
      "metadata": {
        "id": "0Fkgxb7lqtQH"
      }
    },
    {
      "cell_type": "markdown",
      "source": [
        "### **4.    Entrenamiento del modelo**\n",
        "\n",
        "Con la siguiente línea de código estamos indicando que entrene el modelo de regresión lineal múltiple con el conjunto de datos de entrenamiento de las variables independientes y la variable dependiente. Recuerda que previamente las creamos con train_test_split."
      ],
      "metadata": {
        "id": "4DeX9tCIrNr_"
      }
    },
    {
      "cell_type": "code",
      "source": [
        "# Crear el modelo de regresión lineal múltiple\n",
        "reg = LinearRegression().fit(X_train, y_train)"
      ],
      "metadata": {
        "id": "_fZe56rrrsnn"
      },
      "execution_count": 14,
      "outputs": []
    },
    {
      "cell_type": "markdown",
      "source": [
        "### **5.    Creación de la predicción**\n",
        "\n",
        "Con el método predict podemos realizar predicciones. En este caso le pasamos como parámetro datos de las variables independientes de test, es decir, los datos para hacer pruebas."
      ],
      "metadata": {
        "id": "mDZkpM5Rrv-v"
      }
    },
    {
      "cell_type": "code",
      "source": [
        "# Hacer predicciones sobre el conjunto de prueba\n",
        "y_pred = reg.predict(X_test)"
      ],
      "metadata": {
        "id": "iwc1n8CysC5u"
      },
      "execution_count": 15,
      "outputs": []
    },
    {
      "cell_type": "markdown",
      "source": [
        "### **6.   Cálculo de error cuadrático medio**\n",
        "\n",
        "\n",
        "También es importante conocer las posibles diferencias entre las estimaciones realizadas y los valores reales y, en este caso, usamos el error cuadrático medio."
      ],
      "metadata": {
        "id": "JQXpa8dgsHBW"
      }
    },
    {
      "cell_type": "code",
      "source": [
        "# Calcular el error cuadrático medio\n",
        "mse = mean_squared_error(y_test, y_pred)\n",
        "print(\"Error cuadrático medio:\", mse)"
      ],
      "metadata": {
        "colab": {
          "base_uri": "https://localhost:8080/"
        },
        "id": "grCyBrVmsQLO",
        "outputId": "b97373cb-bc61-4926-df4b-8155a59da7f8"
      },
      "execution_count": 16,
      "outputs": [
        {
          "output_type": "stream",
          "name": "stdout",
          "text": [
            "Error cuadrático medio: 6.54312789226516e-26\n"
          ]
        }
      ]
    },
    {
      "cell_type": "markdown",
      "source": [
        "### **7.   Cálculo de coeficiente de determinación y sesgo**\n",
        "El sesgo o bias de un algoritmo de machine learning es la tendencia del modelo a tomar decisiones poco exactas, es decir, realizar predicciones incorrectas debido a patrones en los datos de entrenamiento, motivo por el cual es importante conocerlo."
      ],
      "metadata": {
        "id": "4NP0B1WisbGP"
      }
    },
    {
      "cell_type": "code",
      "source": [
        "\n",
        "# Imprimir los coeficientes y el sesgo - Valores de los pesos del modelo de regresión\n",
        "print(\"Coeficientes:\", reg.coef_)\n",
        "print(\"Sesgo (Coeficiente W0:\", reg.intercept_)\n",
        "print(\"Coeficiente W1:\", reg.coef_[0])\n",
        "print(\"Coeficiente W2:\", reg.coef_[1])\n",
        "\n",
        "# Imprimir el coeficientes de determinación\n",
        "print(\"Coeficiente de determinación:\", reg.score(X_train, y_train))"
      ],
      "metadata": {
        "colab": {
          "base_uri": "https://localhost:8080/"
        },
        "id": "werG4jQMsqPO",
        "outputId": "c209513c-1ac7-47a4-c354-814a999ba7af"
      },
      "execution_count": 17,
      "outputs": [
        {
          "output_type": "stream",
          "name": "stdout",
          "text": [
            "Coeficientes: [ 5.00000000e+01  8.14051985e-14 -6.12891167e-15]\n",
            "Sesgo (Coeficiente W0: -1.630837687116582e-10\n",
            "Coeficiente W1: 49.99999999999982\n",
            "Coeficiente W2: 8.140519850547618e-14\n",
            "Coeficiente de determinación: 1.0\n"
          ]
        }
      ]
    },
    {
      "cell_type": "markdown",
      "source": [
        "Es bastante frecuente que el problema del sesgo esté influenciado por un conjunto de datos simple en la regresión lineal, como sucede en este caso que estamos tratando.\n",
        "\n",
        "Cuando ya tenemos el código Python con el entrenamiento del modelo de la regresión múltiple y hemos calculado los coeficientes de determinación, el error cuadrático medio y el posible sesgo del algoritmo de ML, es el momento de mostrar los datos en una gráfica."
      ],
      "metadata": {
        "id": "DfrG0X8isuDl"
      }
    },
    {
      "cell_type": "markdown",
      "source": [
        "### **8.   Crear gráfico de la regresión lineal múltiple con Python matplotlib**\n",
        "\n",
        "\n",
        "Para mostrar los datos de la regresión lineal múltiple en Python usaremos la biblioteca matplotlib y su módulo pyplot."
      ],
      "metadata": {
        "id": "UQG91lxxs3Ze"
      }
    },
    {
      "cell_type": "code",
      "execution_count": 18,
      "metadata": {
        "colab": {
          "base_uri": "https://localhost:8080/",
          "height": 472
        },
        "id": "GR7mYBTinugD",
        "outputId": "c9580c13-e0b7-4c39-c019-0284a7ba2e6a"
      },
      "outputs": [
        {
          "output_type": "display_data",
          "data": {
            "text/plain": [
              "<Figure size 640x480 with 1 Axes>"
            ],
            "image/png": "[encoded data removed]"
          },
          "metadata": {}
        }
      ],
      "source": [
        "# Salida gráfica\n",
        "\n",
        "# Crear una figura y un eje\n",
        "fig, ax = plt.subplots()\n",
        "\n",
        "# Graficar los puntos de entrenamiento\n",
        "ax.scatter(X_train['sales'], y_train, color='blue', label='Entrenamiento')\n",
        "\n",
        "# Graficar los puntos de prueba\n",
        "ax.scatter(X_test['sales'], y_test, color='red', label='Prueba')\n",
        "\n",
        "# Graficar la recta de regresión\n",
        "ax.plot(X_test['sales'], y_pred, color='black', linewidth=2, label='Regresión')\n",
        "\n",
        "# Agregar etiquetas al eje X e Y\n",
        "ax.set_ylabel(\"billing_amount\")\n",
        "ax.set_xlabel(\"sales\")\n",
        "\n",
        "# Agregar un título al gráfico\n",
        "ax.set_title(\"Regresión lineal múltiple\")\n",
        "\n",
        "# Mostrar la leyenda\n",
        "ax.legend()\n",
        "\n",
        "# Mostrar el gráfico\n",
        "plt.show()"
      ]
    },
    {
      "cell_type": "markdown",
      "source": [
        "# **EJEMPLO 2**"
      ],
      "metadata": {
        "id": "zoXs9nywoBBY"
      }
    },
    {
      "cell_type": "markdown",
      "source": [
        "## Importación del conjunto de datos"
      ],
      "metadata": {
        "id": "XY5dfApotvkm"
      }
    },
    {
      "cell_type": "code",
      "source": [
        "dataset = pd.read_csv('50_Startups.csv')\n",
        "X = dataset.iloc[:, :-1].values\n",
        "y = dataset.iloc[:, -1].values"
      ],
      "metadata": {
        "id": "He1uS9V1toMa"
      },
      "execution_count": 19,
      "outputs": []
    },
    {
      "cell_type": "markdown",
      "source": [
        "## Codificación de datos categóricos"
      ],
      "metadata": {
        "id": "IojyxOP-t2i2"
      }
    },
    {
      "cell_type": "code",
      "source": [
        "from sklearn.compose import ColumnTransformer\n",
        "from sklearn.preprocessing import OneHotEncoder\n",
        "ct = ColumnTransformer(transformers=[('encoder', OneHotEncoder(), [3])], remainder='passthrough')\n",
        "X = np.array(ct.fit_transform(X))"
      ],
      "metadata": {
        "id": "KcHLLF0Mt5O7"
      },
      "execution_count": 20,
      "outputs": []
    },
    {
      "cell_type": "markdown",
      "source": [
        "## Dividir el conjunto de datos en el conjunto de entrenamiento y el conjunto de prueba"
      ],
      "metadata": {
        "id": "Mq237mDbuBT2"
      }
    },
    {
      "cell_type": "code",
      "source": [
        "from sklearn.model_selection import train_test_split\n",
        "X_train, X_test, y_train, y_test = train_test_split(X, y, test_size = 0.2, random_state = 0)"
      ],
      "metadata": {
        "id": "BwMtQqyruB49"
      },
      "execution_count": 21,
      "outputs": []
    },
    {
      "cell_type": "markdown",
      "source": [
        "## Entrenamiento del modelo de regresión lineal múltiple en el conjunto de entrenamiento"
      ],
      "metadata": {
        "id": "oETUrweGuJnu"
      }
    },
    {
      "cell_type": "code",
      "source": [
        "from sklearn.linear_model import LinearRegression\n",
        "lm = regressor = LinearRegression()\n",
        "lm.fit(X_train, y_train)"
      ],
      "metadata": {
        "colab": {
          "base_uri": "https://localhost:8080/",
          "height": 80
        },
        "id": "vdaPmHhhuKy8",
        "outputId": "668d514a-bb3f-45fa-dd39-66a19b69e6dd"
      },
      "execution_count": 22,
      "outputs": [
        {
          "output_type": "execute_result",
          "data": {
            "text/plain": [
              "LinearRegression()"
            ],
            "text/html": [
              "<style>#sk-container-id-1 {\n",
              "  /* Definition of color scheme common for light and dark mode */\n",
              "  --sklearn-color-text: #000;\n",
              "  --sklearn-color-text-muted: #666;\n",
              "  --sklearn-color-line: gray;\n",
              "  /* Definition of color scheme for unfitted estimators */\n",
              "  --sklearn-color-unfitted-level-0: #fff5e6;\n",
              "  --sklearn-color-unfitted-level-1: #f6e4d2;\n",
              "  --sklearn-color-unfitted-level-2: #ffe0b3;\n",
              "  --sklearn-color-unfitted-level-3: chocolate;\n",
              "  /* Definition of color scheme for fitted estimators */\n",
              "  --sklearn-color-fitted-level-0: #f0f8ff;\n",
              "  --sklearn-color-fitted-level-1: #d4ebff;\n",
              "  --sklearn-color-fitted-level-2: #b3dbfd;\n",
              "  --sklearn-color-fitted-level-3: cornflowerblue;\n",
              "\n",
              "  /* Specific color for light theme */\n",
              "  --sklearn-color-text-on-default-background: var(--sg-text-color, var(--theme-code-foreground, var(--jp-content-font-color1, black)));\n",
              "  --sklearn-color-background: var(--sg-background-color, var(--theme-background, var(--jp-layout-color0, white)));\n",
              "  --sklearn-color-border-box: var(--sg-text-color, var(--theme-code-foreground, var(--jp-content-font-color1, black)));\n",
              "  --sklearn-color-icon: #696969;\n",
              "\n",
              "  @media (prefers-color-scheme: dark) {\n",
              "    /* Redefinition of color scheme for dark theme */\n",
              "    --sklearn-color-text-on-default-background: var(--sg-text-color, var(--theme-code-foreground, var(--jp-content-font-color1, white)));\n",
              "    --sklearn-color-background: var(--sg-background-color, var(--theme-background, var(--jp-layout-color0, #111)));\n",
              "    --sklearn-color-border-box: var(--sg-text-color, var(--theme-code-foreground, var(--jp-content-font-color1, white)));\n",
              "    --sklearn-color-icon: #878787;\n",
              "  }\n",
              "}\n",
              "\n",
              "#sk-container-id-1 {\n",
              "  color: var(--sklearn-color-text);\n",
              "}\n",
              "\n",
              "#sk-container-id-1 pre {\n",
              "  padding: 0;\n",
              "}\n",
              "\n",
              "#sk-container-id-1 input.sk-hidden--visually {\n",
              "  border: 0;\n",
              "  clip: rect(1px 1px 1px 1px);\n",
              "  clip: rect(1px, 1px, 1px, 1px);\n",
              "  height: 1px;\n",
              "  margin: -1px;\n",
              "  overflow: hidden;\n",
              "  padding: 0;\n",
              "  position: absolute;\n",
              "  width: 1px;\n",
              "}\n",
              "\n",
              "#sk-container-id-1 div.sk-dashed-wrapped {\n",
              "  border: 1px dashed var(--sklearn-color-line);\n",
              "  margin: 0 0.4em 0.5em 0.4em;\n",
              "  box-sizing: border-box;\n",
              "  padding-bottom: 0.4em;\n",
              "  background-color: var(--sklearn-color-background);\n",
              "}\n",
              "\n",
              "#sk-container-id-1 div.sk-container {\n",
              "  /* jupyter's `normalize.less` sets `[hidden] { display: none; }`\n",
              "     but bootstrap.min.css set `[hidden] { display: none !important; }`\n",
              "     so we also need the `!important` here to be able to override the\n",
              "     default hidden behavior on the sphinx rendered scikit-learn.org.\n",
              "     See: https://github.com/scikit-learn/scikit-learn/issues/21755 */\n",
              "  display: inline-block !important;\n",
              "  position: relative;\n",
              "}\n",
              "\n",
              "#sk-container-id-1 div.sk-text-repr-fallback {\n",
              "  display: none;\n",
              "}\n",
              "\n",
              "div.sk-parallel-item,\n",
              "div.sk-serial,\n",
              "div.sk-item {\n",
              "  /* draw centered vertical line to link estimators */\n",
              "  background-image: linear-gradient(var(--sklearn-color-text-on-default-background), var(--sklearn-color-text-on-default-background));\n",
              "  background-size: 2px 100%;\n",
              "  background-repeat: no-repeat;\n",
              "  background-position: center center;\n",
              "}\n",
              "\n",
              "/* Parallel-specific style estimator block */\n",
              "\n",
              "#sk-container-id-1 div.sk-parallel-item::after {\n",
              "  content: \"\";\n",
              "  width: 100%;\n",
              "  border-bottom: 2px solid var(--sklearn-color-text-on-default-background);\n",
              "  flex-grow: 1;\n",
              "}\n",
              "\n",
              "#sk-container-id-1 div.sk-parallel {\n",
              "  display: flex;\n",
              "  align-items: stretch;\n",
              "  justify-content: center;\n",
              "  background-color: var(--sklearn-color-background);\n",
              "  position: relative;\n",
              "}\n",
              "\n",
              "#sk-container-id-1 div.sk-parallel-item {\n",
              "  display: flex;\n",
              "  flex-direction: column;\n",
              "}\n",
              "\n",
              "#sk-container-id-1 div.sk-parallel-item:first-child::after {\n",
              "  align-self: flex-end;\n",
              "  width: 50%;\n",
              "}\n",
              "\n",
              "#sk-container-id-1 div.sk-parallel-item:last-child::after {\n",
              "  align-self: flex-start;\n",
              "  width: 50%;\n",
              "}\n",
              "\n",
              "#sk-container-id-1 div.sk-parallel-item:only-child::after {\n",
              "  width: 0;\n",
              "}\n",
              "\n",
              "/* Serial-specific style estimator block */\n",
              "\n",
              "#sk-container-id-1 div.sk-serial {\n",
              "  display: flex;\n",
              "  flex-direction: column;\n",
              "  align-items: center;\n",
              "  background-color: var(--sklearn-color-background);\n",
              "  padding-right: 1em;\n",
              "  padding-left: 1em;\n",
              "}\n",
              "\n",
              "\n",
              "/* Toggleable style: style used for estimator/Pipeline/ColumnTransformer box that is\n",
              "clickable and can be expanded/collapsed.\n",
              "- Pipeline and ColumnTransformer use this feature and define the default style\n",
              "- Estimators will overwrite some part of the style using the `sk-estimator` class\n",
              "*/\n",
              "\n",
              "/* Pipeline and ColumnTransformer style (default) */\n",
              "\n",
              "#sk-container-id-1 div.sk-toggleable {\n",
              "  /* Default theme specific background. It is overwritten whether we have a\n",
              "  specific estimator or a Pipeline/ColumnTransformer */\n",
              "  background-color: var(--sklearn-color-background);\n",
              "}\n",
              "\n",
              "/* Toggleable label */\n",
              "#sk-container-id-1 label.sk-toggleable__label {\n",
              "  cursor: pointer;\n",
              "  display: flex;\n",
              "  width: 100%;\n",
              "  margin-bottom: 0;\n",
              "  padding: 0.5em;\n",
              "  box-sizing: border-box;\n",
              "  text-align: center;\n",
              "  align-items: start;\n",
              "  justify-content: space-between;\n",
              "  gap: 0.5em;\n",
              "}\n",
              "\n",
              "#sk-container-id-1 label.sk-toggleable__label .caption {\n",
              "  font-size: 0.6rem;\n",
              "  font-weight: lighter;\n",
              "  color: var(--sklearn-color-text-muted);\n",
              "}\n",
              "\n",
              "#sk-container-id-1 label.sk-toggleable__label-arrow:before {\n",
              "  /* Arrow on the left of the label */\n",
              "  content: \"▸\";\n",
              "  float: left;\n",
              "  margin-right: 0.25em;\n",
              "  color: var(--sklearn-color-icon);\n",
              "}\n",
              "\n",
              "#sk-container-id-1 label.sk-toggleable__label-arrow:hover:before {\n",
              "  color: var(--sklearn-color-text);\n",
              "}\n",
              "\n",
              "/* Toggleable content - dropdown */\n",
              "\n",
              "#sk-container-id-1 div.sk-toggleable__content {\n",
              "  max-height: 0;\n",
              "  max-width: 0;\n",
              "  overflow: hidden;\n",
              "  text-align: left;\n",
              "  /* unfitted */\n",
              "  background-color: var(--sklearn-color-unfitted-level-0);\n",
              "}\n",
              "\n",
              "#sk-container-id-1 div.sk-toggleable__content.fitted {\n",
              "  /* fitted */\n",
              "  background-color: var(--sklearn-color-fitted-level-0);\n",
              "}\n",
              "\n",
              "#sk-container-id-1 div.sk-toggleable__content pre {\n",
              "  margin: 0.2em;\n",
              "  border-radius: 0.25em;\n",
              "  color: var(--sklearn-color-text);\n",
              "  /* unfitted */\n",
              "  background-color: var(--sklearn-color-unfitted-level-0);\n",
              "}\n",
              "\n",
              "#sk-container-id-1 div.sk-toggleable__content.fitted pre {\n",
              "  /* unfitted */\n",
              "  background-color: var(--sklearn-color-fitted-level-0);\n",
              "}\n",
              "\n",
              "#sk-container-id-1 input.sk-toggleable__control:checked~div.sk-toggleable__content {\n",
              "  /* Expand drop-down */\n",
              "  max-height: 200px;\n",
              "  max-width: 100%;\n",
              "  overflow: auto;\n",
              "}\n",
              "\n",
              "#sk-container-id-1 input.sk-toggleable__control:checked~label.sk-toggleable__label-arrow:before {\n",
              "  content: \"▾\";\n",
              "}\n",
              "\n",
              "/* Pipeline/ColumnTransformer-specific style */\n",
              "\n",
              "#sk-container-id-1 div.sk-label input.sk-toggleable__control:checked~label.sk-toggleable__label {\n",
              "  color: var(--sklearn-color-text);\n",
              "  background-color: var(--sklearn-color-unfitted-level-2);\n",
              "}\n",
              "\n",
              "#sk-container-id-1 div.sk-label.fitted input.sk-toggleable__control:checked~label.sk-toggleable__label {\n",
              "  background-color: var(--sklearn-color-fitted-level-2);\n",
              "}\n",
              "\n",
              "/* Estimator-specific style */\n",
              "\n",
              "/* Colorize estimator box */\n",
              "#sk-container-id-1 div.sk-estimator input.sk-toggleable__control:checked~label.sk-toggleable__label {\n",
              "  /* unfitted */\n",
              "  background-color: var(--sklearn-color-unfitted-level-2);\n",
              "}\n",
              "\n",
              "#sk-container-id-1 div.sk-estimator.fitted input.sk-toggleable__control:checked~label.sk-toggleable__label {\n",
              "  /* fitted */\n",
              "  background-color: var(--sklearn-color-fitted-level-2);\n",
              "}\n",
              "\n",
              "#sk-container-id-1 div.sk-label label.sk-toggleable__label,\n",
              "#sk-container-id-1 div.sk-label label {\n",
              "  /* The background is the default theme color */\n",
              "  color: var(--sklearn-color-text-on-default-background);\n",
              "}\n",
              "\n",
              "/* On hover, darken the color of the background */\n",
              "#sk-container-id-1 div.sk-label:hover label.sk-toggleable__label {\n",
              "  color: var(--sklearn-color-text);\n",
              "  background-color: var(--sklearn-color-unfitted-level-2);\n",
              "}\n",
              "\n",
              "/* Label box, darken color on hover, fitted */\n",
              "#sk-container-id-1 div.sk-label.fitted:hover label.sk-toggleable__label.fitted {\n",
              "  color: var(--sklearn-color-text);\n",
              "  background-color: var(--sklearn-color-fitted-level-2);\n",
              "}\n",
              "\n",
              "/* Estimator label */\n",
              "\n",
              "#sk-container-id-1 div.sk-label label {\n",
              "  font-family: monospace;\n",
              "  font-weight: bold;\n",
              "  display: inline-block;\n",
              "  line-height: 1.2em;\n",
              "}\n",
              "\n",
              "#sk-container-id-1 div.sk-label-container {\n",
              "  text-align: center;\n",
              "}\n",
              "\n",
              "/* Estimator-specific */\n",
              "#sk-container-id-1 div.sk-estimator {\n",
              "  font-family: monospace;\n",
              "  border: 1px dotted var(--sklearn-color-border-box);\n",
              "  border-radius: 0.25em;\n",
              "  box-sizing: border-box;\n",
              "  margin-bottom: 0.5em;\n",
              "  /* unfitted */\n",
              "  background-color: var(--sklearn-color-unfitted-level-0);\n",
              "}\n",
              "\n",
              "#sk-container-id-1 div.sk-estimator.fitted {\n",
              "  /* fitted */\n",
              "  background-color: var(--sklearn-color-fitted-level-0);\n",
              "}\n",
              "\n",
              "/* on hover */\n",
              "#sk-container-id-1 div.sk-estimator:hover {\n",
              "  /* unfitted */\n",
              "  background-color: var(--sklearn-color-unfitted-level-2);\n",
              "}\n",
              "\n",
              "#sk-container-id-1 div.sk-estimator.fitted:hover {\n",
              "  /* fitted */\n",
              "  background-color: var(--sklearn-color-fitted-level-2);\n",
              "}\n",
              "\n",
              "/* Specification for estimator info (e.g. \"i\" and \"?\") */\n",
              "\n",
              "/* Common style for \"i\" and \"?\" */\n",
              "\n",
              ".sk-estimator-doc-link,\n",
              "a:link.sk-estimator-doc-link,\n",
              "a:visited.sk-estimator-doc-link {\n",
              "  float: right;\n",
              "  font-size: smaller;\n",
              "  line-height: 1em;\n",
              "  font-family: monospace;\n",
              "  background-color: var(--sklearn-color-background);\n",
              "  border-radius: 1em;\n",
              "  height: 1em;\n",
              "  width: 1em;\n",
              "  text-decoration: none !important;\n",
              "  margin-left: 0.5em;\n",
              "  text-align: center;\n",
              "  /* unfitted */\n",
              "  border: var(--sklearn-color-unfitted-level-1) 1pt solid;\n",
              "  color: var(--sklearn-color-unfitted-level-1);\n",
              "}\n",
              "\n",
              ".sk-estimator-doc-link.fitted,\n",
              "a:link.sk-estimator-doc-link.fitted,\n",
              "a:visited.sk-estimator-doc-link.fitted {\n",
              "  /* fitted */\n",
              "  border: var(--sklearn-color-fitted-level-1) 1pt solid;\n",
              "  color: var(--sklearn-color-fitted-level-1);\n",
              "}\n",
              "\n",
              "/* On hover */\n",
              "div.sk-estimator:hover .sk-estimator-doc-link:hover,\n",
              ".sk-estimator-doc-link:hover,\n",
              "div.sk-label-container:hover .sk-estimator-doc-link:hover,\n",
              ".sk-estimator-doc-link:hover {\n",
              "  /* unfitted */\n",
              "  background-color: var(--sklearn-color-unfitted-level-3);\n",
              "  color: var(--sklearn-color-background);\n",
              "  text-decoration: none;\n",
              "}\n",
              "\n",
              "div.sk-estimator.fitted:hover .sk-estimator-doc-link.fitted:hover,\n",
              ".sk-estimator-doc-link.fitted:hover,\n",
              "div.sk-label-container:hover .sk-estimator-doc-link.fitted:hover,\n",
              ".sk-estimator-doc-link.fitted:hover {\n",
              "  /* fitted */\n",
              "  background-color: var(--sklearn-color-fitted-level-3);\n",
              "  color: var(--sklearn-color-background);\n",
              "  text-decoration: none;\n",
              "}\n",
              "\n",
              "/* Span, style for the box shown on hovering the info icon */\n",
              ".sk-estimator-doc-link span {\n",
              "  display: none;\n",
              "  z-index: 9999;\n",
              "  position: relative;\n",
              "  font-weight: normal;\n",
              "  right: .2ex;\n",
              "  padding: .5ex;\n",
              "  margin: .5ex;\n",
              "  width: min-content;\n",
              "  min-width: 20ex;\n",
              "  max-width: 50ex;\n",
              "  color: var(--sklearn-color-text);\n",
              "  box-shadow: 2pt 2pt 4pt #999;\n",
              "  /* unfitted */\n",
              "  background: var(--sklearn-color-unfitted-level-0);\n",
              "  border: .5pt solid var(--sklearn-color-unfitted-level-3);\n",
              "}\n",
              "\n",
              ".sk-estimator-doc-link.fitted span {\n",
              "  /* fitted */\n",
              "  background: var(--sklearn-color-fitted-level-0);\n",
              "  border: var(--sklearn-color-fitted-level-3);\n",
              "}\n",
              "\n",
              ".sk-estimator-doc-link:hover span {\n",
              "  display: block;\n",
              "}\n",
              "\n",
              "/* \"?\"-specific style due to the `<a>` HTML tag */\n",
              "\n",
              "#sk-container-id-1 a.estimator_doc_link {\n",
              "  float: right;\n",
              "  font-size: 1rem;\n",
              "  line-height: 1em;\n",
              "  font-family: monospace;\n",
              "  background-color: var(--sklearn-color-background);\n",
              "  border-radius: 1rem;\n",
              "  height: 1rem;\n",
              "  width: 1rem;\n",
              "  text-decoration: none;\n",
              "  /* unfitted */\n",
              "  color: var(--sklearn-color-unfitted-level-1);\n",
              "  border: var(--sklearn-color-unfitted-level-1) 1pt solid;\n",
              "}\n",
              "\n",
              "#sk-container-id-1 a.estimator_doc_link.fitted {\n",
              "  /* fitted */\n",
              "  border: var(--sklearn-color-fitted-level-1) 1pt solid;\n",
              "  color: var(--sklearn-color-fitted-level-1);\n",
              "}\n",
              "\n",
              "/* On hover */\n",
              "#sk-container-id-1 a.estimator_doc_link:hover {\n",
              "  /* unfitted */\n",
              "  background-color: var(--sklearn-color-unfitted-level-3);\n",
              "  color: var(--sklearn-color-background);\n",
              "  text-decoration: none;\n",
              "}\n",
              "\n",
              "#sk-container-id-1 a.estimator_doc_link.fitted:hover {\n",
              "  /* fitted */\n",
              "  background-color: var(--sklearn-color-fitted-level-3);\n",
              "}\n",
              "</style><div id=\"sk-container-id-1\" class=\"sk-top-container\"><div class=\"sk-text-repr-fallback\"><pre>LinearRegression()</pre><b>In a Jupyter environment, please rerun this cell to show the HTML representation or trust the notebook. <br />On GitHub, the HTML representation is unable to render, please try loading this page with nbviewer.org.</b></div><div class=\"sk-container\" hidden><div class=\"sk-item\"><div class=\"sk-estimator fitted sk-toggleable\"><input class=\"sk-toggleable__control sk-hidden--visually\" id=\"sk-estimator-id-1\" type=\"checkbox\" checked><label for=\"sk-estimator-id-1\" class=\"sk-toggleable__label fitted sk-toggleable__label-arrow\"><div><div>LinearRegression</div></div><div><a class=\"sk-estimator-doc-link fitted\" rel=\"noreferrer\" target=\"_blank\" href=\"https://scikit-learn.org/1.6/modules/generated/sklearn.linear_model.LinearRegression.html\">?<span>Documentation for LinearRegression</span></a><span class=\"sk-estimator-doc-link fitted\">i<span>Fitted</span></span></div></label><div class=\"sk-toggleable__content fitted\"><pre>LinearRegression()</pre></div> </div></div></div></div>"
            ]
          },
          "metadata": {},
          "execution_count": 22
        }
      ]
    },
    {
      "cell_type": "markdown",
      "source": [
        "## Predicción de los resultados del conjunto de pruebas"
      ],
      "metadata": {
        "id": "l37SNs6YuP_2"
      }
    },
    {
      "cell_type": "code",
      "source": [
        "y_pred = lm.predict(X_test)\n",
        "np.set_printoptions(precision=2)\n",
        "print(np.concatenate((y_pred.reshape(len(y_pred),1), y_test.reshape(len(y_test),1)),1))"
      ],
      "metadata": {
        "colab": {
          "base_uri": "https://localhost:8080/"
        },
        "id": "fIpBfHeauQub",
        "outputId": "a49ead9c-e6b5-4637-e444-904da9bcd826"
      },
      "execution_count": 23,
      "outputs": [
        {
          "output_type": "stream",
          "name": "stdout",
          "text": [
            "[[103015.2  103282.38]\n",
            " [132582.28 144259.4 ]\n",
            " [132447.74 146121.95]\n",
            " [ 71976.1   77798.83]\n",
            " [178537.48 191050.39]\n",
            " [116161.24 105008.31]\n",
            " [ 67851.69  81229.06]\n",
            " [ 98791.73  97483.56]\n",
            " [113969.44 110352.25]\n",
            " [167921.07 166187.94]]\n"
          ]
        }
      ]
    },
    {
      "cell_type": "markdown",
      "source": [
        "### Crear gráfico de la regresión lineal múltiple con Python matplotlib"
      ],
      "metadata": {
        "id": "VPFMs7C1ukd-"
      }
    },
    {
      "cell_type": "code",
      "source": [
        "z = np.arange(len(y_pred))\n",
        "plt.plot( z, y_test, color = \"red\", marker = \"o\", label = \"Real value\")\n",
        "plt.plot( z, y_pred, color = \"blue\", marker = \"o\", label = \"Predicted value\")\n",
        "plt.title(\"Linear_model\")\n",
        "plt.xlabel(\"Number of samples\")\n",
        "plt.ylabel(\"starups\")\n",
        "plt.legend(loc = \"upper left\")"
      ],
      "metadata": {
        "colab": {
          "base_uri": "https://localhost:8080/",
          "height": 489
        },
        "id": "7vm5wbPmutfL",
        "outputId": "8476a6cc-5ffc-49de-b1c8-a83158c87866"
      },
      "execution_count": 24,
      "outputs": [
        {
          "output_type": "execute_result",
          "data": {
            "text/plain": [
              "<matplotlib.legend.Legend at 0x79d0fc068a10>"
            ]
          },
          "metadata": {},
          "execution_count": 24
        },
        {
          "output_type": "display_data",
          "data": {
            "text/plain": [
              "<Figure size 640x480 with 1 Axes>"
            ],
            "image/png": "[encoded data removed]"
          },
          "metadata": {}
        }
      ]
    },
    {
      "cell_type": "markdown",
      "source": [
        "# **Métricas de regresión**\n",
        "\n",
        "Las métricas de regresión en aprendizaje automático ml y cada modelo de Machine Learning que la utiliza intenta resolver un problema con un objetivo diferente utilizando un conjunto de datos diferente y, por lo tanto, es importante comprender el contexto antes de elegir una métrica.\n",
        "\n",
        "Generalmente, las respuestas a la siguiente pregunta nos ayudan a elegir la métrica apropiada:\n",
        "\n",
        "Tipo de tarea: ¿Regresión? ¿Clasificación?\n",
        "¿Objetivo de negocio?\n",
        "¿Cuál es la distribución de la variable objetivo?\n",
        "\n",
        "### Métricas de regresión en aprendizaje automático ml:\n",
        "\n",
        "\n",
        "- (MSE) – Error cuadrático medio\n",
        "- (RMSE) -Error cuadrático medio\n",
        "- (MAE) -Error absoluto medio\n",
        "- (R²) – R al cuadrado\n",
        "- R cuadrado ajustado (R²)\n",
        "- (MSPE) – Error de porcentaje cuadrático medio\n",
        "- (MAPE) – Error porcentual absoluto medio\n",
        "- (RMSLE) – Error logarítmico cuadrático medio\n",
        "\n",
        "\n",
        "### **MAE, MSE, RMSE, coeficiente de determinación, R cuadrado ajustado:**"
      ],
      "metadata": {
        "id": "7SJTszfZuzsG"
      }
    },
    {
      "cell_type": "markdown",
      "source": [
        "El paso esencial en cualquier modelo de aprendizaje automático es evaluar la precisión del modelo. Las métricas de error cuadrático medio, error cuadrático medio, error cuadrático medio y R cuadrado o coeficiente de determinación se utilizan para evaluar el rendimiento del modelo en el análisis de regresión."
      ],
      "metadata": {
        "id": "XG2bDyiTu_Um"
      }
    },
    {
      "cell_type": "markdown",
      "source": [
        "**MAE.** El error absoluto medio representa el promedio de la diferencia absoluta entre los valores reales y previstos en el conjunto de datos. Mide el promedio de los residuos en el conjunto de datos.\n",
        "\n",
        "\\begin{equation}\n",
        "M A E=\\frac{1}{N} \\sum_{i=1}^N\\left|y_i-\\hat{y}\\right|\n",
        "\\end{equation}\n",
        "\n",
        "Donde,\n",
        "$$\n",
        "\\begin{aligned}\n",
        "& \\hat{y}-\\text { predicted value of } y \\\\\n",
        "& \\bar{y}-\\text { mean value of } y\n",
        "\\end{aligned}\n",
        "$$\n",
        "\n",
        "**MSE**. El error cuadrático medio representa el promedio de la diferencia al cuadrado entre los valores originales y predichos en el conjunto de datos. Mide la varianza de los residuos.\n",
        "\n",
        "\\begin{equation}\n",
        "M S E=\\frac{1}{N} \\sum_{i=1}^N\\left(y_i-\\hat{y}\\right)^2\n",
        "\\end{equation}\n",
        "\n",
        "Donde,\n",
        "$$\n",
        "\\begin{aligned}\n",
        "& \\hat{y}-\\text { predicted value of } y \\\\\n",
        "& \\bar{y}-\\text { mean value of } y\n",
        "\\end{aligned}\n",
        "$$\n",
        "\n",
        "\n",
        "**Ventaja:**\n",
        "Útil si tenemos valores inesperados que nos deberían interesar. Muy alto o bajo valor que debemos prestar atención.\n",
        "\n",
        "**Desventaja:**\n",
        "Si hacemos una predicción muy mala, la cuadratura empeorará aún más el error y puede sesgar la métrica para sobreestimar la maldad del modelo. Este es un comportamiento particularmente problemático si tenemos datos ruidosos (es decir, los datos que por cualquier motivo no son del todo confiables).\n",
        "\n",
        "Incluso un modelo “perfecto” puede tener un MSE alto en esa situación. Por lo que es difícil juzgar qué tan bien modelo está realizando.\n",
        "\n",
        "Por otro lado, si todos los errores son pequeños, o más bien, más pequeños que 1, se siente el efecto contrario: podemos subestimar la maldad del modelo.\n",
        "\n",
        "\n",
        "**RMSE**. El error cuadrático medio es la raíz cuadrada del error cuadrático medio. Mide la desviación estándar de los residuos.\n",
        "\n",
        "\\begin{equation}\n",
        "R M S E=\\sqrt{M S E}=\\sqrt{\\frac{1}{N} \\sum_{i=1}^N\\left(y_i-\\hat{y}\\right)^2}\n",
        "\\end{equation}\n",
        "\n",
        "$R^2$. El coeficiente de determinación o `R cuadrado` representa la proporción de la varianza en la variable dependiente que se explica por el modelo de regresión lineal. Es una puntuación sin escala, es decir, independientemente de que los valores sean pequeños o grandes, el valor de R cuadrado será menor que uno.\n",
        "\n",
        "\\begin{equation}\n",
        "R^2=1-\\frac{\\sum\\left(y_i-\\hat{y}\\right)^2}{\\sum\\left(y_i-\\bar{y}\\right)^2}\n",
        "\\end{equation}\n",
        "\n",
        "### **Diferencias entre estas métricas de evaluación**\n",
        "\n",
        "- El error cuadrático medio (MSE) y el error cuadrático medio penalizan los grandes errores de predicción frente al error absoluto medio (MAE). Sin embargo, RMSE se usa ampliamente que MSE para evaluar el desempeño del modelo de regresión con otros modelos aleatorios, ya que tiene las mismas unidades que la variable dependiente (eje Y).\n",
        "\n",
        "- MSE es una función diferenciable que facilita la realización de operaciones matemáticas en comparación con una función no diferenciable como MAE. Por lo tanto, en muchos modelos, RMSE se utiliza como métrica predeterminada para calcular la función de pérdida a pesar de ser más difícil de interpretar que MAE.\n",
        "\n",
        "- El valor más bajo de MAE, MSE y RMSE implica una mayor precisión de un modelo de regresión. Sin embargo, se considera deseable un valor más alto de R cuadrado.\n",
        "\n",
        "- R cuadrado y R cuadrado ajustado se utilizan para explicar qué tan bien las variables independientes en el modelo de regresión lineal explican la variabilidad en la variable dependiente. El valor de R cuadrado siempre aumenta con la suma de las variables independientes, lo que podría llevar a la suma de variables redundantes en nuestro modelo. Sin embargo, el R cuadrado ajustado resuelve este problema."
      ],
      "metadata": {
        "id": "w3DQnF6jvA_G"
      }
    },
    {
      "cell_type": "code",
      "source": [
        "# Evaluating Model\n",
        "from sklearn.metrics import mean_squared_error, r2_score\n",
        "lm.score(X_test, y_test)\n",
        "r2_lm = r2_score(y_test, y_pred)\n",
        "print(\"R^2 test lm: %.4f \" %r2_lm )\n",
        "mse_lm = mean_squared_error(y_test,y_pred)\n",
        "print(\"MSE lm: %.4f\" % mse_lm)\n",
        "rmse_lm = np.sqrt(mse_lm)\n",
        "print(\"RMSE lm: %.4f\" % rmse_lm)"
      ],
      "metadata": {
        "colab": {
          "base_uri": "https://localhost:8080/"
        },
        "id": "xJvW0P9BuuLb",
        "outputId": "093c5eff-c00d-4881-c7c6-dc9792b9044b"
      },
      "execution_count": 25,
      "outputs": [
        {
          "output_type": "stream",
          "name": "stdout",
          "text": [
            "R^2 test lm: 0.9347 \n",
            "MSE lm: 83502864.0326\n",
            "RMSE lm: 9137.9902\n"
          ]
        }
      ]
    }
  ]
}