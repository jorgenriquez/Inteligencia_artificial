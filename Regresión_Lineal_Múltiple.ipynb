{
  "nbformat": 4,
  "nbformat_minor": 0,
  "metadata": {
    "colab": {
      "provenance": [],
      "authorship_tag": "ABX9TyPxir+zECBTGxFig+jPcxly",
      "include_colab_link": true
    },
    "kernelspec": {
      "name": "python3",
      "display_name": "Python 3"
    },
    "language_info": {
      "name": "python"
    }
  },
  "cells": [
    {
      "cell_type": "markdown",
      "metadata": {
        "id": "view-in-github",
        "colab_type": "text"
      },
      "source": [
        "<a href=\"https://colab.research.google.com/github/jorgenriquez/Inteligencia_artificial/blob/main/Regresi%C3%B3n_Lineal_M%C3%BAltiple.ipynb\" target=\"_parent\"><img src=\"https://colab.research.google.com/assets/colab-badge.svg\" alt=\"Open In Colab\"/></a>"
      ]
    },
    {
      "cell_type": "markdown",
      "source": [
        "# **Modelos de Regresión Lineal Múltiple**"
      ],
      "metadata": {
        "id": "13paHkhLoC-P"
      }
    },
    {
      "cell_type": "markdown",
      "source": [
        "La regresión lineal múltiple es una técnica de Machine Learning para predecir la relación existente entre varias variables independientes y una única variable dependiente y su implementación puede realizarse con Python.\n",
        "\n",
        "Este modelo de aprendizaje supervisado de Machine Learning tiene una serie de ventajas sobre la regresión lineal simple, como poder realizar predicciones sobre dos variables o más, teniendo como objetivo reducir las diferencias entre los valores reales y los que predice el modelo."
      ],
      "metadata": {
        "id": "tHJngHecoLpm"
      }
    },
    {
      "cell_type": "markdown",
      "source": [
        "## **Qué es una regresión múltiple**\n",
        "Muy usada en ciencias de la computación para el tratamiento de grandes conjuntos de datos, la regresión lineal múltiple es un modelo estadístico que sirve para evaluar las relaciones entre varias variables independientes (X1, X2, X3,...) llamados predictores y una variable dependiente (Y) o valor de salida.\n",
        "\n",
        "La representación de la ecuación ahora es un hiperplano en un espacio n-dimensional. Recuerda que en el modelo simple es un plano bidimensional.\n",
        "\n",
        "La representación de la ecuación ahora es un plano en lugar de una recta, es decir, pasa de ser un plano bidimensional en el modelo simple a un hiperplano en un espacio n-dimensional.\n",
        "\n",
        "Su objetivo es encontrar lo coeficientes que mejor ajustan los datos y que permite realizar predicciones más precisas sobre la variable dependiente a partir de los datos o variables independientes."
      ],
      "metadata": {
        "id": "clFBL6zUoUCQ"
      }
    },
    {
      "cell_type": "markdown",
      "source": [
        "## **Diferencias entre regresión lineal múltiple y simple**\n",
        "Independientemente de su campo de aplicación (estadística, informática o ciencias de la información, Marketing, etc.), la regresión lineal múltiple es un modelo estadístico que amplía la funcionalidad de la regresión lineal simple. Esta última, la simple, solo puede predecir las relaciones entre dos variables. En cambio, la regresión múltiple permite predecir las relaciones existentes entre dos o más variables entendiendo que analiza la variabilidad de la variable dependiente mediante la combinación lineal de varias variables independientes."
      ],
      "metadata": {
        "id": "lae9PY8ZofIn"
      }
    },
    {
      "cell_type": "markdown",
      "source": [
        "# **EJEMPLO**"
      ],
      "metadata": {
        "id": "_JOsqv_HoxJP"
      }
    },
    {
      "cell_type": "markdown",
      "source": [
        "### **1.**   **Obtener datos**"
      ],
      "metadata": {
        "id": "5FqHf348o0zf"
      }
    },
    {
      "cell_type": "code",
      "source": [
        "]import pandas as pd\n",
        "from sklearn.linear_model import LinearRegression\n",
        "from sklearn.model_selection import train_test_split\n",
        "from sklearn.metrics import mean_squared_error\n",
        "import matplotlib.pyplot as plt\n",
        "\n",
        "# Crear dataframe con los datos de facturación de clientes\n",
        "data = {'customer_id': [1, 2, 3, 4, 5],\n",
        "        'billing_amount': [100, 200, 150, 300, 250],\n",
        "        'sales': [2, 4, 3, 6, 5],\n",
        "        'customer_since': [2010, 2012, 2014, 2016, 2018],\n",
        "        'age': [35, 40, 45, 30, 25],\n",
        "        'gender': ['M', 'F', 'M', 'F', 'M']\n",
        "}\n",
        "clients = pd.DataFrame(data)"
      ],
      "metadata": {
        "id": "hIocWDAZpCBP"
      },
      "execution_count": 3,
      "outputs": []
    },
    {
      "cell_type": "markdown",
      "source": [
        "### **2.**   **Asignación de los valores a X e y: variable independiente y variable dependiente.**\n",
        "\n",
        "Ahora vamos a indicar cuáles son los valores que debe tomar cada variable del modelo."
      ],
      "metadata": {
        "id": "rsTnHGBCpGJ_"
      }
    },
    {
      "cell_type": "code",
      "source": [
        "# Seleccionar las variables independientes (X) y la variable dependiente (y).\n",
        "X = clients[['sales', 'customer_since', 'age']]\n",
        "y = clients['billing_amount']"
      ],
      "metadata": {
        "id": "5gQR9R1fpLrn"
      },
      "execution_count": null,
      "outputs": []
    },
    {
      "cell_type": "markdown",
      "source": [
        "### **3. Creación del conjunto de datos de entrenamiento y conjunto de prueba**\n",
        "\n",
        "\n",
        "Indicamos cómo deben repartirse los datos que hemos obtenido."
      ],
      "metadata": {
        "id": "xax9o5-ppVLP"
      }
    },
    {
      "cell_type": "code",
      "source": [
        "# Dividir los datos en conjunto de entrenamiento y conjunto de prueba\n",
        "X_train, X_test, y_train, y_test = train_test_split(X, y, test_size=0.2, random_state=42)"
      ],
      "metadata": {
        "id": "cq-zIACfqq2P"
      },
      "execution_count": null,
      "outputs": []
    },
    {
      "cell_type": "markdown",
      "source": [
        "### **Explicación**:\n",
        "\n",
        "**train_test_split:** le pasamos las variables (X, y) que han sido creadas con los datos deseados del dataframe.\n",
        "\n",
        "\n",
        "**test_size:** es el tamaño del conjunto de test del algoritmo pudiendo tener un valor entre 0.0 y 1.0. Por defecto test_size = 0.25. Podemos modificarlo según nuestros intereses en cada modelo. Si indicamos un número entero, test_size indicará el número de muestras que empleará en la evaluación. Si test_size = 10, el conjunto de test tomará 10 datos de muestra y el resto de datos será enviado a entrenamiento del modelo. Por ejemplo: tenemos un conjunto de datos con 100 valores. test_size = 20. En este caso, 20 valores son enviados al conjunto de test y 80 valores a entrenamiento."
      ],
      "metadata": {
        "id": "0Fkgxb7lqtQH"
      }
    },
    {
      "cell_type": "markdown",
      "source": [
        "### **4.    Entrenamiento del modelo**\n",
        "\n",
        "Con la siguiente línea de código estamos indicando que entrene el modelo de regresión lineal múltiple con el conjunto de datos de entrenamiento de las variables independientes y la variable dependiente. Recuerda que previamente las creamos con train_test_split."
      ],
      "metadata": {
        "id": "4DeX9tCIrNr_"
      }
    },
    {
      "cell_type": "code",
      "source": [
        "# Crear el modelo de regresión lineal múltiple\n",
        "reg = LinearRegression().fit(X_train, y_train)"
      ],
      "metadata": {
        "id": "_fZe56rrrsnn"
      },
      "execution_count": null,
      "outputs": []
    },
    {
      "cell_type": "markdown",
      "source": [
        "### **5.    Creación de la predicción**\n",
        "\n",
        "Con el método predict podemos realizar predicciones. En este caso le pasamos como parámetro datos de las variables independientes de test, es decir, los datos para hacer pruebas."
      ],
      "metadata": {
        "id": "mDZkpM5Rrv-v"
      }
    },
    {
      "cell_type": "code",
      "source": [
        "# Hacer predicciones sobre el conjunto de prueba\n",
        "y_pred = reg.predict(X_test)"
      ],
      "metadata": {
        "id": "iwc1n8CysC5u"
      },
      "execution_count": null,
      "outputs": []
    },
    {
      "cell_type": "markdown",
      "source": [
        "### **6.   Cálculo de error cuadrático medio**\n",
        "\n",
        "\n",
        "También es importante conocer las posibles diferencias entre las estimaciones realizadas y los valores reales y, en este caso, usamos el error cuadrático medio."
      ],
      "metadata": {
        "id": "JQXpa8dgsHBW"
      }
    },
    {
      "cell_type": "code",
      "source": [
        "# Calcular el error cuadrático medio\n",
        "mse = mean_squared_error(y_test, y_pred)\n",
        "print(\"Error cuadrático medio:\", mse)"
      ],
      "metadata": {
        "id": "grCyBrVmsQLO"
      },
      "execution_count": null,
      "outputs": []
    },
    {
      "cell_type": "markdown",
      "source": [
        "### **7.   Cálculo de coeficiente de determinación y sesgo**\n",
        "El sesgo o bias de un algoritmo de machine learning es la tendencia del modelo a tomar decisiones poco exactas, es decir, realizar predicciones incorrectas debido a patrones en los datos de entrenamiento, motivo por el cual es importante conocerlo."
      ],
      "metadata": {
        "id": "4NP0B1WisbGP"
      }
    },
    {
      "cell_type": "code",
      "source": [
        "\n",
        "# Imprimir los coeficientes y el sesgo - Valores de los pesos del modelo de regresión\n",
        "print(\"Coeficientes:\", reg.coef_)\n",
        "print(\"Sesgo (Coeficiente W0:\", reg.intercept_)\n",
        "print(\"Coeficiente W1:\", reg.coef_[0])\n",
        "print(\"Coeficiente W2:\", reg.coef_[1])\n",
        "\n",
        "# Imprimir el coeficientes de determinación\n",
        "print(\"Coeficiente de determinación:\", reg.score(X_train, y_train))"
      ],
      "metadata": {
        "id": "werG4jQMsqPO"
      },
      "execution_count": null,
      "outputs": []
    },
    {
      "cell_type": "markdown",
      "source": [
        "Es bastante frecuente que el problema del sesgo esté influenciado por un conjunto de datos simple en la regresión lineal, como sucede en este caso que estamos tratando.\n",
        "\n",
        "Cuando ya tenemos el código Python con el entrenamiento del modelo de la regresión múltiple y hemos calculado los coeficientes de determinación, el error cuadrático medio y el posible sesgo del algoritmo de ML, es el momento de mostrar los datos en una gráfica."
      ],
      "metadata": {
        "id": "DfrG0X8isuDl"
      }
    },
    {
      "cell_type": "markdown",
      "source": [
        "### **8.   Crear gráfico de la regresión lineal múltiple con Python matplotlib**\n",
        "\n",
        "\n",
        "Para mostrar los datos de la regresión lineal múltiple en Python usaremos la biblioteca matplotlib y su módulo pyplot."
      ],
      "metadata": {
        "id": "UQG91lxxs3Ze"
      }
    },
    {
      "cell_type": "code",
      "execution_count": 1,
      "metadata": {
        "colab": {
          "base_uri": "https://localhost:8080/",
          "height": 576
        },
        "id": "GR7mYBTinugD",
        "outputId": "89b42b84-4fc4-4208-a5b5-3e8f2c0573eb"
      },
      "outputs": [
        {
          "output_type": "stream",
          "name": "stdout",
          "text": [
            "Error cuadrático medio: 6.54312789226516e-26\n",
            "Coeficientes: [ 5.00000000e+01  8.14051985e-14 -6.12891167e-15]\n",
            "Sesgo (Coeficiente W0: -1.630837687116582e-10\n",
            "Coeficiente W1: 49.99999999999982\n",
            "Coeficiente W2: 8.140519850547618e-14\n",
            "Coeficiente de determinación: 1.0\n"
          ]
        },
        {
          "output_type": "display_data",
          "data": {
            "text/plain": [
              "<Figure size 640x480 with 1 Axes>"
            ],
            "image/png": "[encoded data removed]"
          },
          "metadata": {}
        }
      ],
      "source": [
        "# Salida gráfica\n",
        "\n",
        "# Crear una figura y un eje\n",
        "fig, ax = plt.subplots()\n",
        "\n",
        "# Graficar los puntos de entrenamiento\n",
        "ax.scatter(X_train['sales'], y_train, color='blue', label='Entrenamiento')\n",
        "\n",
        "# Graficar los puntos de prueba\n",
        "ax.scatter(X_test['sales'], y_test, color='red', label='Prueba')\n",
        "\n",
        "# Graficar la recta de regresión\n",
        "ax.plot(X_test['sales'], y_pred, color='black', linewidth=2, label='Regresión')\n",
        "\n",
        "# Agregar etiquetas al eje X e Y\n",
        "ax.set_ylabel(\"billing_amount\")\n",
        "ax.set_xlabel(\"sales\")\n",
        "\n",
        "# Agregar un título al gráfico\n",
        "ax.set_title(\"Regresión lineal múltiple\")\n",
        "\n",
        "# Mostrar la leyenda\n",
        "ax.legend()\n",
        "\n",
        "# Mostrar el gráfico\n",
        "plt.show()"
      ]
    },
    {
      "cell_type": "markdown",
      "source": [],
      "metadata": {
        "id": "zoXs9nywoBBY"
      }
    }
  ]
}