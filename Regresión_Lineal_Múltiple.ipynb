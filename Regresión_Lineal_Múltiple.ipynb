{
  "nbformat": 4,
  "nbformat_minor": 0,
  "metadata": {
    "colab": {
      "provenance": [],
      "authorship_tag": "ABX9TyOGRQMthQZxw9QrQ5XF3wS7",
      "include_colab_link": true
    },
    "kernelspec": {
      "name": "python3",
      "display_name": "Python 3"
    },
    "language_info": {
      "name": "python"
    }
  },
  "cells": [
    {
      "cell_type": "markdown",
      "metadata": {
        "id": "view-in-github",
        "colab_type": "text"
      },
      "source": [
        "<a href=\"https://colab.research.google.com/github/jorgenriquez/Inteligencia_artificial/blob/main/Regresi%C3%B3n_Lineal_M%C3%BAltiple.ipynb\" target=\"_parent\"><img src=\"https://colab.research.google.com/assets/colab-badge.svg\" alt=\"Open In Colab\"/></a>"
      ]
    },
    {
      "cell_type": "markdown",
      "source": [
        "# **Modelos de Regresión Lineal Múltiple**"
      ],
      "metadata": {
        "id": "13paHkhLoC-P"
      }
    },
    {
      "cell_type": "markdown",
      "source": [
        "La regresión lineal múltiple es una técnica de Machine Learning para predecir la relación existente entre varias variables independientes y una única variable dependiente y su implementación puede realizarse con Python.\n",
        "\n",
        "Este modelo de aprendizaje supervisado de Machine Learning tiene una serie de ventajas sobre la regresión lineal simple, como poder realizar predicciones sobre dos variables o más, teniendo como objetivo reducir las diferencias entre los valores reales y los que predice el modelo."
      ],
      "metadata": {
        "id": "tHJngHecoLpm"
      }
    },
    {
      "cell_type": "markdown",
      "source": [
        "## **Qué es una regresión múltiple**\n",
        "Muy usada en ciencias de la computación para el tratamiento de grandes conjuntos de datos, la regresión lineal múltiple es un modelo estadístico que sirve para evaluar las relaciones entre varias variables independientes (X1, X2, X3,...) llamados predictores y una variable dependiente (Y) o valor de salida.\n",
        "\n",
        "La representación de la ecuación ahora es un hiperplano en un espacio n-dimensional. Recuerda que en el modelo simple es un plano bidimensional.\n",
        "\n",
        "La representación de la ecuación ahora es un plano en lugar de una recta, es decir, pasa de ser un plano bidimensional en el modelo simple a un hiperplano en un espacio n-dimensional.\n",
        "\n",
        "Su objetivo es encontrar lo coeficientes que mejor ajustan los datos y que permite realizar predicciones más precisas sobre la variable dependiente a partir de los datos o variables independientes."
      ],
      "metadata": {
        "id": "clFBL6zUoUCQ"
      }
    },
    {
      "cell_type": "markdown",
      "source": [
        "## **Diferencias entre regresión lineal múltiple y simple**\n",
        "Independientemente de su campo de aplicación (estadística, informática o ciencias de la información, Marketing, etc.), la regresión lineal múltiple es un modelo estadístico que amplía la funcionalidad de la regresión lineal simple. Esta última, la simple, solo puede predecir las relaciones entre dos variables. En cambio, la regresión múltiple permite predecir las relaciones existentes entre dos o más variables entendiendo que analiza la variabilidad de la variable dependiente mediante la combinación lineal de varias variables independientes."
      ],
      "metadata": {
        "id": "lae9PY8ZofIn"
      }
    },
    {
      "cell_type": "markdown",
      "source": [
        "# **EJEMPLO**"
      ],
      "metadata": {
        "id": "_JOsqv_HoxJP"
      }
    },
    {
      "cell_type": "markdown",
      "source": [
        "### **1.**   **Obtener datos**"
      ],
      "metadata": {
        "id": "5FqHf348o0zf"
      }
    },
    {
      "cell_type": "code",
      "source": [
        "import numpy as np\n",
        "import pandas as pd\n",
        "from sklearn.linear_model import LinearRegression\n",
        "from sklearn.model_selection import train_test_split\n",
        "from sklearn.metrics import mean_squared_error\n",
        "import matplotlib.pyplot as plt\n",
        "\n",
        "# Crear dataframe con los datos de facturación de clientes\n",
        "data = {'customer_id': [1, 2, 3, 4, 5],\n",
        "        'billing_amount': [100, 200, 150, 300, 250],\n",
        "        'sales': [2, 4, 3, 6, 5],\n",
        "        'customer_since': [2010, 2012, 2014, 2016, 2018],\n",
        "        'age': [35, 40, 45, 30, 25],\n",
        "        'gender': ['M', 'F', 'M', 'F', 'M']\n",
        "}\n",
        "clients = pd.DataFrame(data)"
      ],
      "metadata": {
        "id": "hIocWDAZpCBP"
      },
      "execution_count": null,
      "outputs": []
    },
    {
      "cell_type": "markdown",
      "source": [
        "### **2.**   **Asignación de los valores a X e y: variable independiente y variable dependiente.**\n",
        "\n",
        "Ahora vamos a indicar cuáles son los valores que debe tomar cada variable del modelo."
      ],
      "metadata": {
        "id": "rsTnHGBCpGJ_"
      }
    },
    {
      "cell_type": "code",
      "source": [
        "# Seleccionar las variables independientes (X) y la variable dependiente (y).\n",
        "X = clients[['sales', 'customer_since', 'age']]\n",
        "y = clients['billing_amount']"
      ],
      "metadata": {
        "id": "5gQR9R1fpLrn"
      },
      "execution_count": null,
      "outputs": []
    },
    {
      "cell_type": "markdown",
      "source": [
        "### **3. Creación del conjunto de datos de entrenamiento y conjunto de prueba**\n",
        "\n",
        "\n",
        "Indicamos cómo deben repartirse los datos que hemos obtenido."
      ],
      "metadata": {
        "id": "xax9o5-ppVLP"
      }
    },
    {
      "cell_type": "code",
      "source": [
        "# Dividir los datos en conjunto de entrenamiento y conjunto de prueba\n",
        "X_train, X_test, y_train, y_test = train_test_split(X, y, test_size=0.2, random_state=42)"
      ],
      "metadata": {
        "id": "cq-zIACfqq2P"
      },
      "execution_count": null,
      "outputs": []
    },
    {
      "cell_type": "markdown",
      "source": [
        "### **Explicación**:\n",
        "\n",
        "**train_test_split:** le pasamos las variables (X, y) que han sido creadas con los datos deseados del dataframe.\n",
        "\n",
        "\n",
        "**test_size:** es el tamaño del conjunto de test del algoritmo pudiendo tener un valor entre 0.0 y 1.0. Por defecto test_size = 0.25. Podemos modificarlo según nuestros intereses en cada modelo. Si indicamos un número entero, test_size indicará el número de muestras que empleará en la evaluación. Si test_size = 10, el conjunto de test tomará 10 datos de muestra y el resto de datos será enviado a entrenamiento del modelo. Por ejemplo: tenemos un conjunto de datos con 100 valores. test_size = 20. En este caso, 20 valores son enviados al conjunto de test y 80 valores a entrenamiento."
      ],
      "metadata": {
        "id": "0Fkgxb7lqtQH"
      }
    },
    {
      "cell_type": "markdown",
      "source": [
        "### **4.    Entrenamiento del modelo**\n",
        "\n",
        "Con la siguiente línea de código estamos indicando que entrene el modelo de regresión lineal múltiple con el conjunto de datos de entrenamiento de las variables independientes y la variable dependiente. Recuerda que previamente las creamos con train_test_split."
      ],
      "metadata": {
        "id": "4DeX9tCIrNr_"
      }
    },
    {
      "cell_type": "code",
      "source": [
        "# Crear el modelo de regresión lineal múltiple\n",
        "reg = LinearRegression().fit(X_train, y_train)"
      ],
      "metadata": {
        "id": "_fZe56rrrsnn"
      },
      "execution_count": null,
      "outputs": []
    },
    {
      "cell_type": "markdown",
      "source": [
        "### **5.    Creación de la predicción**\n",
        "\n",
        "Con el método predict podemos realizar predicciones. En este caso le pasamos como parámetro datos de las variables independientes de test, es decir, los datos para hacer pruebas."
      ],
      "metadata": {
        "id": "mDZkpM5Rrv-v"
      }
    },
    {
      "cell_type": "code",
      "source": [
        "# Hacer predicciones sobre el conjunto de prueba\n",
        "y_pred = reg.predict(X_test)"
      ],
      "metadata": {
        "id": "iwc1n8CysC5u"
      },
      "execution_count": null,
      "outputs": []
    },
    {
      "cell_type": "markdown",
      "source": [
        "### **6.   Cálculo de error cuadrático medio**\n",
        "\n",
        "\n",
        "También es importante conocer las posibles diferencias entre las estimaciones realizadas y los valores reales y, en este caso, usamos el error cuadrático medio."
      ],
      "metadata": {
        "id": "JQXpa8dgsHBW"
      }
    },
    {
      "cell_type": "code",
      "source": [
        "# Calcular el error cuadrático medio\n",
        "mse = mean_squared_error(y_test, y_pred)\n",
        "print(\"Error cuadrático medio:\", mse)"
      ],
      "metadata": {
        "colab": {
          "base_uri": "https://localhost:8080/"
        },
        "id": "grCyBrVmsQLO",
        "outputId": "4976f4dc-ae92-4309-cff2-6ddbda39688c"
      },
      "execution_count": null,
      "outputs": [
        {
          "output_type": "stream",
          "name": "stdout",
          "text": [
            "Error cuadrático medio: 6.54312789226516e-26\n"
          ]
        }
      ]
    },
    {
      "cell_type": "markdown",
      "source": [
        "### **7.   Cálculo de coeficiente de determinación y sesgo**\n",
        "El sesgo o bias de un algoritmo de machine learning es la tendencia del modelo a tomar decisiones poco exactas, es decir, realizar predicciones incorrectas debido a patrones en los datos de entrenamiento, motivo por el cual es importante conocerlo."
      ],
      "metadata": {
        "id": "4NP0B1WisbGP"
      }
    },
    {
      "cell_type": "code",
      "source": [
        "\n",
        "# Imprimir los coeficientes y el sesgo - Valores de los pesos del modelo de regresión\n",
        "print(\"Coeficientes:\", reg.coef_)\n",
        "print(\"Sesgo (Coeficiente W0:\", reg.intercept_)\n",
        "print(\"Coeficiente W1:\", reg.coef_[0])\n",
        "print(\"Coeficiente W2:\", reg.coef_[1])\n",
        "\n",
        "# Imprimir el coeficientes de determinación\n",
        "print(\"Coeficiente de determinación:\", reg.score(X_train, y_train))"
      ],
      "metadata": {
        "colab": {
          "base_uri": "https://localhost:8080/"
        },
        "id": "werG4jQMsqPO",
        "outputId": "e358c8a4-0bc7-4dd7-9c98-6b6026f1b6fb"
      },
      "execution_count": null,
      "outputs": [
        {
          "output_type": "stream",
          "name": "stdout",
          "text": [
            "Coeficientes: [ 5.00000000e+01  8.14051985e-14 -6.12891167e-15]\n",
            "Sesgo (Coeficiente W0: -1.630837687116582e-10\n",
            "Coeficiente W1: 49.99999999999982\n",
            "Coeficiente W2: 8.140519850547618e-14\n",
            "Coeficiente de determinación: 1.0\n"
          ]
        }
      ]
    },
    {
      "cell_type": "markdown",
      "source": [
        "Es bastante frecuente que el problema del sesgo esté influenciado por un conjunto de datos simple en la regresión lineal, como sucede en este caso que estamos tratando.\n",
        "\n",
        "Cuando ya tenemos el código Python con el entrenamiento del modelo de la regresión múltiple y hemos calculado los coeficientes de determinación, el error cuadrático medio y el posible sesgo del algoritmo de ML, es el momento de mostrar los datos en una gráfica."
      ],
      "metadata": {
        "id": "DfrG0X8isuDl"
      }
    },
    {
      "cell_type": "markdown",
      "source": [
        "### **8.   Crear gráfico de la regresión lineal múltiple con Python matplotlib**\n",
        "\n",
        "\n",
        "Para mostrar los datos de la regresión lineal múltiple en Python usaremos la biblioteca matplotlib y su módulo pyplot."
      ],
      "metadata": {
        "id": "UQG91lxxs3Ze"
      }
    },
    {
      "cell_type": "code",
      "execution_count": null,
      "metadata": {
        "colab": {
          "base_uri": "https://localhost:8080/",
          "height": 472
        },
        "id": "GR7mYBTinugD",
        "outputId": "c6857212-45f0-44ce-e2b9-21e5b3315019"
      },
      "outputs": [
        {
          "output_type": "display_data",
          "data": {
            "text/plain": [
              "<Figure size 640x480 with 1 Axes>"
            ],
            "image/png": "[encoded data removed]"
          },
          "metadata": {}
        }
      ],
      "source": [
        "# Salida gráfica\n",
        "\n",
        "# Crear una figura y un eje\n",
        "fig, ax = plt.subplots()\n",
        "\n",
        "# Graficar los puntos de entrenamiento\n",
        "ax.scatter(X_train['sales'], y_train, color='blue', label='Entrenamiento')\n",
        "\n",
        "# Graficar los puntos de prueba\n",
        "ax.scatter(X_test['sales'], y_test, color='red', label='Prueba')\n",
        "\n",
        "# Graficar la recta de regresión\n",
        "ax.plot(X_test['sales'], y_pred, color='black', linewidth=2, label='Regresión')\n",
        "\n",
        "# Agregar etiquetas al eje X e Y\n",
        "ax.set_ylabel(\"billing_amount\")\n",
        "ax.set_xlabel(\"sales\")\n",
        "\n",
        "# Agregar un título al gráfico\n",
        "ax.set_title(\"Regresión lineal múltiple\")\n",
        "\n",
        "# Mostrar la leyenda\n",
        "ax.legend()\n",
        "\n",
        "# Mostrar el gráfico\n",
        "plt.show()"
      ]
    },
    {
      "cell_type": "markdown",
      "source": [
        "# **EJEMPLO 2**"
      ],
      "metadata": {
        "id": "zoXs9nywoBBY"
      }
    },
    {
      "cell_type": "markdown",
      "source": [
        "## Importación del conjunto de datos"
      ],
      "metadata": {
        "id": "XY5dfApotvkm"
      }
    },
    {
      "cell_type": "code",
      "source": [
        "dataset = pd.read_csv('50_Startups.csv')\n",
        "X = dataset.iloc[:, :-1].values\n",
        "y = dataset.iloc[:, -1].values"
      ],
      "metadata": {
        "id": "He1uS9V1toMa"
      },
      "execution_count": null,
      "outputs": []
    },
    {
      "cell_type": "markdown",
      "source": [
        "## Codificación de datos categóricos"
      ],
      "metadata": {
        "id": "IojyxOP-t2i2"
      }
    },
    {
      "cell_type": "code",
      "source": [
        "from sklearn.compose import ColumnTransformer\n",
        "from sklearn.preprocessing import OneHotEncoder\n",
        "ct = ColumnTransformer(transformers=[('encoder', OneHotEncoder(), [3])], remainder='passthrough')\n",
        "X = np.array(ct.fit_transform(X))"
      ],
      "metadata": {
        "id": "KcHLLF0Mt5O7"
      },
      "execution_count": null,
      "outputs": []
    },
    {
      "cell_type": "markdown",
      "source": [
        "## Dividir el conjunto de datos en el conjunto de entrenamiento y el conjunto de prueba"
      ],
      "metadata": {
        "id": "Mq237mDbuBT2"
      }
    },
    {
      "cell_type": "code",
      "source": [
        "from sklearn.model_selection import train_test_split\n",
        "X_train, X_test, y_train, y_test = train_test_split(X, y, test_size = 0.2, random_state = 0)"
      ],
      "metadata": {
        "id": "BwMtQqyruB49"
      },
      "execution_count": null,
      "outputs": []
    },
    {
      "cell_type": "markdown",
      "source": [
        "## Entrenamiento del modelo de regresión lineal múltiple en el conjunto de entrenamiento"
      ],
      "metadata": {
        "id": "oETUrweGuJnu"
      }
    },
    {
      "cell_type": "code",
      "source": [
        "from sklearn.linear_model import LinearRegression\n",
        "lm = regressor = LinearRegression()\n",
        "lm.fit(X_train, y_train)"
      ],
      "metadata": {
        "colab": {
          "base_uri": "https://localhost:8080/",
          "height": 75
        },
        "id": "vdaPmHhhuKy8",
        "outputId": "7d8d6c8b-6777-4893-cf48-8f28d2b1cd7c"
      },
      "execution_count": null,
      "outputs": [
        {
          "output_type": "execute_result",
          "data": {
            "text/plain": [
              "LinearRegression()"
            ],
            "text/html": [
              "<style>#sk-container-id-1 {color: black;background-color: white;}#sk-container-id-1 pre{padding: 0;}#sk-container-id-1 div.sk-toggleable {background-color: white;}#sk-container-id-1 label.sk-toggleable__label {cursor: pointer;display: block;width: 100%;margin-bottom: 0;padding: 0.3em;box-sizing: border-box;text-align: center;}#sk-container-id-1 label.sk-toggleable__label-arrow:before {content: \"▸\";float: left;margin-right: 0.25em;color: #696969;}#sk-container-id-1 label.sk-toggleable__label-arrow:hover:before {color: black;}#sk-container-id-1 div.sk-estimator:hover label.sk-toggleable__label-arrow:before {color: black;}#sk-container-id-1 div.sk-toggleable__content {max-height: 0;max-width: 0;overflow: hidden;text-align: left;background-color: #f0f8ff;}#sk-container-id-1 div.sk-toggleable__content pre {margin: 0.2em;color: black;border-radius: 0.25em;background-color: #f0f8ff;}#sk-container-id-1 input.sk-toggleable__control:checked~div.sk-toggleable__content {max-height: 200px;max-width: 100%;overflow: auto;}#sk-container-id-1 input.sk-toggleable__control:checked~label.sk-toggleable__label-arrow:before {content: \"▾\";}#sk-container-id-1 div.sk-estimator input.sk-toggleable__control:checked~label.sk-toggleable__label {background-color: #d4ebff;}#sk-container-id-1 div.sk-label input.sk-toggleable__control:checked~label.sk-toggleable__label {background-color: #d4ebff;}#sk-container-id-1 input.sk-hidden--visually {border: 0;clip: rect(1px 1px 1px 1px);clip: rect(1px, 1px, 1px, 1px);height: 1px;margin: -1px;overflow: hidden;padding: 0;position: absolute;width: 1px;}#sk-container-id-1 div.sk-estimator {font-family: monospace;background-color: #f0f8ff;border: 1px dotted black;border-radius: 0.25em;box-sizing: border-box;margin-bottom: 0.5em;}#sk-container-id-1 div.sk-estimator:hover {background-color: #d4ebff;}#sk-container-id-1 div.sk-parallel-item::after {content: \"\";width: 100%;border-bottom: 1px solid gray;flex-grow: 1;}#sk-container-id-1 div.sk-label:hover label.sk-toggleable__label {background-color: #d4ebff;}#sk-container-id-1 div.sk-serial::before {content: \"\";position: absolute;border-left: 1px solid gray;box-sizing: border-box;top: 0;bottom: 0;left: 50%;z-index: 0;}#sk-container-id-1 div.sk-serial {display: flex;flex-direction: column;align-items: center;background-color: white;padding-right: 0.2em;padding-left: 0.2em;position: relative;}#sk-container-id-1 div.sk-item {position: relative;z-index: 1;}#sk-container-id-1 div.sk-parallel {display: flex;align-items: stretch;justify-content: center;background-color: white;position: relative;}#sk-container-id-1 div.sk-item::before, #sk-container-id-1 div.sk-parallel-item::before {content: \"\";position: absolute;border-left: 1px solid gray;box-sizing: border-box;top: 0;bottom: 0;left: 50%;z-index: -1;}#sk-container-id-1 div.sk-parallel-item {display: flex;flex-direction: column;z-index: 1;position: relative;background-color: white;}#sk-container-id-1 div.sk-parallel-item:first-child::after {align-self: flex-end;width: 50%;}#sk-container-id-1 div.sk-parallel-item:last-child::after {align-self: flex-start;width: 50%;}#sk-container-id-1 div.sk-parallel-item:only-child::after {width: 0;}#sk-container-id-1 div.sk-dashed-wrapped {border: 1px dashed gray;margin: 0 0.4em 0.5em 0.4em;box-sizing: border-box;padding-bottom: 0.4em;background-color: white;}#sk-container-id-1 div.sk-label label {font-family: monospace;font-weight: bold;display: inline-block;line-height: 1.2em;}#sk-container-id-1 div.sk-label-container {text-align: center;}#sk-container-id-1 div.sk-container {/* jupyter's `normalize.less` sets `[hidden] { display: none; }` but bootstrap.min.css set `[hidden] { display: none !important; }` so we also need the `!important` here to be able to override the default hidden behavior on the sphinx rendered scikit-learn.org. See: https://github.com/scikit-learn/scikit-learn/issues/21755 */display: inline-block !important;position: relative;}#sk-container-id-1 div.sk-text-repr-fallback {display: none;}</style><div id=\"sk-container-id-1\" class=\"sk-top-container\"><div class=\"sk-text-repr-fallback\"><pre>LinearRegression()</pre><b>In a Jupyter environment, please rerun this cell to show the HTML representation or trust the notebook. <br />On GitHub, the HTML representation is unable to render, please try loading this page with nbviewer.org.</b></div><div class=\"sk-container\" hidden><div class=\"sk-item\"><div class=\"sk-estimator sk-toggleable\"><input class=\"sk-toggleable__control sk-hidden--visually\" id=\"sk-estimator-id-1\" type=\"checkbox\" checked><label for=\"sk-estimator-id-1\" class=\"sk-toggleable__label sk-toggleable__label-arrow\">LinearRegression</label><div class=\"sk-toggleable__content\"><pre>LinearRegression()</pre></div></div></div></div></div>"
            ]
          },
          "metadata": {},
          "execution_count": 46
        }
      ]
    },
    {
      "cell_type": "markdown",
      "source": [
        "## Predicción de los resultados del conjunto de pruebas"
      ],
      "metadata": {
        "id": "l37SNs6YuP_2"
      }
    },
    {
      "cell_type": "code",
      "source": [
        "y_pred = lm.predict(X_test)\n",
        "np.set_printoptions(precision=2)\n",
        "print(np.concatenate((y_pred.reshape(len(y_pred),1), y_test.reshape(len(y_test),1)),1))"
      ],
      "metadata": {
        "colab": {
          "base_uri": "https://localhost:8080/"
        },
        "id": "fIpBfHeauQub",
        "outputId": "6ebe9714-f4f1-4014-9618-eaa78b2298d0"
      },
      "execution_count": null,
      "outputs": [
        {
          "output_type": "stream",
          "name": "stdout",
          "text": [
            "[[103015.2  103282.38]\n",
            " [132582.28 144259.4 ]\n",
            " [132447.74 146121.95]\n",
            " [ 71976.1   77798.83]\n",
            " [178537.48 191050.39]\n",
            " [116161.24 105008.31]\n",
            " [ 67851.69  81229.06]\n",
            " [ 98791.73  97483.56]\n",
            " [113969.44 110352.25]\n",
            " [167921.07 166187.94]]\n"
          ]
        }
      ]
    },
    {
      "cell_type": "markdown",
      "source": [
        "### Crear gráfico de la regresión lineal múltiple con Python matplotlib"
      ],
      "metadata": {
        "id": "VPFMs7C1ukd-"
      }
    },
    {
      "cell_type": "code",
      "source": [
        "z = np.arange(len(y_pred))\n",
        "plt.plot( z, y_test, color = \"red\", marker = \"o\", label = \"Real value\")\n",
        "plt.plot( z, y_pred, color = \"blue\", marker = \"o\", label = \"Predicted value\")\n",
        "plt.title(\"Linear_model\")\n",
        "plt.xlabel(\"Number of samples\")\n",
        "plt.ylabel(\"starups\")\n",
        "plt.legend(loc = \"upper left\")"
      ],
      "metadata": {
        "colab": {
          "base_uri": "https://localhost:8080/",
          "height": 489
        },
        "id": "7vm5wbPmutfL",
        "outputId": "3a53f7c3-2498-4591-c30e-64ae9dcb82cf"
      },
      "execution_count": null,
      "outputs": [
        {
          "output_type": "execute_result",
          "data": {
            "text/plain": [
              "<matplotlib.legend.Legend at 0x7c3263450d60>"
            ]
          },
          "metadata": {},
          "execution_count": 48
        },
        {
          "output_type": "display_data",
          "data": {
            "text/plain": [
              "<Figure size 640x480 with 1 Axes>"
            ],
            "image/png": "[encoded data removed]"
          },
          "metadata": {}
        }
      ]
    },
    {
      "cell_type": "markdown",
      "source": [
        "# **Métricas de regresión**\n",
        "\n",
        "Las métricas de regresión en aprendizaje automático ml y cada modelo de Machine Learning que la utiliza intenta resolver un problema con un objetivo diferente utilizando un conjunto de datos diferente y, por lo tanto, es importante comprender el contexto antes de elegir una métrica.\n",
        "\n",
        "Generalmente, las respuestas a la siguiente pregunta nos ayudan a elegir la métrica apropiada:\n",
        "\n",
        "Tipo de tarea: ¿Regresión? ¿Clasificación?\n",
        "¿Objetivo de negocio?\n",
        "¿Cuál es la distribución de la variable objetivo?\n",
        "\n",
        "### Métricas de regresión en aprendizaje automático ml:\n",
        "\n",
        "\n",
        "- (MSE) – Error cuadrático medio\n",
        "- (RMSE) -Error cuadrático medio\n",
        "- (MAE) -Error absoluto medio\n",
        "- (R²) – R al cuadrado\n",
        "- R cuadrado ajustado (R²)\n",
        "- (MSPE) – Error de porcentaje cuadrático medio\n",
        "- (MAPE) – Error porcentual absoluto medio\n",
        "- (RMSLE) – Error logarítmico cuadrático medio\n",
        "\n",
        "\n",
        "### **MAE, MSE, RMSE, coeficiente de determinación, R cuadrado ajustado:**"
      ],
      "metadata": {
        "id": "7SJTszfZuzsG"
      }
    },
    {
      "cell_type": "markdown",
      "source": [
        "El paso esencial en cualquier modelo de aprendizaje automático es evaluar la precisión del modelo. Las métricas de error cuadrático medio, error cuadrático medio, error cuadrático medio y R cuadrado o coeficiente de determinación se utilizan para evaluar el rendimiento del modelo en el análisis de regresión."
      ],
      "metadata": {
        "id": "XG2bDyiTu_Um"
      }
    },
    {
      "cell_type": "markdown",
      "source": [
        "**MAE.** El error absoluto medio representa el promedio de la diferencia absoluta entre los valores reales y previstos en el conjunto de datos. Mide el promedio de los residuos en el conjunto de datos.\n",
        "\n",
        "\\begin{equation}\n",
        "M A E=\\frac{1}{N} \\sum_{i=1}^N\\left|y_i-\\hat{y}\\right|\n",
        "\\end{equation}\n",
        "\n",
        "Donde,\n",
        "$$\n",
        "\\begin{aligned}\n",
        "& \\hat{y}-\\text { predicted value of } y \\\\\n",
        "& \\bar{y}-\\text { mean value of } y\n",
        "\\end{aligned}\n",
        "$$\n",
        "\n",
        "**MSE**. El error cuadrático medio representa el promedio de la diferencia al cuadrado entre los valores originales y predichos en el conjunto de datos. Mide la varianza de los residuos.\n",
        "\n",
        "\\begin{equation}\n",
        "M S E=\\frac{1}{N} \\sum_{i=1}^N\\left(y_i-\\hat{y}\\right)^2\n",
        "\\end{equation}\n",
        "\n",
        "Donde,\n",
        "$$\n",
        "\\begin{aligned}\n",
        "& \\hat{y}-\\text { predicted value of } y \\\\\n",
        "& \\bar{y}-\\text { mean value of } y\n",
        "\\end{aligned}\n",
        "$$\n",
        "\n",
        "\n",
        "**Ventaja:**\n",
        "Útil si tenemos valores inesperados que nos deberían interesar. Muy alto o bajo valor que debemos prestar atención.\n",
        "\n",
        "**Desventaja:**\n",
        "Si hacemos una predicción muy mala, la cuadratura empeorará aún más el error y puede sesgar la métrica para sobreestimar la maldad del modelo. Este es un comportamiento particularmente problemático si tenemos datos ruidosos (es decir, los datos que por cualquier motivo no son del todo confiables).\n",
        "\n",
        "Incluso un modelo “perfecto” puede tener un MSE alto en esa situación. Por lo que es difícil juzgar qué tan bien modelo está realizando.\n",
        "\n",
        "Por otro lado, si todos los errores son pequeños, o más bien, más pequeños que 1, se siente el efecto contrario: podemos subestimar la maldad del modelo.\n",
        "\n",
        "\n",
        "**RMSE**. El error cuadrático medio es la raíz cuadrada del error cuadrático medio. Mide la desviación estándar de los residuos.\n",
        "\n",
        "\\begin{equation}\n",
        "R M S E=\\sqrt{M S E}=\\sqrt{\\frac{1}{N} \\sum_{i=1}^N\\left(y_i-\\hat{y}\\right)^2}\n",
        "\\end{equation}\n",
        "\n",
        "$R^2$. El coeficiente de determinación o `R cuadrado` representa la proporción de la varianza en la variable dependiente que se explica por el modelo de regresión lineal. Es una puntuación sin escala, es decir, independientemente de que los valores sean pequeños o grandes, el valor de R cuadrado será menor que uno.\n",
        "\n",
        "\\begin{equation}\n",
        "R^2=1-\\frac{\\sum\\left(y_i-\\hat{y}\\right)^2}{\\sum\\left(y_i-\\bar{y}\\right)^2}\n",
        "\\end{equation}\n",
        "\n",
        "### **Diferencias entre estas métricas de evaluación**\n",
        "\n",
        "- El error cuadrático medio (MSE) y el error cuadrático medio penalizan los grandes errores de predicción frente al error absoluto medio (MAE). Sin embargo, RMSE se usa ampliamente que MSE para evaluar el desempeño del modelo de regresión con otros modelos aleatorios, ya que tiene las mismas unidades que la variable dependiente (eje Y).\n",
        "\n",
        "- MSE es una función diferenciable que facilita la realización de operaciones matemáticas en comparación con una función no diferenciable como MAE. Por lo tanto, en muchos modelos, RMSE se utiliza como métrica predeterminada para calcular la función de pérdida a pesar de ser más difícil de interpretar que MAE.\n",
        "\n",
        "- El valor más bajo de MAE, MSE y RMSE implica una mayor precisión de un modelo de regresión. Sin embargo, se considera deseable un valor más alto de R cuadrado.\n",
        "\n",
        "- R cuadrado y R cuadrado ajustado se utilizan para explicar qué tan bien las variables independientes en el modelo de regresión lineal explican la variabilidad en la variable dependiente. El valor de R cuadrado siempre aumenta con la suma de las variables independientes, lo que podría llevar a la suma de variables redundantes en nuestro modelo. Sin embargo, el R cuadrado ajustado resuelve este problema."
      ],
      "metadata": {
        "id": "w3DQnF6jvA_G"
      }
    },
    {
      "cell_type": "code",
      "source": [
        "# Evaluating Model\n",
        "from sklearn.metrics import mean_squared_error, r2_score\n",
        "lm.score(X_test, y_test)\n",
        "r2_lm = r2_score(y_test, y_pred)\n",
        "print(\"R^2 test lm: %.4f \" %r2_lm )\n",
        "mse_lm = mean_squared_error(y_test,y_pred)\n",
        "print(\"MSE lm: %.4f\" % mse_lm)\n",
        "rmse_lm = np.sqrt(mse_lm)\n",
        "print(\"RMSE lm: %.4f\" % rmse_lm)"
      ],
      "metadata": {
        "colab": {
          "base_uri": "https://localhost:8080/"
        },
        "id": "xJvW0P9BuuLb",
        "outputId": "60dc65d4-669e-49c9-ebe6-9bc35a130512"
      },
      "execution_count": null,
      "outputs": [
        {
          "output_type": "stream",
          "name": "stdout",
          "text": [
            "R^2 test lm: 0.9347 \n",
            "MSE lm: 83502864.0326\n",
            "RMSE lm: 9137.9902\n"
          ]
        }
      ]
    }
  ]
}